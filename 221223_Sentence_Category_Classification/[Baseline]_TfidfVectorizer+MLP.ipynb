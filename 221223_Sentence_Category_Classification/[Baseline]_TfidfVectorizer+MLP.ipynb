{
 "cells": [
  {
   "cell_type": "markdown",
   "id": "a2bcba5f-002e-4f49-9622-ada6117faf0a",
   "metadata": {},
   "source": [
    "## Import"
   ]
  },
  {
   "cell_type": "code",
   "execution_count": 1,
   "id": "2b0d9b68-7102-4eca-9543-3b9b8acafc6e",
   "metadata": {
    "ExecuteTime": {
     "end_time": "2022-12-15T07:24:22.624777Z",
     "start_time": "2022-12-15T07:24:20.407156Z"
    }
   },
   "outputs": [],
   "source": [
    "import random\n",
    "import pandas as pd\n",
    "import numpy as np\n",
    "import os\n",
    "\n",
    "from sklearn.model_selection import train_test_split\n",
    "from sklearn.feature_extraction.text import TfidfVectorizer\n",
    "from sklearn import preprocessing\n",
    "from sklearn.metrics import f1_score\n",
    "\n",
    "import torch\n",
    "import torch.nn as nn\n",
    "import torch.optim as optim\n",
    "import torch.nn.functional as F\n",
    "from torch.utils.data import Dataset, DataLoader\n",
    "\n",
    "from tqdm.auto import tqdm\n",
    "\n",
    "import warnings\n",
    "warnings.filterwarnings(action='ignore') "
   ]
  },
  {
   "cell_type": "code",
   "execution_count": 2,
   "id": "d13862e3-bb27-47af-9b58-a9fbf804df71",
   "metadata": {
    "ExecuteTime": {
     "end_time": "2022-12-15T07:24:22.627777Z",
     "start_time": "2022-12-15T07:24:22.626001Z"
    }
   },
   "outputs": [],
   "source": [
    "device = torch.device('cuda') if torch.cuda.is_available() else torch.device('cpu')"
   ]
  },
  {
   "cell_type": "markdown",
   "id": "fc7df3f2-62d0-4499-a46e-47d01699def0",
   "metadata": {},
   "source": [
    "## Hyperparameter Setting"
   ]
  },
  {
   "cell_type": "code",
   "execution_count": 3,
   "id": "c3367399-9798-4e38-967b-fd2320b9a2b2",
   "metadata": {
    "ExecuteTime": {
     "end_time": "2022-12-15T07:24:23.907630Z",
     "start_time": "2022-12-15T07:24:23.903027Z"
    }
   },
   "outputs": [],
   "source": [
    "CFG = {\n",
    "    'EPOCHS':10,\n",
    "    'LEARNING_RATE':1e-4,\n",
    "    'BATCH_SIZE':256,\n",
    "    'SEED':41\n",
    "}"
   ]
  },
  {
   "cell_type": "markdown",
   "id": "4254e860-ff82-43ba-bfa3-fcee4eb3ddbd",
   "metadata": {},
   "source": [
    "## Fixed RandomSeed"
   ]
  },
  {
   "cell_type": "code",
   "execution_count": 4,
   "id": "101a714b-71b6-4475-a4ce-fa5f98bc2731",
   "metadata": {
    "ExecuteTime": {
     "end_time": "2022-12-15T07:24:25.023188Z",
     "start_time": "2022-12-15T07:24:25.014555Z"
    }
   },
   "outputs": [],
   "source": [
    "def seed_everything(seed):\n",
    "    random.seed(seed)\n",
    "    os.environ['PYTHONHASHSEED'] = str(seed)\n",
    "    np.random.seed(seed)\n",
    "    torch.manual_seed(seed)\n",
    "    torch.cuda.manual_seed(seed)\n",
    "    torch.backends.cudnn.deterministic = True\n",
    "    torch.backends.cudnn.benchmark = True\n",
    "\n",
    "seed_everything(CFG['SEED']) # Seed 고정"
   ]
  },
  {
   "cell_type": "markdown",
   "id": "05a4172e-5791-446f-9616-35c09d8bf25a",
   "metadata": {},
   "source": [
    "## Data Load"
   ]
  },
  {
   "cell_type": "code",
   "execution_count": 6,
   "id": "a62c78cd-4f40-4e98-b8a6-1b6f1d906b4d",
   "metadata": {
    "ExecuteTime": {
     "end_time": "2022-12-15T07:24:36.118654Z",
     "start_time": "2022-12-15T07:24:36.012608Z"
    }
   },
   "outputs": [],
   "source": [
    "df = pd.read_csv('data/train.csv')\n",
    "test = pd.read_csv('data/test.csv')"
   ]
  },
  {
   "cell_type": "markdown",
   "id": "eadddcd3-67c3-440f-ba33-2615d366108f",
   "metadata": {},
   "source": [
    "## Train / Validation Split"
   ]
  },
  {
   "cell_type": "code",
   "execution_count": 7,
   "id": "a40f7770-b70c-4146-8082-ffc4f3a68593",
   "metadata": {
    "ExecuteTime": {
     "end_time": "2022-12-15T07:24:38.303475Z",
     "start_time": "2022-12-15T07:24:38.290165Z"
    }
   },
   "outputs": [],
   "source": [
    "# 제공된 학습데이터를 학습 / 검증 데이터셋으로 재 분할\n",
    "train, val, _, _ = train_test_split(df, df['label'], test_size=0.2, random_state=CFG['SEED'])"
   ]
  },
  {
   "cell_type": "markdown",
   "id": "11fa2def-f91c-4fd5-af02-9587c63f92ba",
   "metadata": {},
   "source": [
    "## Data Pre-processing\n",
    "### 1. 문장(Text) 벡터화\n",
    "### 2. Label Encoding (유형, 극성, 시제, 확실성)"
   ]
  },
  {
   "cell_type": "code",
   "execution_count": 8,
   "id": "7220f611-5a03-4c72-95f1-e39affa133c7",
   "metadata": {
    "ExecuteTime": {
     "end_time": "2022-12-15T07:24:47.556231Z",
     "start_time": "2022-12-15T07:24:47.041148Z"
    }
   },
   "outputs": [
    {
     "name": "stdout",
     "output_type": "stream",
     "text": [
      "(13232, 9351) (3309, 9351) (7090, 9351)\n"
     ]
    }
   ],
   "source": [
    "# 1. 문장(Text) 벡터화 -> TfidfVectorizer\n",
    "vectorizer = TfidfVectorizer(min_df = 4, analyzer = 'word', ngram_range=(1, 2))\n",
    "vectorizer.fit(np.array(train[\"문장\"]))\n",
    "\n",
    "train_vec = vectorizer.transform(train[\"문장\"])\n",
    "val_vec = vectorizer.transform(val[\"문장\"])\n",
    "test_vec = vectorizer.transform(test[\"문장\"])\n",
    "\n",
    "print(train_vec.shape, val_vec.shape, test_vec.shape)"
   ]
  },
  {
   "cell_type": "code",
   "execution_count": 9,
   "id": "90e50c2a-6494-4a58-b0e2-f91358cf0315",
   "metadata": {
    "ExecuteTime": {
     "end_time": "2022-12-15T07:24:49.189715Z",
     "start_time": "2022-12-15T07:24:49.161730Z"
    }
   },
   "outputs": [],
   "source": [
    "# 2. Label Encoding (유형, 극성, 시제, 확실성)\n",
    "type_le = preprocessing.LabelEncoder()\n",
    "train[\"유형\"] = type_le.fit_transform(train[\"유형\"].values)\n",
    "val[\"유형\"] = type_le.transform(val[\"유형\"].values)\n",
    "\n",
    "polarity_le = preprocessing.LabelEncoder()\n",
    "train[\"극성\"] = polarity_le.fit_transform(train[\"극성\"].values)\n",
    "val[\"극성\"] = polarity_le.transform(val[\"극성\"].values)\n",
    "\n",
    "tense_le = preprocessing.LabelEncoder()\n",
    "train[\"시제\"] = tense_le.fit_transform(train[\"시제\"].values)\n",
    "val[\"시제\"] = tense_le.transform(val[\"시제\"].values)\n",
    "\n",
    "certainty_le = preprocessing.LabelEncoder()\n",
    "train[\"확실성\"] = certainty_le.fit_transform(train[\"확실성\"].values)\n",
    "val[\"확실성\"] = certainty_le.transform(val[\"확실성\"].values)"
   ]
  },
  {
   "cell_type": "code",
   "execution_count": 10,
   "id": "cf73e89a-7e4c-4c7d-86cf-f784ee48aa75",
   "metadata": {
    "ExecuteTime": {
     "end_time": "2022-12-15T07:24:49.685244Z",
     "start_time": "2022-12-15T07:24:49.679952Z"
    }
   },
   "outputs": [],
   "source": [
    "train_type = train[\"유형\"].values # sentence type\n",
    "train_polarity = train[\"극성\"].values # sentence polarity\n",
    "train_tense = train[\"시제\"].values # sentence tense\n",
    "train_certainty = train[\"확실성\"].values # sentence certainty\n",
    "\n",
    "train_labels = {\n",
    "    'type' : train_type,\n",
    "    'polarity' : train_polarity,\n",
    "    'tense' : train_tense,\n",
    "    'certainty' : train_certainty\n",
    "}"
   ]
  },
  {
   "cell_type": "code",
   "execution_count": 11,
   "id": "3a9d0138-5f6a-456c-baec-b7fb9e026131",
   "metadata": {
    "ExecuteTime": {
     "end_time": "2022-12-15T07:24:50.606168Z",
     "start_time": "2022-12-15T07:24:50.601410Z"
    }
   },
   "outputs": [],
   "source": [
    "val_type = val[\"유형\"].values # sentence type\n",
    "val_polarity = val[\"극성\"].values # sentence polarity\n",
    "val_tense = val[\"시제\"].values # sentence tense\n",
    "val_certainty = val[\"확실성\"].values # sentence certainty\n",
    "\n",
    "val_labels = {\n",
    "    'type' : val_type,\n",
    "    'polarity' : val_polarity,\n",
    "    'tense' : val_tense,\n",
    "    'certainty' : val_certainty\n",
    "}"
   ]
  },
  {
   "cell_type": "markdown",
   "id": "ac27ed36-8031-47a7-bd0d-a913513f2e8e",
   "metadata": {},
   "source": [
    "## CustomDataset"
   ]
  },
  {
   "cell_type": "code",
   "execution_count": 12,
   "id": "16fd60a5-24e2-4539-bfd0-1c374a641699",
   "metadata": {
    "ExecuteTime": {
     "end_time": "2022-12-15T07:24:52.442410Z",
     "start_time": "2022-12-15T07:24:52.436097Z"
    }
   },
   "outputs": [],
   "source": [
    "class CustomDataset(Dataset):\n",
    "    def __init__(self, st_vec, st_labels):\n",
    "        self.st_vec = st_vec\n",
    "        self.st_labels = st_labels\n",
    "\n",
    "    def __getitem__(self, index):\n",
    "        st_vector = torch.FloatTensor(self.st_vec[index].toarray()).squeeze(0)\n",
    "        if self.st_labels is not None:\n",
    "            st_type = self.st_labels['type'][index]\n",
    "            st_polarity = self.st_labels['polarity'][index]\n",
    "            st_tense = self.st_labels['tense'][index]\n",
    "            st_certainty = self.st_labels['certainty'][index]\n",
    "            return st_vector, st_type, st_polarity, st_tense, st_certainty\n",
    "        else:\n",
    "            return st_vector\n",
    "\n",
    "    def __len__(self):\n",
    "        return len(self.st_vec.toarray())"
   ]
  },
  {
   "cell_type": "code",
   "execution_count": 13,
   "id": "9d880481-1965-499d-9caa-fdfa8526f789",
   "metadata": {
    "ExecuteTime": {
     "end_time": "2022-12-15T07:24:52.787806Z",
     "start_time": "2022-12-15T07:24:52.599633Z"
    }
   },
   "outputs": [],
   "source": [
    "train_dataset = CustomDataset(train_vec, train_labels)\n",
    "train_loader = DataLoader(train_dataset, batch_size = CFG['BATCH_SIZE'], shuffle=True, num_workers=0)\n",
    "\n",
    "val_dataset = CustomDataset(val_vec, val_labels)\n",
    "val_loader = DataLoader(val_dataset, batch_size = CFG['BATCH_SIZE'], shuffle=False, num_workers=0)"
   ]
  },
  {
   "cell_type": "markdown",
   "id": "39962463-032f-490a-a76d-c03991795f38",
   "metadata": {},
   "source": [
    "## Model Define"
   ]
  },
  {
   "cell_type": "code",
   "execution_count": 14,
   "id": "3664c4d0-f1f2-4971-9090-4d6ee66309ae",
   "metadata": {
    "ExecuteTime": {
     "end_time": "2022-12-15T07:24:54.487650Z",
     "start_time": "2022-12-15T07:24:54.471606Z"
    }
   },
   "outputs": [],
   "source": [
    "class BaseModel(nn.Module):\n",
    "    def __init__(self, input_dim=9351):\n",
    "        super(BaseModel, self).__init__()\n",
    "        self.feature_extract = nn.Sequential(\n",
    "            nn.Linear(in_features=input_dim, out_features=1024),\n",
    "            nn.BatchNorm1d(1024),\n",
    "            nn.LeakyReLU(),\n",
    "            nn.Linear(in_features=1024, out_features=1024),\n",
    "            nn.BatchNorm1d(1024),\n",
    "            nn.LeakyReLU(),\n",
    "            nn.Linear(in_features=1024, out_features=512),\n",
    "            nn.BatchNorm1d(512),\n",
    "            nn.LeakyReLU(),\n",
    "        )\n",
    "        self.type_classifier = nn.Sequential(\n",
    "            nn.Dropout(p=0.3),\n",
    "            nn.Linear(in_features=512, out_features=4),\n",
    "        )\n",
    "        self.polarity_classifier = nn.Sequential(\n",
    "            nn.Dropout(p=0.3),\n",
    "            nn.Linear(in_features=512, out_features=3),\n",
    "        )\n",
    "        self.tense_classifier = nn.Sequential(\n",
    "            nn.Dropout(p=0.3),\n",
    "            nn.Linear(in_features=512, out_features=3),\n",
    "        )\n",
    "        self.certainty_classifier = nn.Sequential(\n",
    "            nn.Dropout(p=0.3),\n",
    "            nn.Linear(in_features=512, out_features=2),\n",
    "        )\n",
    "            \n",
    "    def forward(self, x):\n",
    "        x = self.feature_extract(x)\n",
    "        # 문장 유형, 극성, 시제, 확실성을 각각 분류\n",
    "        type_output = self.type_classifier(x)\n",
    "        polarity_output = self.polarity_classifier(x)\n",
    "        tense_output = self.tense_classifier(x)\n",
    "        certainty_output = self.certainty_classifier(x)\n",
    "        return type_output, polarity_output, tense_output, certainty_output"
   ]
  },
  {
   "cell_type": "markdown",
   "id": "122af0aa-a1fd-4595-9488-35761e3cb596",
   "metadata": {},
   "source": [
    "## Train"
   ]
  },
  {
   "cell_type": "code",
   "execution_count": 18,
   "id": "a17df6b3-16c9-44dd-b0fd-ffb501fee749",
   "metadata": {
    "ExecuteTime": {
     "end_time": "2022-12-15T07:25:19.572812Z",
     "start_time": "2022-12-15T07:25:19.558801Z"
    }
   },
   "outputs": [],
   "source": [
    "def train(model, optimizer, train_loader, val_loader, scheduler, device):\n",
    "    model.to(device)\n",
    "    \n",
    "    criterion = {\n",
    "        'type' : nn.CrossEntropyLoss().to(device),\n",
    "        'polarity' : nn.CrossEntropyLoss().to(device),\n",
    "        'tense' : nn.CrossEntropyLoss().to(device),\n",
    "        'certainty' : nn.CrossEntropyLoss().to(device)\n",
    "    }\n",
    "    \n",
    "    best_loss = 999999\n",
    "    best_model = None\n",
    "    \n",
    "    for epoch in range(1, CFG['EPOCHS']+1):\n",
    "        model.train()\n",
    "        train_loss = []\n",
    "        for sentence, type_label, polarity_label, tense_label, certainty_label in tqdm(iter(train_loader)):\n",
    "            sentence = sentence.to(device)\n",
    "            type_label = type_label.to(device)\n",
    "            polarity_label = polarity_label.to(device)\n",
    "            tense_label = tense_label.to(device)\n",
    "            certainty_label = certainty_label.to(device)\n",
    "            \n",
    "            optimizer.zero_grad()\n",
    "            \n",
    "            type_logit, polarity_logit, tense_logit, certainty_logit = model(sentence)\n",
    "            \n",
    "            loss = 0.25 * criterion['type'](type_logit, type_label) + \\\n",
    "                    0.25 * criterion['polarity'](polarity_logit, polarity_label) + \\\n",
    "                    0.25 * criterion['tense'](tense_logit, tense_label) + \\\n",
    "                    0.25 * criterion['certainty'](certainty_logit, certainty_label)\n",
    "            \n",
    "            loss.backward()\n",
    "            optimizer.step()\n",
    "            \n",
    "            train_loss.append(loss.item())\n",
    "        \n",
    "        val_loss, val_type_f1, val_polarity_f1, val_tense_f1, val_certainty_f1 = validation(model, val_loader, criterion, device)\n",
    "        print(f'Epoch : [{epoch}] Train Loss : [{np.mean(train_loss):.5f}] Val Loss : [{val_loss:.5f}] 유형 F1 : [{val_type_f1:.5f}] 극성 F1 : [{val_polarity_f1:.5f}] 시제 F1 : [{val_tense_f1:.5f}] 확실성 F1 : [{val_certainty_f1:.5f}]')\n",
    "        \n",
    "        if scheduler is not None:\n",
    "            scheduler.step(val_loss)\n",
    "            \n",
    "        if best_loss > val_loss:\n",
    "            best_loss = val_loss\n",
    "            best_model = model\n",
    "            \n",
    "    return best_model"
   ]
  },
  {
   "cell_type": "code",
   "execution_count": 19,
   "id": "82449166-e798-491e-94f1-d42f8f0fa35f",
   "metadata": {
    "ExecuteTime": {
     "end_time": "2022-12-15T07:25:19.952102Z",
     "start_time": "2022-12-15T07:25:19.937969Z"
    }
   },
   "outputs": [],
   "source": [
    "def validation(model, val_loader, criterion, device):\n",
    "    model.eval()\n",
    "    val_loss = []\n",
    "    \n",
    "    type_preds, polarity_preds, tense_preds, certainty_preds = [], [], [], []\n",
    "    type_labels, polarity_labels, tense_labels, certainty_labels = [], [], [], []\n",
    "    \n",
    "    \n",
    "    with torch.no_grad():\n",
    "        for sentence, type_label, polarity_label, tense_label, certainty_label in tqdm(iter(val_loader)):\n",
    "            sentence = sentence.to(device)\n",
    "            type_label = type_label.to(device)\n",
    "            polarity_label = polarity_label.to(device)\n",
    "            tense_label = tense_label.to(device)\n",
    "            certainty_label = certainty_label.to(device)\n",
    "            \n",
    "            type_logit, polarity_logit, tense_logit, certainty_logit = model(sentence)\n",
    "            \n",
    "            loss = 0.25 * criterion['type'](type_logit, type_label) + \\\n",
    "                    0.25 * criterion['polarity'](polarity_logit, polarity_label) + \\\n",
    "                    0.25 * criterion['tense'](tense_logit, tense_label) + \\\n",
    "                    0.25 * criterion['certainty'](certainty_logit, certainty_label)\n",
    "            \n",
    "            val_loss.append(loss.item())\n",
    "            \n",
    "            type_preds += type_logit.argmax(1).detach().cpu().numpy().tolist()\n",
    "            type_labels += type_label.detach().cpu().numpy().tolist()\n",
    "            \n",
    "            polarity_preds += polarity_logit.argmax(1).detach().cpu().numpy().tolist()\n",
    "            polarity_labels += polarity_label.detach().cpu().numpy().tolist()\n",
    "            \n",
    "            tense_preds += tense_logit.argmax(1).detach().cpu().numpy().tolist()\n",
    "            tense_labels += tense_label.detach().cpu().numpy().tolist()\n",
    "            \n",
    "            certainty_preds += certainty_logit.argmax(1).detach().cpu().numpy().tolist()\n",
    "            certainty_labels += certainty_label.detach().cpu().numpy().tolist()\n",
    "    \n",
    "    type_f1 = f1_score(type_labels, type_preds, average='weighted')\n",
    "    polarity_f1 = f1_score(polarity_labels, polarity_preds, average='weighted')\n",
    "    tense_f1 = f1_score(tense_labels, tense_preds, average='weighted')\n",
    "    certainty_f1 = f1_score(certainty_labels, certainty_preds, average='weighted')\n",
    "    \n",
    "    return np.mean(val_loss), type_f1, polarity_f1, tense_f1, certainty_f1"
   ]
  },
  {
   "cell_type": "markdown",
   "id": "51da39f9-904f-4abd-a7d2-cdf29c4a6c24",
   "metadata": {},
   "source": [
    "## Run!!"
   ]
  },
  {
   "cell_type": "code",
   "execution_count": 20,
   "id": "86142d9a-68b7-4d04-8423-49d28025411d",
   "metadata": {
    "ExecuteTime": {
     "end_time": "2022-12-15T07:26:25.634179Z",
     "start_time": "2022-12-15T07:25:21.715166Z"
    },
    "tags": []
   },
   "outputs": [
    {
     "data": {
      "application/vnd.jupyter.widget-view+json": {
       "model_id": "304facd804074d5f9a86a095d894010e",
       "version_major": 2,
       "version_minor": 0
      },
      "text/plain": [
       "  0%|          | 0/52 [00:00<?, ?it/s]"
      ]
     },
     "metadata": {},
     "output_type": "display_data"
    },
    {
     "data": {
      "application/vnd.jupyter.widget-view+json": {
       "model_id": "d1b5ba33d8d54563b3b3ef4eccde7595",
       "version_major": 2,
       "version_minor": 0
      },
      "text/plain": [
       "  0%|          | 0/13 [00:00<?, ?it/s]"
      ]
     },
     "metadata": {},
     "output_type": "display_data"
    },
    {
     "name": "stdout",
     "output_type": "stream",
     "text": [
      "Epoch : [1] Train Loss : [0.76391] Val Loss : [0.58951] 유형 F1 : [0.73452] 극성 F1 : [0.93030] 시제 F1 : [0.51858] 확실성 F1 : [0.87274]\n"
     ]
    },
    {
     "data": {
      "application/vnd.jupyter.widget-view+json": {
       "model_id": "536c2987cf2d478386dae62dd3358bb9",
       "version_major": 2,
       "version_minor": 0
      },
      "text/plain": [
       "  0%|          | 0/52 [00:00<?, ?it/s]"
      ]
     },
     "metadata": {},
     "output_type": "display_data"
    },
    {
     "data": {
      "application/vnd.jupyter.widget-view+json": {
       "model_id": "222a0953b80349069e77b8ec94043cda",
       "version_major": 2,
       "version_minor": 0
      },
      "text/plain": [
       "  0%|          | 0/13 [00:00<?, ?it/s]"
      ]
     },
     "metadata": {},
     "output_type": "display_data"
    },
    {
     "name": "stdout",
     "output_type": "stream",
     "text": [
      "Epoch : [2] Train Loss : [0.30240] Val Loss : [0.45274] 유형 F1 : [0.77352] 극성 F1 : [0.93860] 시제 F1 : [0.69593] 확실성 F1 : [0.87789]\n"
     ]
    },
    {
     "data": {
      "application/vnd.jupyter.widget-view+json": {
       "model_id": "c53c23a474d8413dae1bf6c352949f60",
       "version_major": 2,
       "version_minor": 0
      },
      "text/plain": [
       "  0%|          | 0/52 [00:00<?, ?it/s]"
      ]
     },
     "metadata": {},
     "output_type": "display_data"
    },
    {
     "data": {
      "application/vnd.jupyter.widget-view+json": {
       "model_id": "5a0d85b69f214b8989e29aab0a70136c",
       "version_major": 2,
       "version_minor": 0
      },
      "text/plain": [
       "  0%|          | 0/13 [00:00<?, ?it/s]"
      ]
     },
     "metadata": {},
     "output_type": "display_data"
    },
    {
     "name": "stdout",
     "output_type": "stream",
     "text": [
      "Epoch : [3] Train Loss : [0.15353] Val Loss : [0.42707] 유형 F1 : [0.77960] 극성 F1 : [0.94649] 시제 F1 : [0.70631] 확실성 F1 : [0.88410]\n"
     ]
    },
    {
     "data": {
      "application/vnd.jupyter.widget-view+json": {
       "model_id": "f4dad2b6e219473f92f4fc2a18d91ea3",
       "version_major": 2,
       "version_minor": 0
      },
      "text/plain": [
       "  0%|          | 0/52 [00:00<?, ?it/s]"
      ]
     },
     "metadata": {},
     "output_type": "display_data"
    },
    {
     "data": {
      "application/vnd.jupyter.widget-view+json": {
       "model_id": "77868598882a4ccfb6892035f8bd2965",
       "version_major": 2,
       "version_minor": 0
      },
      "text/plain": [
       "  0%|          | 0/13 [00:00<?, ?it/s]"
      ]
     },
     "metadata": {},
     "output_type": "display_data"
    },
    {
     "name": "stdout",
     "output_type": "stream",
     "text": [
      "Epoch : [4] Train Loss : [0.08842] Val Loss : [0.42890] 유형 F1 : [0.78780] 극성 F1 : [0.94873] 시제 F1 : [0.70845] 확실성 F1 : [0.88688]\n"
     ]
    },
    {
     "data": {
      "application/vnd.jupyter.widget-view+json": {
       "model_id": "f999ceb65067428aba5890387b179911",
       "version_major": 2,
       "version_minor": 0
      },
      "text/plain": [
       "  0%|          | 0/52 [00:00<?, ?it/s]"
      ]
     },
     "metadata": {},
     "output_type": "display_data"
    },
    {
     "data": {
      "application/vnd.jupyter.widget-view+json": {
       "model_id": "7cb0d0123a834d18a5e72570e4a25127",
       "version_major": 2,
       "version_minor": 0
      },
      "text/plain": [
       "  0%|          | 0/13 [00:00<?, ?it/s]"
      ]
     },
     "metadata": {},
     "output_type": "display_data"
    },
    {
     "name": "stdout",
     "output_type": "stream",
     "text": [
      "Epoch : [5] Train Loss : [0.05723] Val Loss : [0.43929] 유형 F1 : [0.78935] 극성 F1 : [0.94946] 시제 F1 : [0.70509] 확실성 F1 : [0.88831]\n"
     ]
    },
    {
     "data": {
      "application/vnd.jupyter.widget-view+json": {
       "model_id": "5fbd2a92a3604e2ab3a53e00e6770294",
       "version_major": 2,
       "version_minor": 0
      },
      "text/plain": [
       "  0%|          | 0/52 [00:00<?, ?it/s]"
      ]
     },
     "metadata": {},
     "output_type": "display_data"
    },
    {
     "data": {
      "application/vnd.jupyter.widget-view+json": {
       "model_id": "7d77e7aa79e0479e8e9b49d81e3e4a9e",
       "version_major": 2,
       "version_minor": 0
      },
      "text/plain": [
       "  0%|          | 0/13 [00:00<?, ?it/s]"
      ]
     },
     "metadata": {},
     "output_type": "display_data"
    },
    {
     "name": "stdout",
     "output_type": "stream",
     "text": [
      "Epoch : [6] Train Loss : [0.04141] Val Loss : [0.44575] 유형 F1 : [0.79033] 극성 F1 : [0.94970] 시제 F1 : [0.70932] 확실성 F1 : [0.89242]\n",
      "Epoch 00006: reducing learning rate of group 0 to 5.0000e-05.\n"
     ]
    },
    {
     "data": {
      "application/vnd.jupyter.widget-view+json": {
       "model_id": "d9fc155acb2c4886b5b2ed07f34d40a2",
       "version_major": 2,
       "version_minor": 0
      },
      "text/plain": [
       "  0%|          | 0/52 [00:00<?, ?it/s]"
      ]
     },
     "metadata": {},
     "output_type": "display_data"
    },
    {
     "data": {
      "application/vnd.jupyter.widget-view+json": {
       "model_id": "36fcc2fa05c3482497896b707650c59e",
       "version_major": 2,
       "version_minor": 0
      },
      "text/plain": [
       "  0%|          | 0/13 [00:00<?, ?it/s]"
      ]
     },
     "metadata": {},
     "output_type": "display_data"
    },
    {
     "name": "stdout",
     "output_type": "stream",
     "text": [
      "Epoch : [7] Train Loss : [0.03294] Val Loss : [0.44917] 유형 F1 : [0.79017] 극성 F1 : [0.95110] 시제 F1 : [0.70728] 확실성 F1 : [0.89192]\n"
     ]
    },
    {
     "data": {
      "application/vnd.jupyter.widget-view+json": {
       "model_id": "67a32425430a42fd91e762b36af2da23",
       "version_major": 2,
       "version_minor": 0
      },
      "text/plain": [
       "  0%|          | 0/52 [00:00<?, ?it/s]"
      ]
     },
     "metadata": {},
     "output_type": "display_data"
    },
    {
     "data": {
      "application/vnd.jupyter.widget-view+json": {
       "model_id": "9673fca907624261a508b4542a462ec2",
       "version_major": 2,
       "version_minor": 0
      },
      "text/plain": [
       "  0%|          | 0/13 [00:00<?, ?it/s]"
      ]
     },
     "metadata": {},
     "output_type": "display_data"
    },
    {
     "name": "stdout",
     "output_type": "stream",
     "text": [
      "Epoch : [8] Train Loss : [0.02855] Val Loss : [0.45379] 유형 F1 : [0.78905] 극성 F1 : [0.95313] 시제 F1 : [0.69870] 확실성 F1 : [0.89228]\n"
     ]
    },
    {
     "data": {
      "application/vnd.jupyter.widget-view+json": {
       "model_id": "808c79e01df4487f951819528e20ed4c",
       "version_major": 2,
       "version_minor": 0
      },
      "text/plain": [
       "  0%|          | 0/52 [00:00<?, ?it/s]"
      ]
     },
     "metadata": {},
     "output_type": "display_data"
    },
    {
     "data": {
      "application/vnd.jupyter.widget-view+json": {
       "model_id": "04740d24e5c64cb8825ef2cb100ccf49",
       "version_major": 2,
       "version_minor": 0
      },
      "text/plain": [
       "  0%|          | 0/13 [00:00<?, ?it/s]"
      ]
     },
     "metadata": {},
     "output_type": "display_data"
    },
    {
     "name": "stdout",
     "output_type": "stream",
     "text": [
      "Epoch : [9] Train Loss : [0.02582] Val Loss : [0.45710] 유형 F1 : [0.78797] 극성 F1 : [0.95319] 시제 F1 : [0.70701] 확실성 F1 : [0.89227]\n",
      "Epoch 00009: reducing learning rate of group 0 to 2.5000e-05.\n"
     ]
    },
    {
     "data": {
      "application/vnd.jupyter.widget-view+json": {
       "model_id": "ba7bc52d457946ec833f43ba527bd2b9",
       "version_major": 2,
       "version_minor": 0
      },
      "text/plain": [
       "  0%|          | 0/52 [00:00<?, ?it/s]"
      ]
     },
     "metadata": {},
     "output_type": "display_data"
    },
    {
     "data": {
      "application/vnd.jupyter.widget-view+json": {
       "model_id": "4310dcfac8e14858be34dd0cd11addfd",
       "version_major": 2,
       "version_minor": 0
      },
      "text/plain": [
       "  0%|          | 0/13 [00:00<?, ?it/s]"
      ]
     },
     "metadata": {},
     "output_type": "display_data"
    },
    {
     "name": "stdout",
     "output_type": "stream",
     "text": [
      "Epoch : [10] Train Loss : [0.02394] Val Loss : [0.45966] 유형 F1 : [0.78993] 극성 F1 : [0.95332] 시제 F1 : [0.70724] 확실성 F1 : [0.89166]\n"
     ]
    }
   ],
   "source": [
    "model = BaseModel()\n",
    "model.eval()\n",
    "optimizer = torch.optim.Adam(params = model.parameters(), lr = CFG[\"LEARNING_RATE\"])\n",
    "scheduler = torch.optim.lr_scheduler.ReduceLROnPlateau(optimizer, mode='min', factor=0.5, patience=2,threshold_mode='abs',min_lr=1e-8, verbose=True)\n",
    "\n",
    "infer_model = train(model, optimizer, train_loader, val_loader, scheduler, device)\n",
    "\n"
   ]
  },
  {
   "cell_type": "markdown",
   "id": "e1bfd18b-26d7-4368-ad15-a4eac7f5a24b",
   "metadata": {},
   "source": [
    "## Inference"
   ]
  },
  {
   "cell_type": "code",
   "execution_count": 21,
   "id": "1a2aa237-c7cc-4038-aeb2-be86641c93b0",
   "metadata": {
    "ExecuteTime": {
     "end_time": "2022-12-15T07:26:30.840091Z",
     "start_time": "2022-12-15T07:26:30.835281Z"
    }
   },
   "outputs": [],
   "source": [
    "test_dataset = CustomDataset(test_vec, None)\n",
    "test_loader = DataLoader(test_dataset, batch_size=CFG['BATCH_SIZE'], shuffle=False, num_workers=0)"
   ]
  },
  {
   "cell_type": "code",
   "execution_count": 22,
   "id": "81ccae37-6540-4559-a277-eb1db1202505",
   "metadata": {
    "ExecuteTime": {
     "end_time": "2022-12-15T07:26:31.744736Z",
     "start_time": "2022-12-15T07:26:31.736976Z"
    }
   },
   "outputs": [],
   "source": [
    "def inference(model, test_loader, device):\n",
    "    model.to(device)\n",
    "    model.eval()\n",
    "    \n",
    "    type_preds, polarity_preds, tense_preds, certainty_preds = [], [], [], []\n",
    "    \n",
    "    with torch.no_grad():\n",
    "        for sentence in tqdm(test_loader):\n",
    "            sentence = sentence.to(device)\n",
    "            \n",
    "            type_logit, polarity_logit, tense_logit, certainty_logit = model(sentence)\n",
    "            \n",
    "            type_preds += type_logit.argmax(1).detach().cpu().numpy().tolist()\n",
    "            polarity_preds += polarity_logit.argmax(1).detach().cpu().numpy().tolist()\n",
    "            tense_preds += tense_logit.argmax(1).detach().cpu().numpy().tolist()\n",
    "            certainty_preds += certainty_logit.argmax(1).detach().cpu().numpy().tolist()\n",
    "            \n",
    "    return type_preds, polarity_preds, tense_preds, certainty_preds"
   ]
  },
  {
   "cell_type": "code",
   "execution_count": 23,
   "id": "44f67488-8186-48a6-a2ae-a58b47b8a7a8",
   "metadata": {
    "ExecuteTime": {
     "end_time": "2022-12-15T07:26:33.349369Z",
     "start_time": "2022-12-15T07:26:32.090955Z"
    }
   },
   "outputs": [
    {
     "data": {
      "application/vnd.jupyter.widget-view+json": {
       "model_id": "469b41c7a0fd450d8791b4f83a4db60d",
       "version_major": 2,
       "version_minor": 0
      },
      "text/plain": [
       "  0%|          | 0/28 [00:00<?, ?it/s]"
      ]
     },
     "metadata": {},
     "output_type": "display_data"
    }
   ],
   "source": [
    "type_preds, polarity_preds, tense_preds, certainty_preds = inference(model, test_loader, device)"
   ]
  },
  {
   "cell_type": "code",
   "execution_count": 24,
   "id": "bf388716-b607-4901-b55d-d95bb683c4c7",
   "metadata": {
    "ExecuteTime": {
     "end_time": "2022-12-15T07:26:34.269873Z",
     "start_time": "2022-12-15T07:26:34.257506Z"
    }
   },
   "outputs": [],
   "source": [
    "type_preds = type_le.inverse_transform(type_preds)\n",
    "polarity_preds = polarity_le.inverse_transform(polarity_preds)\n",
    "tense_preds = tense_le.inverse_transform(tense_preds)\n",
    "certainty_preds = certainty_le.inverse_transform(certainty_preds)"
   ]
  },
  {
   "cell_type": "code",
   "execution_count": 25,
   "id": "ab06deec-14dc-47c3-aa50-78a1d5a799e6",
   "metadata": {
    "ExecuteTime": {
     "end_time": "2022-12-15T07:26:34.831578Z",
     "start_time": "2022-12-15T07:26:34.819598Z"
    }
   },
   "outputs": [],
   "source": [
    "predictions = []\n",
    "for type_pred, polarity_pred, tense_pred, certainty_pred in zip(type_preds, polarity_preds, tense_preds, certainty_preds):\n",
    "    predictions.append(type_pred+'-'+polarity_pred+'-'+tense_pred+'-'+certainty_pred)"
   ]
  },
  {
   "cell_type": "code",
   "execution_count": 26,
   "id": "a34daa49",
   "metadata": {
    "ExecuteTime": {
     "end_time": "2022-12-15T07:26:45.865712Z",
     "start_time": "2022-12-15T07:26:45.834033Z"
    },
    "scrolled": true
   },
   "outputs": [
    {
     "data": {
      "text/plain": [
       "['사실형-긍정-과거-확실',\n",
       " '사실형-긍정-과거-확실',\n",
       " '사실형-긍정-과거-확실',\n",
       " '사실형-긍정-과거-확실',\n",
       " '사실형-긍정-과거-확실',\n",
       " '사실형-긍정-미래-확실',\n",
       " '추론형-긍정-현재-확실',\n",
       " '사실형-긍정-현재-확실',\n",
       " '사실형-긍정-미래-확실',\n",
       " '사실형-긍정-과거-확실',\n",
       " '사실형-긍정-과거-확실',\n",
       " '사실형-부정-현재-확실',\n",
       " '추론형-긍정-현재-확실',\n",
       " '사실형-긍정-현재-확실',\n",
       " '사실형-긍정-과거-확실',\n",
       " '사실형-긍정-과거-확실',\n",
       " '사실형-긍정-과거-확실',\n",
       " '사실형-긍정-현재-확실',\n",
       " '사실형-긍정-과거-확실',\n",
       " '사실형-긍정-현재-확실',\n",
       " '사실형-긍정-미래-확실',\n",
       " '사실형-긍정-과거-확실',\n",
       " '대화형-긍정-현재-불확실',\n",
       " '사실형-긍정-과거-확실',\n",
       " '사실형-긍정-현재-확실',\n",
       " '사실형-긍정-현재-확실',\n",
       " '사실형-긍정-과거-확실',\n",
       " '추론형-긍정-현재-확실',\n",
       " '사실형-긍정-미래-확실',\n",
       " '사실형-긍정-과거-확실',\n",
       " '사실형-긍정-과거-확실',\n",
       " '사실형-긍정-현재-확실',\n",
       " '사실형-긍정-과거-확실',\n",
       " '사실형-긍정-과거-확실',\n",
       " '대화형-긍정-과거-확실',\n",
       " '사실형-긍정-현재-확실',\n",
       " '사실형-긍정-과거-확실',\n",
       " '사실형-긍정-과거-확실',\n",
       " '사실형-긍정-과거-확실',\n",
       " '사실형-긍정-미래-확실',\n",
       " '사실형-긍정-과거-확실',\n",
       " '사실형-부정-현재-확실',\n",
       " '사실형-긍정-현재-확실',\n",
       " '추론형-긍정-미래-확실',\n",
       " '사실형-긍정-과거-확실',\n",
       " '사실형-긍정-과거-확실',\n",
       " '사실형-긍정-과거-확실',\n",
       " '사실형-긍정-과거-확실',\n",
       " '사실형-긍정-현재-확실',\n",
       " '사실형-긍정-현재-확실',\n",
       " '사실형-긍정-현재-확실',\n",
       " '사실형-긍정-과거-확실',\n",
       " '사실형-긍정-현재-확실',\n",
       " '추론형-긍정-과거-확실',\n",
       " '사실형-긍정-과거-확실',\n",
       " '사실형-긍정-과거-확실',\n",
       " '추론형-긍정-현재-확실',\n",
       " '추론형-긍정-현재-확실',\n",
       " '추론형-긍정-현재-확실',\n",
       " '추론형-긍정-현재-확실',\n",
       " '사실형-긍정-과거-확실',\n",
       " '사실형-긍정-과거-확실',\n",
       " '사실형-긍정-현재-불확실',\n",
       " '사실형-긍정-현재-확실',\n",
       " '사실형-긍정-현재-확실',\n",
       " '사실형-긍정-과거-확실',\n",
       " '사실형-긍정-과거-확실',\n",
       " '사실형-긍정-과거-확실',\n",
       " '추론형-긍정-현재-확실',\n",
       " '사실형-긍정-과거-확실',\n",
       " '사실형-긍정-과거-확실',\n",
       " '대화형-긍정-현재-확실',\n",
       " '추론형-긍정-현재-확실',\n",
       " '사실형-긍정-과거-확실',\n",
       " '사실형-긍정-현재-확실',\n",
       " '사실형-긍정-현재-확실',\n",
       " '사실형-긍정-과거-확실',\n",
       " '사실형-긍정-현재-확실',\n",
       " '사실형-긍정-현재-확실',\n",
       " '사실형-긍정-과거-확실',\n",
       " '사실형-긍정-과거-확실',\n",
       " '사실형-긍정-과거-확실',\n",
       " '사실형-긍정-현재-확실',\n",
       " '사실형-긍정-과거-확실',\n",
       " '사실형-긍정-과거-확실',\n",
       " '사실형-긍정-과거-확실',\n",
       " '사실형-긍정-현재-확실',\n",
       " '사실형-긍정-미래-확실',\n",
       " '사실형-긍정-과거-확실',\n",
       " '사실형-긍정-과거-확실',\n",
       " '추론형-긍정-현재-확실',\n",
       " '사실형-긍정-현재-확실',\n",
       " '추론형-긍정-현재-확실',\n",
       " '추론형-긍정-과거-확실',\n",
       " '사실형-긍정-과거-확실',\n",
       " '사실형-긍정-과거-확실',\n",
       " '사실형-긍정-과거-확실',\n",
       " '추론형-긍정-현재-확실',\n",
       " '사실형-긍정-현재-확실',\n",
       " '사실형-긍정-미래-불확실',\n",
       " '사실형-긍정-현재-확실',\n",
       " '사실형-긍정-현재-확실',\n",
       " '사실형-긍정-현재-확실',\n",
       " '사실형-긍정-현재-확실',\n",
       " '추론형-긍정-현재-확실',\n",
       " '추론형-긍정-현재-확실',\n",
       " '사실형-긍정-과거-확실',\n",
       " '추론형-긍정-현재-확실',\n",
       " '사실형-긍정-과거-확실',\n",
       " '사실형-긍정-현재-확실',\n",
       " '추론형-긍정-현재-확실',\n",
       " '사실형-긍정-과거-불확실',\n",
       " '사실형-긍정-현재-확실',\n",
       " '사실형-긍정-현재-확실',\n",
       " '사실형-긍정-현재-확실',\n",
       " '사실형-긍정-과거-확실',\n",
       " '사실형-긍정-과거-확실',\n",
       " '사실형-긍정-과거-확실',\n",
       " '추론형-긍정-현재-확실',\n",
       " '사실형-긍정-과거-확실',\n",
       " '사실형-긍정-과거-확실',\n",
       " '사실형-긍정-현재-확실',\n",
       " '사실형-긍정-과거-확실',\n",
       " '사실형-긍정-현재-확실',\n",
       " '사실형-긍정-현재-확실',\n",
       " '추론형-긍정-현재-확실',\n",
       " '사실형-긍정-과거-확실',\n",
       " '사실형-긍정-과거-확실',\n",
       " '사실형-긍정-현재-확실',\n",
       " '추론형-긍정-현재-확실',\n",
       " '사실형-긍정-현재-확실',\n",
       " '사실형-긍정-현재-확실',\n",
       " '사실형-긍정-과거-확실',\n",
       " '사실형-긍정-과거-확실',\n",
       " '예측형-긍정-과거-확실',\n",
       " '사실형-긍정-미래-불확실',\n",
       " '사실형-긍정-현재-확실',\n",
       " '사실형-긍정-과거-확실',\n",
       " '사실형-긍정-현재-확실',\n",
       " '사실형-긍정-과거-확실',\n",
       " '사실형-긍정-현재-확실',\n",
       " '사실형-긍정-과거-확실',\n",
       " '사실형-긍정-과거-확실',\n",
       " '사실형-부정-현재-확실',\n",
       " '사실형-긍정-과거-확실',\n",
       " '사실형-긍정-현재-확실',\n",
       " '사실형-긍정-현재-확실',\n",
       " '사실형-긍정-현재-확실',\n",
       " '사실형-긍정-과거-확실',\n",
       " '사실형-긍정-과거-확실',\n",
       " '사실형-부정-현재-확실',\n",
       " '사실형-긍정-과거-확실',\n",
       " '사실형-긍정-과거-확실',\n",
       " '추론형-긍정-현재-확실',\n",
       " '사실형-긍정-미래-확실',\n",
       " '사실형-긍정-과거-확실',\n",
       " '사실형-긍정-현재-확실',\n",
       " '사실형-부정-현재-확실',\n",
       " '사실형-긍정-과거-확실',\n",
       " '사실형-긍정-과거-확실',\n",
       " '사실형-긍정-과거-확실',\n",
       " '사실형-긍정-현재-확실',\n",
       " '사실형-긍정-현재-확실',\n",
       " '사실형-긍정-과거-확실',\n",
       " '사실형-긍정-과거-확실',\n",
       " '추론형-긍정-현재-확실',\n",
       " '사실형-긍정-현재-확실',\n",
       " '사실형-부정-현재-확실',\n",
       " '사실형-긍정-현재-확실',\n",
       " '사실형-긍정-현재-확실',\n",
       " '사실형-긍정-현재-확실',\n",
       " '사실형-긍정-과거-확실',\n",
       " '사실형-긍정-과거-확실',\n",
       " '사실형-긍정-현재-확실',\n",
       " '사실형-긍정-미래-확실',\n",
       " '추론형-긍정-과거-확실',\n",
       " '사실형-긍정-과거-확실',\n",
       " '사실형-부정-과거-확실',\n",
       " '사실형-긍정-현재-확실',\n",
       " '사실형-긍정-과거-확실',\n",
       " '사실형-긍정-현재-확실',\n",
       " '사실형-긍정-과거-확실',\n",
       " '사실형-긍정-과거-확실',\n",
       " '사실형-긍정-현재-확실',\n",
       " '추론형-긍정-현재-확실',\n",
       " '대화형-긍정-현재-확실',\n",
       " '사실형-긍정-현재-확실',\n",
       " '사실형-긍정-과거-확실',\n",
       " '사실형-긍정-미래-확실',\n",
       " '사실형-긍정-현재-확실',\n",
       " '사실형-긍정-현재-확실',\n",
       " '사실형-긍정-과거-확실',\n",
       " '사실형-긍정-과거-확실',\n",
       " '사실형-긍정-현재-확실',\n",
       " '사실형-긍정-과거-확실',\n",
       " '사실형-긍정-과거-확실',\n",
       " '사실형-긍정-현재-확실',\n",
       " '사실형-긍정-미래-불확실',\n",
       " '사실형-긍정-현재-확실',\n",
       " '사실형-긍정-현재-확실',\n",
       " '사실형-긍정-현재-확실',\n",
       " '대화형-긍정-과거-불확실',\n",
       " '사실형-긍정-과거-확실',\n",
       " '사실형-긍정-과거-확실',\n",
       " '사실형-긍정-과거-확실',\n",
       " '사실형-긍정-과거-확실',\n",
       " '추론형-긍정-과거-확실',\n",
       " '추론형-긍정-현재-확실',\n",
       " '사실형-긍정-현재-확실',\n",
       " '사실형-긍정-현재-확실',\n",
       " '사실형-긍정-현재-확실',\n",
       " '사실형-긍정-과거-확실',\n",
       " '사실형-긍정-현재-확실',\n",
       " '사실형-긍정-현재-확실',\n",
       " '사실형-긍정-과거-확실',\n",
       " '추론형-긍정-과거-확실',\n",
       " '사실형-긍정-현재-확실',\n",
       " '사실형-긍정-현재-확실',\n",
       " '사실형-긍정-과거-확실',\n",
       " '사실형-긍정-현재-확실',\n",
       " '사실형-긍정-현재-확실',\n",
       " '사실형-긍정-과거-확실',\n",
       " '추론형-긍정-현재-확실',\n",
       " '사실형-긍정-현재-확실',\n",
       " '사실형-긍정-현재-확실',\n",
       " '사실형-긍정-현재-확실',\n",
       " '사실형-긍정-과거-확실',\n",
       " '사실형-긍정-현재-확실',\n",
       " '사실형-긍정-과거-확실',\n",
       " '사실형-긍정-과거-확실',\n",
       " '사실형-긍정-현재-확실',\n",
       " '사실형-긍정-과거-확실',\n",
       " '사실형-긍정-과거-확실',\n",
       " '사실형-긍정-현재-확실',\n",
       " '사실형-긍정-현재-확실',\n",
       " '사실형-긍정-과거-확실',\n",
       " '사실형-긍정-과거-확실',\n",
       " '사실형-긍정-과거-확실',\n",
       " '사실형-긍정-현재-확실',\n",
       " '사실형-긍정-과거-확실',\n",
       " '사실형-긍정-과거-확실',\n",
       " '사실형-긍정-과거-확실',\n",
       " '사실형-긍정-과거-확실',\n",
       " '사실형-긍정-과거-확실',\n",
       " '사실형-긍정-과거-확실',\n",
       " '사실형-긍정-과거-확실',\n",
       " '사실형-긍정-과거-확실',\n",
       " '사실형-긍정-현재-확실',\n",
       " '사실형-긍정-현재-확실',\n",
       " '사실형-긍정-현재-확실',\n",
       " '사실형-긍정-현재-확실',\n",
       " '사실형-긍정-과거-확실',\n",
       " '사실형-긍정-현재-확실',\n",
       " '사실형-긍정-현재-확실',\n",
       " '사실형-긍정-현재-확실',\n",
       " '사실형-긍정-과거-확실',\n",
       " '추론형-긍정-미래-확실',\n",
       " '사실형-긍정-과거-확실',\n",
       " '사실형-긍정-현재-확실',\n",
       " '사실형-긍정-현재-확실',\n",
       " '사실형-긍정-과거-확실',\n",
       " '추론형-긍정-과거-확실',\n",
       " '사실형-긍정-현재-확실',\n",
       " '사실형-긍정-과거-확실',\n",
       " '사실형-긍정-현재-확실',\n",
       " '사실형-긍정-과거-확실',\n",
       " '사실형-긍정-현재-확실',\n",
       " '사실형-긍정-현재-확실',\n",
       " '사실형-긍정-현재-확실',\n",
       " '사실형-긍정-현재-확실',\n",
       " '사실형-긍정-과거-확실',\n",
       " '사실형-긍정-과거-확실',\n",
       " '사실형-긍정-과거-확실',\n",
       " '사실형-긍정-현재-확실',\n",
       " '사실형-긍정-현재-확실',\n",
       " '사실형-긍정-현재-확실',\n",
       " '사실형-긍정-과거-확실',\n",
       " '사실형-긍정-현재-확실',\n",
       " '사실형-긍정-과거-확실',\n",
       " '사실형-긍정-현재-확실',\n",
       " '사실형-긍정-과거-확실',\n",
       " '사실형-긍정-과거-확실',\n",
       " '사실형-긍정-현재-확실',\n",
       " '사실형-긍정-현재-확실',\n",
       " '사실형-긍정-현재-확실',\n",
       " '사실형-긍정-과거-확실',\n",
       " '사실형-긍정-과거-확실',\n",
       " '사실형-긍정-과거-확실',\n",
       " '사실형-긍정-과거-확실',\n",
       " '사실형-긍정-현재-확실',\n",
       " '사실형-긍정-현재-확실',\n",
       " '사실형-긍정-과거-확실',\n",
       " '사실형-긍정-과거-확실',\n",
       " '사실형-긍정-과거-확실',\n",
       " '사실형-긍정-과거-확실',\n",
       " '사실형-긍정-현재-확실',\n",
       " '사실형-긍정-과거-확실',\n",
       " '사실형-긍정-현재-확실',\n",
       " '사실형-긍정-미래-확실',\n",
       " '사실형-긍정-과거-확실',\n",
       " '사실형-긍정-과거-확실',\n",
       " '사실형-긍정-과거-확실',\n",
       " '사실형-긍정-과거-확실',\n",
       " '사실형-긍정-현재-확실',\n",
       " '사실형-긍정-현재-확실',\n",
       " '사실형-긍정-과거-확실',\n",
       " '사실형-긍정-현재-확실',\n",
       " '사실형-긍정-과거-확실',\n",
       " '사실형-긍정-현재-확실',\n",
       " '사실형-긍정-현재-확실',\n",
       " '사실형-긍정-과거-확실',\n",
       " '사실형-긍정-현재-확실',\n",
       " '사실형-긍정-과거-확실',\n",
       " '사실형-부정-현재-확실',\n",
       " '사실형-긍정-현재-확실',\n",
       " '사실형-긍정-현재-확실',\n",
       " '사실형-긍정-미래-확실',\n",
       " '사실형-긍정-현재-확실',\n",
       " '사실형-긍정-현재-확실',\n",
       " '사실형-긍정-미래-확실',\n",
       " '사실형-긍정-과거-확실',\n",
       " '사실형-긍정-현재-확실',\n",
       " '사실형-긍정-과거-확실',\n",
       " '대화형-긍정-현재-확실',\n",
       " '사실형-긍정-과거-확실',\n",
       " '사실형-긍정-현재-확실',\n",
       " '사실형-부정-현재-불확실',\n",
       " '추론형-긍정-현재-확실',\n",
       " '사실형-긍정-현재-확실',\n",
       " '사실형-긍정-현재-확실',\n",
       " '추론형-긍정-현재-확실',\n",
       " '사실형-긍정-현재-확실',\n",
       " '사실형-긍정-현재-확실',\n",
       " '사실형-긍정-과거-확실',\n",
       " '사실형-긍정-과거-확실',\n",
       " '추론형-긍정-현재-불확실',\n",
       " '사실형-긍정-과거-확실',\n",
       " '사실형-긍정-과거-확실',\n",
       " '사실형-긍정-현재-확실',\n",
       " '사실형-긍정-미래-불확실',\n",
       " '사실형-긍정-현재-확실',\n",
       " '사실형-긍정-현재-확실',\n",
       " '사실형-긍정-미래-확실',\n",
       " '사실형-긍정-과거-확실',\n",
       " '사실형-긍정-과거-확실',\n",
       " '사실형-긍정-현재-확실',\n",
       " '사실형-긍정-현재-확실',\n",
       " '추론형-긍정-현재-확실',\n",
       " '사실형-긍정-과거-확실',\n",
       " '사실형-긍정-현재-확실',\n",
       " '사실형-긍정-과거-확실',\n",
       " '추론형-긍정-현재-확실',\n",
       " '사실형-긍정-현재-확실',\n",
       " '사실형-긍정-과거-확실',\n",
       " '사실형-긍정-현재-확실',\n",
       " '사실형-긍정-과거-확실',\n",
       " '사실형-긍정-과거-확실',\n",
       " '추론형-긍정-과거-확실',\n",
       " '사실형-긍정-현재-확실',\n",
       " '사실형-긍정-과거-확실',\n",
       " '추론형-긍정-현재-확실',\n",
       " '추론형-긍정-현재-불확실',\n",
       " '사실형-긍정-현재-확실',\n",
       " '사실형-긍정-과거-확실',\n",
       " '사실형-긍정-과거-확실',\n",
       " '사실형-긍정-현재-확실',\n",
       " '사실형-긍정-과거-확실',\n",
       " '사실형-긍정-과거-확실',\n",
       " '추론형-긍정-현재-확실',\n",
       " '사실형-긍정-현재-확실',\n",
       " '사실형-긍정-현재-확실',\n",
       " '사실형-긍정-현재-확실',\n",
       " '사실형-긍정-과거-확실',\n",
       " '사실형-긍정-과거-확실',\n",
       " '사실형-긍정-과거-확실',\n",
       " '사실형-긍정-과거-확실',\n",
       " '사실형-긍정-미래-확실',\n",
       " '사실형-긍정-현재-확실',\n",
       " '추론형-긍정-현재-확실',\n",
       " '사실형-긍정-과거-확실',\n",
       " '사실형-긍정-현재-확실',\n",
       " '추론형-긍정-미래-불확실',\n",
       " '사실형-긍정-과거-확실',\n",
       " '사실형-긍정-과거-확실',\n",
       " '사실형-긍정-현재-확실',\n",
       " '사실형-긍정-현재-확실',\n",
       " '사실형-긍정-현재-확실',\n",
       " '사실형-긍정-현재-확실',\n",
       " '사실형-긍정-현재-확실',\n",
       " '사실형-긍정-과거-확실',\n",
       " '사실형-긍정-과거-확실',\n",
       " '사실형-긍정-현재-확실',\n",
       " '사실형-긍정-현재-확실',\n",
       " '사실형-긍정-과거-확실',\n",
       " '사실형-긍정-현재-확실',\n",
       " '사실형-긍정-과거-확실',\n",
       " '사실형-긍정-현재-확실',\n",
       " '사실형-긍정-현재-확실',\n",
       " '사실형-긍정-현재-확실',\n",
       " '사실형-긍정-과거-확실',\n",
       " '사실형-긍정-현재-확실',\n",
       " '사실형-긍정-과거-확실',\n",
       " '사실형-긍정-과거-확실',\n",
       " '사실형-긍정-과거-확실',\n",
       " '사실형-긍정-과거-확실',\n",
       " '사실형-긍정-과거-확실',\n",
       " '사실형-긍정-과거-확실',\n",
       " '사실형-긍정-과거-확실',\n",
       " '사실형-긍정-과거-확실',\n",
       " '사실형-긍정-현재-확실',\n",
       " '사실형-긍정-과거-확실',\n",
       " '추론형-긍정-현재-확실',\n",
       " '사실형-긍정-과거-확실',\n",
       " '사실형-긍정-과거-확실',\n",
       " '사실형-긍정-과거-확실',\n",
       " '사실형-긍정-과거-확실',\n",
       " '사실형-긍정-현재-확실',\n",
       " '사실형-긍정-현재-확실',\n",
       " '사실형-긍정-현재-확실',\n",
       " '사실형-긍정-현재-확실',\n",
       " '사실형-긍정-현재-확실',\n",
       " '사실형-긍정-현재-확실',\n",
       " '사실형-긍정-현재-확실',\n",
       " '사실형-긍정-현재-확실',\n",
       " '사실형-긍정-과거-확실',\n",
       " '추론형-긍정-현재-확실',\n",
       " '사실형-긍정-과거-확실',\n",
       " '사실형-긍정-현재-확실',\n",
       " '사실형-긍정-과거-확실',\n",
       " '사실형-긍정-현재-확실',\n",
       " '사실형-긍정-과거-확실',\n",
       " '사실형-긍정-과거-확실',\n",
       " '추론형-긍정-과거-확실',\n",
       " '추론형-긍정-현재-확실',\n",
       " '사실형-부정-현재-확실',\n",
       " '사실형-긍정-현재-확실',\n",
       " '사실형-긍정-과거-확실',\n",
       " '대화형-긍정-현재-확실',\n",
       " '사실형-긍정-현재-확실',\n",
       " '사실형-긍정-현재-확실',\n",
       " '사실형-긍정-과거-확실',\n",
       " '사실형-긍정-미래-확실',\n",
       " '사실형-긍정-과거-확실',\n",
       " '사실형-긍정-과거-확실',\n",
       " '사실형-긍정-현재-확실',\n",
       " '사실형-긍정-과거-확실',\n",
       " '사실형-긍정-과거-확실',\n",
       " '추론형-긍정-현재-확실',\n",
       " '사실형-긍정-미래-불확실',\n",
       " '사실형-긍정-과거-확실',\n",
       " '사실형-긍정-현재-확실',\n",
       " '사실형-긍정-과거-확실',\n",
       " '사실형-긍정-현재-확실',\n",
       " '사실형-긍정-과거-확실',\n",
       " '사실형-긍정-과거-확실',\n",
       " '사실형-긍정-과거-확실',\n",
       " '사실형-긍정-과거-확실',\n",
       " '사실형-긍정-현재-확실',\n",
       " '사실형-긍정-과거-확실',\n",
       " '사실형-긍정-현재-확실',\n",
       " '사실형-긍정-과거-확실',\n",
       " '사실형-긍정-현재-확실',\n",
       " '사실형-긍정-과거-확실',\n",
       " '사실형-긍정-과거-확실',\n",
       " '사실형-긍정-과거-확실',\n",
       " '추론형-긍정-현재-확실',\n",
       " '사실형-긍정-과거-확실',\n",
       " '사실형-긍정-과거-확실',\n",
       " '사실형-긍정-과거-확실',\n",
       " '사실형-긍정-과거-확실',\n",
       " '사실형-긍정-현재-확실',\n",
       " '추론형-긍정-현재-확실',\n",
       " '사실형-긍정-현재-확실',\n",
       " '사실형-긍정-현재-불확실',\n",
       " '사실형-긍정-현재-확실',\n",
       " '사실형-긍정-과거-확실',\n",
       " '사실형-긍정-현재-확실',\n",
       " '사실형-긍정-현재-확실',\n",
       " '사실형-긍정-현재-확실',\n",
       " '사실형-긍정-현재-확실',\n",
       " '사실형-긍정-과거-확실',\n",
       " '대화형-긍정-현재-확실',\n",
       " '추론형-긍정-현재-확실',\n",
       " '사실형-긍정-현재-확실',\n",
       " '사실형-긍정-현재-확실',\n",
       " '사실형-긍정-현재-확실',\n",
       " '사실형-긍정-현재-확실',\n",
       " '사실형-긍정-과거-확실',\n",
       " '사실형-긍정-과거-확실',\n",
       " '사실형-긍정-과거-확실',\n",
       " '사실형-긍정-현재-확실',\n",
       " '사실형-긍정-과거-확실',\n",
       " '사실형-긍정-현재-확실',\n",
       " '사실형-긍정-과거-확실',\n",
       " '사실형-긍정-현재-확실',\n",
       " '대화형-긍정-미래-불확실',\n",
       " '추론형-긍정-현재-확실',\n",
       " '대화형-긍정-현재-확실',\n",
       " '사실형-긍정-현재-확실',\n",
       " '사실형-부정-과거-확실',\n",
       " '사실형-긍정-현재-확실',\n",
       " '사실형-긍정-과거-확실',\n",
       " '사실형-긍정-현재-확실',\n",
       " '사실형-긍정-과거-확실',\n",
       " '추론형-긍정-현재-확실',\n",
       " '사실형-긍정-과거-확실',\n",
       " '사실형-긍정-현재-확실',\n",
       " '사실형-긍정-현재-확실',\n",
       " '대화형-긍정-현재-확실',\n",
       " '사실형-긍정-과거-확실',\n",
       " '사실형-긍정-과거-확실',\n",
       " '사실형-긍정-현재-확실',\n",
       " '추론형-긍정-현재-확실',\n",
       " '사실형-긍정-과거-확실',\n",
       " '사실형-긍정-현재-확실',\n",
       " '사실형-긍정-과거-불확실',\n",
       " '사실형-긍정-현재-확실',\n",
       " '사실형-긍정-현재-확실',\n",
       " '추론형-긍정-현재-확실',\n",
       " '사실형-긍정-현재-확실',\n",
       " '사실형-긍정-현재-확실',\n",
       " '사실형-긍정-미래-확실',\n",
       " '사실형-긍정-과거-확실',\n",
       " '사실형-긍정-과거-확실',\n",
       " '예측형-긍정-미래-불확실',\n",
       " '사실형-긍정-과거-확실',\n",
       " '사실형-긍정-과거-확실',\n",
       " '사실형-긍정-현재-확실',\n",
       " '사실형-긍정-과거-확실',\n",
       " '사실형-긍정-현재-확실',\n",
       " '사실형-긍정-미래-확실',\n",
       " '사실형-긍정-과거-확실',\n",
       " '사실형-긍정-현재-확실',\n",
       " '대화형-긍정-현재-확실',\n",
       " '대화형-긍정-미래-불확실',\n",
       " '사실형-긍정-과거-확실',\n",
       " '사실형-긍정-현재-확실',\n",
       " '사실형-긍정-현재-확실',\n",
       " '사실형-긍정-과거-확실',\n",
       " '사실형-긍정-과거-확실',\n",
       " '사실형-긍정-현재-확실',\n",
       " '사실형-긍정-과거-확실',\n",
       " '사실형-부정-과거-확실',\n",
       " '사실형-긍정-현재-확실',\n",
       " '사실형-긍정-과거-확실',\n",
       " '사실형-긍정-현재-확실',\n",
       " '사실형-긍정-현재-확실',\n",
       " '사실형-긍정-과거-확실',\n",
       " '사실형-긍정-과거-확실',\n",
       " '사실형-긍정-현재-확실',\n",
       " '사실형-긍정-과거-확실',\n",
       " '사실형-긍정-현재-확실',\n",
       " '사실형-긍정-과거-확실',\n",
       " '사실형-긍정-과거-확실',\n",
       " '사실형-긍정-과거-확실',\n",
       " '사실형-긍정-현재-확실',\n",
       " '사실형-긍정-과거-확실',\n",
       " '사실형-부정-과거-확실',\n",
       " '대화형-긍정-현재-불확실',\n",
       " '사실형-긍정-과거-확실',\n",
       " '사실형-긍정-현재-확실',\n",
       " '사실형-긍정-과거-확실',\n",
       " '사실형-긍정-현재-확실',\n",
       " '사실형-긍정-과거-확실',\n",
       " '사실형-긍정-과거-확실',\n",
       " '사실형-긍정-과거-확실',\n",
       " '사실형-긍정-현재-확실',\n",
       " '사실형-긍정-과거-확실',\n",
       " '사실형-긍정-과거-확실',\n",
       " '사실형-긍정-과거-확실',\n",
       " '사실형-긍정-현재-확실',\n",
       " '사실형-긍정-과거-확실',\n",
       " '사실형-긍정-과거-확실',\n",
       " '사실형-부정-현재-확실',\n",
       " '사실형-긍정-과거-확실',\n",
       " '사실형-긍정-현재-확실',\n",
       " '추론형-긍정-현재-확실',\n",
       " '사실형-긍정-과거-확실',\n",
       " '사실형-긍정-과거-확실',\n",
       " '추론형-긍정-과거-확실',\n",
       " '추론형-긍정-현재-확실',\n",
       " '사실형-긍정-과거-확실',\n",
       " '사실형-긍정-과거-확실',\n",
       " '사실형-긍정-미래-확실',\n",
       " '추론형-긍정-현재-확실',\n",
       " '사실형-긍정-현재-확실',\n",
       " '추론형-긍정-현재-불확실',\n",
       " '사실형-긍정-미래-불확실',\n",
       " '사실형-긍정-과거-확실',\n",
       " '사실형-긍정-과거-확실',\n",
       " '사실형-긍정-현재-확실',\n",
       " '사실형-긍정-현재-확실',\n",
       " '사실형-긍정-과거-확실',\n",
       " '사실형-긍정-현재-확실',\n",
       " '사실형-부정-현재-확실',\n",
       " '사실형-긍정-현재-확실',\n",
       " '사실형-긍정-과거-확실',\n",
       " '사실형-긍정-현재-확실',\n",
       " '사실형-긍정-과거-확실',\n",
       " '사실형-긍정-과거-확실',\n",
       " '사실형-긍정-현재-확실',\n",
       " '추론형-긍정-현재-확실',\n",
       " '사실형-긍정-과거-확실',\n",
       " '예측형-긍정-미래-불확실',\n",
       " '사실형-긍정-현재-확실',\n",
       " '사실형-긍정-과거-확실',\n",
       " '사실형-긍정-현재-확실',\n",
       " '추론형-부정-현재-확실',\n",
       " '사실형-긍정-현재-확실',\n",
       " '사실형-긍정-과거-확실',\n",
       " '사실형-부정-현재-확실',\n",
       " '사실형-긍정-과거-확실',\n",
       " '사실형-긍정-현재-확실',\n",
       " '사실형-긍정-현재-확실',\n",
       " '사실형-긍정-과거-확실',\n",
       " '사실형-긍정-현재-확실',\n",
       " '사실형-긍정-현재-확실',\n",
       " '사실형-긍정-현재-확실',\n",
       " '사실형-긍정-과거-확실',\n",
       " '추론형-긍정-현재-확실',\n",
       " '사실형-긍정-현재-확실',\n",
       " '사실형-긍정-현재-확실',\n",
       " '사실형-긍정-과거-확실',\n",
       " '사실형-긍정-과거-확실',\n",
       " '사실형-긍정-현재-불확실',\n",
       " '사실형-긍정-과거-확실',\n",
       " '사실형-긍정-과거-확실',\n",
       " '사실형-긍정-과거-확실',\n",
       " '사실형-긍정-미래-확실',\n",
       " '사실형-긍정-과거-확실',\n",
       " '사실형-긍정-미래-확실',\n",
       " '사실형-긍정-과거-확실',\n",
       " '사실형-긍정-과거-확실',\n",
       " '추론형-긍정-현재-확실',\n",
       " '사실형-긍정-과거-확실',\n",
       " '사실형-긍정-과거-확실',\n",
       " '사실형-긍정-과거-확실',\n",
       " '사실형-부정-현재-확실',\n",
       " '사실형-긍정-현재-확실',\n",
       " '사실형-긍정-과거-확실',\n",
       " '사실형-긍정-현재-확실',\n",
       " '사실형-긍정-현재-확실',\n",
       " '사실형-긍정-미래-확실',\n",
       " '사실형-긍정-현재-확실',\n",
       " '추론형-긍정-미래-확실',\n",
       " '사실형-긍정-과거-확실',\n",
       " '추론형-긍정-현재-확실',\n",
       " '사실형-긍정-과거-확실',\n",
       " '사실형-긍정-현재-확실',\n",
       " '사실형-긍정-과거-확실',\n",
       " '사실형-긍정-과거-확실',\n",
       " '사실형-긍정-현재-확실',\n",
       " '사실형-긍정-과거-확실',\n",
       " '사실형-긍정-현재-확실',\n",
       " '사실형-긍정-현재-확실',\n",
       " '사실형-긍정-과거-확실',\n",
       " '사실형-긍정-현재-확실',\n",
       " '사실형-긍정-과거-확실',\n",
       " '사실형-긍정-과거-확실',\n",
       " '사실형-긍정-과거-확실',\n",
       " '사실형-긍정-현재-확실',\n",
       " '사실형-긍정-과거-확실',\n",
       " '사실형-긍정-과거-확실',\n",
       " '사실형-긍정-과거-확실',\n",
       " '사실형-긍정-현재-확실',\n",
       " '사실형-긍정-현재-확실',\n",
       " '사실형-긍정-과거-확실',\n",
       " '사실형-긍정-현재-확실',\n",
       " '사실형-긍정-과거-확실',\n",
       " '사실형-긍정-미래-확실',\n",
       " '사실형-긍정-현재-확실',\n",
       " '사실형-긍정-현재-확실',\n",
       " '사실형-긍정-과거-확실',\n",
       " '추론형-긍정-현재-확실',\n",
       " '사실형-긍정-현재-확실',\n",
       " '사실형-긍정-과거-확실',\n",
       " '사실형-긍정-현재-확실',\n",
       " '사실형-긍정-과거-확실',\n",
       " '사실형-긍정-과거-확실',\n",
       " '사실형-부정-현재-불확실',\n",
       " '사실형-긍정-과거-확실',\n",
       " '사실형-긍정-현재-확실',\n",
       " '사실형-긍정-미래-확실',\n",
       " '사실형-긍정-과거-확실',\n",
       " '사실형-긍정-과거-확실',\n",
       " '사실형-긍정-현재-확실',\n",
       " '사실형-긍정-과거-확실',\n",
       " '사실형-긍정-미래-확실',\n",
       " '사실형-긍정-현재-확실',\n",
       " '사실형-긍정-미래-확실',\n",
       " '사실형-긍정-과거-확실',\n",
       " '사실형-긍정-과거-확실',\n",
       " '사실형-긍정-현재-확실',\n",
       " '사실형-긍정-미래-확실',\n",
       " '사실형-긍정-미래-확실',\n",
       " '사실형-긍정-미래-불확실',\n",
       " '사실형-긍정-현재-확실',\n",
       " '사실형-긍정-과거-확실',\n",
       " '사실형-긍정-과거-확실',\n",
       " '사실형-긍정-현재-확실',\n",
       " '사실형-긍정-과거-확실',\n",
       " '추론형-긍정-현재-확실',\n",
       " '사실형-긍정-현재-확실',\n",
       " '사실형-긍정-과거-확실',\n",
       " '사실형-긍정-현재-확실',\n",
       " '사실형-긍정-과거-확실',\n",
       " '사실형-긍정-현재-확실',\n",
       " '사실형-긍정-과거-확실',\n",
       " '사실형-긍정-현재-확실',\n",
       " '사실형-긍정-과거-확실',\n",
       " '사실형-긍정-과거-확실',\n",
       " '사실형-긍정-과거-확실',\n",
       " '사실형-긍정-현재-확실',\n",
       " '사실형-긍정-과거-확실',\n",
       " '추론형-긍정-과거-확실',\n",
       " '추론형-긍정-과거-확실',\n",
       " '사실형-긍정-과거-확실',\n",
       " '사실형-긍정-과거-확실',\n",
       " '사실형-긍정-현재-확실',\n",
       " '사실형-긍정-과거-확실',\n",
       " '사실형-긍정-과거-확실',\n",
       " '사실형-긍정-현재-확실',\n",
       " '사실형-긍정-과거-확실',\n",
       " '사실형-긍정-과거-확실',\n",
       " '사실형-긍정-과거-확실',\n",
       " '사실형-긍정-과거-확실',\n",
       " '사실형-긍정-과거-확실',\n",
       " '사실형-긍정-과거-확실',\n",
       " '사실형-긍정-과거-확실',\n",
       " '추론형-긍정-현재-확실',\n",
       " '사실형-긍정-과거-확실',\n",
       " '사실형-긍정-현재-확실',\n",
       " '사실형-긍정-과거-확실',\n",
       " '사실형-긍정-미래-확실',\n",
       " '예측형-긍정-미래-불확실',\n",
       " '사실형-긍정-과거-확실',\n",
       " '사실형-긍정-과거-확실',\n",
       " '사실형-긍정-과거-확실',\n",
       " '추론형-긍정-과거-확실',\n",
       " '사실형-긍정-과거-확실',\n",
       " '사실형-긍정-과거-확실',\n",
       " '사실형-긍정-현재-확실',\n",
       " '사실형-긍정-과거-확실',\n",
       " '추론형-긍정-과거-확실',\n",
       " '사실형-부정-현재-확실',\n",
       " '사실형-긍정-과거-확실',\n",
       " '사실형-긍정-현재-확실',\n",
       " '사실형-긍정-현재-확실',\n",
       " '사실형-긍정-현재-확실',\n",
       " '사실형-긍정-현재-확실',\n",
       " '사실형-긍정-현재-확실',\n",
       " '사실형-긍정-과거-확실',\n",
       " '사실형-긍정-과거-확실',\n",
       " '사실형-긍정-현재-확실',\n",
       " '사실형-긍정-현재-확실',\n",
       " '사실형-긍정-과거-확실',\n",
       " '사실형-긍정-과거-확실',\n",
       " '추론형-부정-현재-확실',\n",
       " '사실형-긍정-현재-확실',\n",
       " '사실형-긍정-현재-확실',\n",
       " '사실형-긍정-현재-확실',\n",
       " '사실형-긍정-과거-확실',\n",
       " '사실형-긍정-현재-확실',\n",
       " '사실형-긍정-과거-확실',\n",
       " '사실형-긍정-과거-확실',\n",
       " '사실형-긍정-현재-확실',\n",
       " '사실형-긍정-현재-확실',\n",
       " '대화형-긍정-미래-불확실',\n",
       " '추론형-긍정-현재-확실',\n",
       " '사실형-긍정-과거-확실',\n",
       " '사실형-긍정-과거-확실',\n",
       " '사실형-긍정-현재-확실',\n",
       " '사실형-긍정-현재-확실',\n",
       " '사실형-긍정-현재-확실',\n",
       " '사실형-긍정-과거-확실',\n",
       " '추론형-긍정-미래-확실',\n",
       " '사실형-긍정-과거-확실',\n",
       " '사실형-긍정-과거-확실',\n",
       " '대화형-긍정-현재-확실',\n",
       " '사실형-긍정-과거-확실',\n",
       " '사실형-긍정-현재-확실',\n",
       " '사실형-긍정-미래-불확실',\n",
       " '사실형-긍정-과거-확실',\n",
       " '추론형-긍정-현재-확실',\n",
       " '사실형-긍정-현재-확실',\n",
       " '사실형-긍정-현재-확실',\n",
       " '사실형-긍정-현재-확실',\n",
       " '사실형-긍정-과거-확실',\n",
       " '사실형-긍정-현재-확실',\n",
       " '사실형-긍정-과거-확실',\n",
       " '사실형-긍정-현재-확실',\n",
       " '사실형-긍정-현재-확실',\n",
       " '사실형-긍정-현재-확실',\n",
       " '사실형-긍정-현재-확실',\n",
       " '사실형-긍정-현재-확실',\n",
       " '사실형-긍정-현재-확실',\n",
       " '추론형-긍정-과거-확실',\n",
       " '사실형-긍정-과거-확실',\n",
       " '사실형-긍정-현재-확실',\n",
       " '사실형-긍정-현재-확실',\n",
       " '사실형-긍정-과거-확실',\n",
       " '사실형-긍정-현재-확실',\n",
       " '사실형-긍정-과거-확실',\n",
       " '사실형-긍정-현재-불확실',\n",
       " '사실형-긍정-과거-확실',\n",
       " '사실형-긍정-과거-확실',\n",
       " '사실형-긍정-현재-확실',\n",
       " '사실형-긍정-현재-확실',\n",
       " '사실형-긍정-현재-확실',\n",
       " '사실형-긍정-과거-확실',\n",
       " '사실형-긍정-과거-확실',\n",
       " '사실형-긍정-과거-확실',\n",
       " '사실형-긍정-미래-확실',\n",
       " '사실형-긍정-과거-확실',\n",
       " '사실형-긍정-과거-확실',\n",
       " '사실형-긍정-과거-확실',\n",
       " '사실형-긍정-과거-확실',\n",
       " '사실형-긍정-현재-확실',\n",
       " '사실형-긍정-현재-확실',\n",
       " '사실형-긍정-현재-확실',\n",
       " '사실형-긍정-과거-확실',\n",
       " '사실형-긍정-과거-확실',\n",
       " '추론형-긍정-현재-확실',\n",
       " '사실형-긍정-현재-확실',\n",
       " '사실형-긍정-미래-불확실',\n",
       " '사실형-긍정-현재-확실',\n",
       " '사실형-긍정-과거-확실',\n",
       " '예측형-긍정-미래-불확실',\n",
       " '사실형-긍정-과거-확실',\n",
       " '사실형-긍정-과거-확실',\n",
       " '사실형-긍정-과거-확실',\n",
       " '사실형-긍정-과거-확실',\n",
       " '사실형-긍정-과거-확실',\n",
       " '사실형-긍정-미래-확실',\n",
       " '사실형-긍정-과거-확실',\n",
       " '사실형-긍정-현재-확실',\n",
       " '사실형-긍정-과거-확실',\n",
       " '사실형-긍정-현재-확실',\n",
       " '추론형-긍정-과거-확실',\n",
       " '사실형-긍정-현재-확실',\n",
       " '사실형-긍정-과거-확실',\n",
       " '사실형-긍정-미래-불확실',\n",
       " '추론형-긍정-현재-확실',\n",
       " '사실형-긍정-현재-확실',\n",
       " '사실형-긍정-과거-확실',\n",
       " '추론형-긍정-현재-확실',\n",
       " '사실형-긍정-현재-확실',\n",
       " '사실형-긍정-과거-확실',\n",
       " '사실형-긍정-현재-확실',\n",
       " '사실형-긍정-현재-확실',\n",
       " '사실형-긍정-미래-확실',\n",
       " '사실형-긍정-과거-확실',\n",
       " '사실형-긍정-과거-확실',\n",
       " '사실형-긍정-현재-확실',\n",
       " '사실형-긍정-과거-확실',\n",
       " '추론형-긍정-현재-확실',\n",
       " '사실형-긍정-과거-확실',\n",
       " '사실형-부정-과거-확실',\n",
       " '사실형-긍정-현재-확실',\n",
       " '사실형-긍정-현재-확실',\n",
       " '사실형-긍정-과거-확실',\n",
       " '사실형-긍정-현재-확실',\n",
       " '사실형-긍정-과거-확실',\n",
       " '사실형-긍정-과거-확실',\n",
       " '사실형-긍정-과거-확실',\n",
       " '사실형-긍정-과거-확실',\n",
       " '사실형-긍정-현재-확실',\n",
       " '추론형-긍정-현재-확실',\n",
       " '사실형-긍정-현재-확실',\n",
       " '추론형-부정-현재-확실',\n",
       " '사실형-긍정-현재-확실',\n",
       " '사실형-긍정-과거-확실',\n",
       " '사실형-긍정-과거-확실',\n",
       " '사실형-긍정-과거-확실',\n",
       " '사실형-긍정-과거-확실',\n",
       " '사실형-긍정-현재-확실',\n",
       " '사실형-긍정-현재-확실',\n",
       " '사실형-긍정-과거-확실',\n",
       " '사실형-긍정-과거-확실',\n",
       " '사실형-긍정-과거-확실',\n",
       " '사실형-긍정-현재-확실',\n",
       " '사실형-긍정-과거-확실',\n",
       " '사실형-긍정-미래-확실',\n",
       " '사실형-긍정-과거-확실',\n",
       " '사실형-긍정-현재-확실',\n",
       " '사실형-긍정-과거-확실',\n",
       " '사실형-긍정-현재-확실',\n",
       " '사실형-긍정-현재-확실',\n",
       " '사실형-긍정-현재-확실',\n",
       " '사실형-긍정-과거-확실',\n",
       " '사실형-긍정-과거-확실',\n",
       " '사실형-긍정-과거-확실',\n",
       " '사실형-긍정-과거-확실',\n",
       " '사실형-긍정-미래-확실',\n",
       " '사실형-긍정-과거-확실',\n",
       " '사실형-긍정-현재-확실',\n",
       " '사실형-긍정-미래-확실',\n",
       " '사실형-긍정-과거-확실',\n",
       " '사실형-긍정-과거-확실',\n",
       " '사실형-긍정-과거-확실',\n",
       " '사실형-긍정-미래-확실',\n",
       " '사실형-긍정-미래-확실',\n",
       " '사실형-긍정-과거-확실',\n",
       " '사실형-긍정-과거-확실',\n",
       " '사실형-긍정-미래-확실',\n",
       " '사실형-긍정-현재-확실',\n",
       " '사실형-긍정-과거-확실',\n",
       " '사실형-긍정-과거-확실',\n",
       " '사실형-긍정-현재-불확실',\n",
       " '사실형-긍정-현재-확실',\n",
       " '사실형-긍정-현재-확실',\n",
       " '사실형-긍정-현재-확실',\n",
       " '추론형-긍정-현재-확실',\n",
       " '사실형-긍정-현재-확실',\n",
       " '사실형-긍정-과거-확실',\n",
       " '사실형-긍정-과거-확실',\n",
       " '사실형-긍정-현재-확실',\n",
       " '사실형-긍정-현재-확실',\n",
       " '사실형-긍정-과거-확실',\n",
       " '사실형-긍정-현재-확실',\n",
       " '사실형-긍정-과거-확실',\n",
       " '사실형-긍정-미래-확실',\n",
       " '사실형-긍정-과거-확실',\n",
       " '사실형-긍정-현재-확실',\n",
       " '사실형-긍정-현재-확실',\n",
       " '사실형-긍정-현재-확실',\n",
       " '사실형-긍정-과거-확실',\n",
       " '사실형-긍정-과거-확실',\n",
       " '사실형-긍정-과거-확실',\n",
       " '사실형-긍정-과거-확실',\n",
       " '사실형-긍정-현재-확실',\n",
       " '대화형-긍정-현재-확실',\n",
       " '사실형-긍정-과거-확실',\n",
       " '사실형-긍정-과거-확실',\n",
       " '사실형-긍정-과거-확실',\n",
       " '사실형-긍정-현재-확실',\n",
       " '사실형-긍정-현재-확실',\n",
       " '사실형-긍정-현재-확실',\n",
       " '사실형-긍정-현재-확실',\n",
       " '추론형-긍정-현재-확실',\n",
       " '사실형-긍정-과거-확실',\n",
       " '사실형-긍정-과거-확실',\n",
       " '사실형-긍정-현재-확실',\n",
       " '사실형-긍정-과거-확실',\n",
       " '사실형-긍정-현재-확실',\n",
       " '사실형-긍정-현재-확실',\n",
       " '사실형-긍정-과거-확실',\n",
       " '사실형-긍정-현재-확실',\n",
       " '사실형-긍정-미래-확실',\n",
       " '추론형-긍정-미래-확실',\n",
       " '추론형-긍정-현재-확실',\n",
       " '사실형-긍정-현재-확실',\n",
       " '사실형-부정-현재-불확실',\n",
       " '사실형-긍정-현재-확실',\n",
       " '사실형-긍정-과거-확실',\n",
       " '사실형-긍정-현재-확실',\n",
       " '사실형-긍정-현재-확실',\n",
       " '사실형-긍정-현재-확실',\n",
       " '추론형-긍정-미래-불확실',\n",
       " '사실형-긍정-현재-확실',\n",
       " '사실형-긍정-과거-확실',\n",
       " '사실형-긍정-현재-확실',\n",
       " '사실형-긍정-현재-확실',\n",
       " '사실형-긍정-현재-확실',\n",
       " '사실형-긍정-과거-확실',\n",
       " '사실형-긍정-과거-확실',\n",
       " '사실형-긍정-현재-확실',\n",
       " '사실형-긍정-과거-확실',\n",
       " '사실형-긍정-과거-확실',\n",
       " '사실형-긍정-현재-불확실',\n",
       " '사실형-긍정-과거-확실',\n",
       " '사실형-긍정-과거-확실',\n",
       " '사실형-긍정-과거-확실',\n",
       " '사실형-긍정-미래-확실',\n",
       " '사실형-긍정-현재-확실',\n",
       " '사실형-긍정-과거-확실',\n",
       " '사실형-긍정-과거-확실',\n",
       " '사실형-긍정-현재-확실',\n",
       " '추론형-긍정-과거-확실',\n",
       " '사실형-긍정-과거-확실',\n",
       " '사실형-긍정-미래-확실',\n",
       " '사실형-긍정-과거-확실',\n",
       " '사실형-긍정-현재-확실',\n",
       " '사실형-긍정-현재-확실',\n",
       " '사실형-긍정-과거-확실',\n",
       " '사실형-긍정-과거-확실',\n",
       " '사실형-긍정-과거-확실',\n",
       " '사실형-긍정-과거-확실',\n",
       " '사실형-긍정-과거-확실',\n",
       " '사실형-긍정-과거-확실',\n",
       " '사실형-긍정-과거-확실',\n",
       " '사실형-긍정-과거-확실',\n",
       " '사실형-긍정-과거-확실',\n",
       " '추론형-부정-과거-확실',\n",
       " '사실형-긍정-현재-확실',\n",
       " '사실형-긍정-과거-확실',\n",
       " '사실형-긍정-미래-불확실',\n",
       " '사실형-긍정-과거-확실',\n",
       " '사실형-긍정-현재-확실',\n",
       " '추론형-긍정-현재-확실',\n",
       " ...]"
      ]
     },
     "execution_count": 26,
     "metadata": {},
     "output_type": "execute_result"
    }
   ],
   "source": [
    "predictions"
   ]
  },
  {
   "cell_type": "markdown",
   "id": "c3857a4f-35e4-45d0-a90c-33e5a15393a0",
   "metadata": {},
   "source": [
    "## Submission"
   ]
  },
  {
   "cell_type": "code",
   "execution_count": 32,
   "id": "8a468229-d84b-4027-8884-22847e54450b",
   "metadata": {
    "ExecuteTime": {
     "end_time": "2022-12-15T07:27:56.870815Z",
     "start_time": "2022-12-15T07:27:56.854064Z"
    }
   },
   "outputs": [],
   "source": [
    "submit = pd.read_csv('data/sample_submission.csv')\n",
    "submit['label'] = predictions"
   ]
  },
  {
   "cell_type": "code",
   "execution_count": 33,
   "id": "0336e757-46c7-4cb5-aa70-48a2710acaa5",
   "metadata": {
    "ExecuteTime": {
     "end_time": "2022-12-15T07:27:58.835993Z",
     "start_time": "2022-12-15T07:27:58.822002Z"
    }
   },
   "outputs": [
    {
     "data": {
      "text/html": [
       "<div>\n",
       "<style scoped>\n",
       "    .dataframe tbody tr th:only-of-type {\n",
       "        vertical-align: middle;\n",
       "    }\n",
       "\n",
       "    .dataframe tbody tr th {\n",
       "        vertical-align: top;\n",
       "    }\n",
       "\n",
       "    .dataframe thead th {\n",
       "        text-align: right;\n",
       "    }\n",
       "</style>\n",
       "<table border=\"1\" class=\"dataframe\">\n",
       "  <thead>\n",
       "    <tr style=\"text-align: right;\">\n",
       "      <th></th>\n",
       "      <th>ID</th>\n",
       "      <th>label</th>\n",
       "    </tr>\n",
       "  </thead>\n",
       "  <tbody>\n",
       "    <tr>\n",
       "      <th>0</th>\n",
       "      <td>TEST_0000</td>\n",
       "      <td>사실형-긍정-과거-확실</td>\n",
       "    </tr>\n",
       "    <tr>\n",
       "      <th>1</th>\n",
       "      <td>TEST_0001</td>\n",
       "      <td>사실형-긍정-과거-확실</td>\n",
       "    </tr>\n",
       "    <tr>\n",
       "      <th>2</th>\n",
       "      <td>TEST_0002</td>\n",
       "      <td>사실형-긍정-과거-확실</td>\n",
       "    </tr>\n",
       "    <tr>\n",
       "      <th>3</th>\n",
       "      <td>TEST_0003</td>\n",
       "      <td>사실형-긍정-과거-확실</td>\n",
       "    </tr>\n",
       "    <tr>\n",
       "      <th>4</th>\n",
       "      <td>TEST_0004</td>\n",
       "      <td>사실형-긍정-과거-확실</td>\n",
       "    </tr>\n",
       "  </tbody>\n",
       "</table>\n",
       "</div>"
      ],
      "text/plain": [
       "          ID         label\n",
       "0  TEST_0000  사실형-긍정-과거-확실\n",
       "1  TEST_0001  사실형-긍정-과거-확실\n",
       "2  TEST_0002  사실형-긍정-과거-확실\n",
       "3  TEST_0003  사실형-긍정-과거-확실\n",
       "4  TEST_0004  사실형-긍정-과거-확실"
      ]
     },
     "execution_count": 33,
     "metadata": {},
     "output_type": "execute_result"
    }
   ],
   "source": [
    "submit.head()"
   ]
  },
  {
   "cell_type": "code",
   "execution_count": 35,
   "id": "8bf893de",
   "metadata": {
    "ExecuteTime": {
     "end_time": "2022-12-15T07:29:11.659384Z",
     "start_time": "2022-12-15T07:29:11.656804Z"
    }
   },
   "outputs": [],
   "source": [
    "import datetime"
   ]
  },
  {
   "cell_type": "code",
   "execution_count": 37,
   "id": "ced9ec77-da09-4226-905c-299bd782f3f4",
   "metadata": {
    "ExecuteTime": {
     "end_time": "2022-12-15T07:29:18.534409Z",
     "start_time": "2022-12-15T07:29:18.504631Z"
    }
   },
   "outputs": [],
   "source": [
    "path = 'result/'\n",
    "now = datetime.datetime.now().strftime('%Y-%m-%d_%H:%M:%S')\n",
    "submit.to_csv(f'{path}{now}.csv',encoding='utf-8', index=False)\n"
   ]
  },
  {
   "cell_type": "code",
   "execution_count": null,
   "id": "f8e4b6d0",
   "metadata": {},
   "outputs": [],
   "source": []
  }
 ],
 "metadata": {
  "kernelspec": {
   "display_name": "Python 3 (ipykernel)",
   "language": "python",
   "name": "python3"
  },
  "language_info": {
   "codemirror_mode": {
    "name": "ipython",
    "version": 3
   },
   "file_extension": ".py",
   "mimetype": "text/x-python",
   "name": "python",
   "nbconvert_exporter": "python",
   "pygments_lexer": "ipython3",
   "version": "3.8.13"
  },
  "toc": {
   "base_numbering": 1,
   "nav_menu": {},
   "number_sections": false,
   "sideBar": true,
   "skip_h1_title": false,
   "title_cell": "Table of Contents",
   "title_sidebar": "Contents",
   "toc_cell": false,
   "toc_position": {
    "height": "calc(100% - 180px)",
    "left": "10px",
    "top": "150px",
    "width": "308.594px"
   },
   "toc_section_display": true,
   "toc_window_display": true
  }
 },
 "nbformat": 4,
 "nbformat_minor": 5
}
