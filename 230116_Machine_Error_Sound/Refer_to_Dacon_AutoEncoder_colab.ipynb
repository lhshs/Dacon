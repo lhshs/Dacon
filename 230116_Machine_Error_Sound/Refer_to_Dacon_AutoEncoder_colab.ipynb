{
 "cells": [
  {
   "cell_type": "markdown",
   "id": "c912b48e",
   "metadata": {},
   "source": [
    "https://dacon.io/competitions/official/235930/codeshare/5508?page=2&dtype=recent"
   ]
  },
  {
   "cell_type": "markdown",
   "id": "a2bcba5f-002e-4f49-9622-ada6117faf0a",
   "metadata": {
    "id": "a2bcba5f-002e-4f49-9622-ada6117faf0a"
   },
   "source": [
    "## Import"
   ]
  },
  {
   "cell_type": "code",
   "execution_count": 1,
   "id": "RkdW8uDeFnQ2",
   "metadata": {
    "ExecuteTime": {
     "end_time": "2022-12-17T08:48:51.799466Z",
     "start_time": "2022-12-17T08:48:51.043856Z"
    },
    "colab": {
     "base_uri": "https://localhost:8080/"
    },
    "id": "RkdW8uDeFnQ2",
    "outputId": "29166093-808f-4476-befc-17de0e53b20f",
    "scrolled": true
   },
   "outputs": [],
   "source": [
    "import random\n",
    "import pandas as pd\n",
    "import numpy as np\n",
    "import os\n",
    "import torch\n",
    "import torch.nn as nn\n",
    "import torch.optim as optim\n",
    "import torch.nn.functional as F\n",
    "from torch.utils.data import Dataset, DataLoader\n",
    "from tqdm.auto import tqdm\n",
    "from sklearn.metrics import f1_score"
   ]
  },
  {
   "cell_type": "code",
   "execution_count": 19,
   "id": "cfbecd57",
   "metadata": {
    "ExecuteTime": {
     "end_time": "2022-12-17T08:53:05.371600Z",
     "start_time": "2022-12-17T08:53:05.368117Z"
    }
   },
   "outputs": [],
   "source": [
    "device = torch.device('cuda') if torch.cuda.is_available() else torch.device('cpu')"
   ]
  },
  {
   "cell_type": "code",
   "execution_count": 2,
   "id": "2b0d9b68-7102-4eca-9543-3b9b8acafc6e",
   "metadata": {
    "ExecuteTime": {
     "end_time": "2022-12-17T08:48:58.144855Z",
     "start_time": "2022-12-17T08:48:58.141145Z"
    },
    "id": "2b0d9b68-7102-4eca-9543-3b9b8acafc6e"
   },
   "outputs": [],
   "source": [
    "# import random\n",
    "# import pandas as pd\n",
    "# import numpy as np\n",
    "# import os\n",
    "# import librosa\n",
    "# from sklearn.model_selection import train_test_split\n",
    "# from sklearn import preprocessing\n",
    "# from sklearn.ensemble import IsolationForest\n",
    "# from sklearn.metrics import accuracy_score\n",
    "# from sklearn.metrics import f1_score\n",
    "# from sklearn.metrics import classification_report\n",
    "\n",
    "# import matplotlib.pyplot as plt\n",
    "\n",
    "# from tqdm.auto import tqdm\n",
    "\n",
    "import warnings\n",
    "warnings.filterwarnings(action='ignore') "
   ]
  },
  {
   "cell_type": "code",
   "execution_count": 3,
   "id": "kkxvqSdKFkqu",
   "metadata": {
    "ExecuteTime": {
     "end_time": "2022-12-17T08:49:18.846575Z",
     "start_time": "2022-12-17T08:49:18.843420Z"
    },
    "id": "kkxvqSdKFkqu"
   },
   "outputs": [],
   "source": [
    "EPOCHS = 400\n",
    "LR = 1e-2\n",
    "BS = 16384\n",
    "SEED = 41"
   ]
  },
  {
   "cell_type": "code",
   "execution_count": 4,
   "id": "a77bb1af",
   "metadata": {
    "ExecuteTime": {
     "end_time": "2022-12-17T08:49:19.140635Z",
     "start_time": "2022-12-17T08:49:19.131479Z"
    }
   },
   "outputs": [],
   "source": [
    "def seed_everything(seed):\n",
    "    random.seed(seed)\n",
    "    os.environ['PYTHONHASHSEED'] = str(seed)\n",
    "    np.random.seed(seed)\n",
    "    torch.manual_seed(seed)\n",
    "    torch.cuda.manual_seed(seed)\n",
    "    torch.backends.cudnn.deterministic = True\n",
    "    torch.backends.cudnn.benchmark = True\n",
    "\n",
    "seed_everything(SEED) # Seed 고정"
   ]
  },
  {
   "cell_type": "markdown",
   "id": "05a4172e-5791-446f-9616-35c09d8bf25a",
   "metadata": {
    "id": "05a4172e-5791-446f-9616-35c09d8bf25a"
   },
   "source": [
    "## Data Pre-processing"
   ]
  },
  {
   "cell_type": "code",
   "execution_count": 5,
   "id": "b14fabf1",
   "metadata": {
    "ExecuteTime": {
     "end_time": "2022-12-17T08:49:25.437096Z",
     "start_time": "2022-12-17T08:49:25.433900Z"
    },
    "id": "b14fabf1"
   },
   "outputs": [],
   "source": [
    "import os\n",
    "os.chdir('/Users/lhs/Desktop/Machine_Sound_Data')\n",
    "# os.chdir('/content/drive/MyDrive/YDS/DACON/230116_Machine_Error_Sound')"
   ]
  },
  {
   "cell_type": "code",
   "execution_count": 6,
   "id": "a62c78cd-4f40-4e98-b8a6-1b6f1d906b4d",
   "metadata": {
    "ExecuteTime": {
     "end_time": "2022-12-17T08:49:26.064931Z",
     "start_time": "2022-12-17T08:49:25.995078Z"
    },
    "id": "a62c78cd-4f40-4e98-b8a6-1b6f1d906b4d"
   },
   "outputs": [],
   "source": [
    "train = pd.read_csv('./train_.csv').drop(columns=['Unnamed: 0']) # 모두 정상 Sample\n",
    "# train_df = train_df.iloc[:,2:]\n",
    "test = pd.read_csv('./test_.csv').drop(columns=['Unnamed: 0'])\n",
    "# test_df = test_df.iloc[:,2:]"
   ]
  },
  {
   "cell_type": "code",
   "execution_count": 9,
   "id": "751ae163",
   "metadata": {
    "ExecuteTime": {
     "end_time": "2022-12-17T08:50:23.527634Z",
     "start_time": "2022-12-17T08:50:23.494934Z"
    },
    "id": "751ae163"
   },
   "outputs": [],
   "source": [
    "from sklearn.model_selection import train_test_split\n",
    "\n",
    "X_train, x_val, Y_train, y_val = train_test_split(train, train['LABEL'], test_size=0.2)"
   ]
  },
  {
   "cell_type": "code",
   "execution_count": 11,
   "id": "67b9a40b",
   "metadata": {
    "ExecuteTime": {
     "end_time": "2022-12-17T08:50:36.921657Z",
     "start_time": "2022-12-17T08:50:36.911627Z"
    }
   },
   "outputs": [],
   "source": [
    "class MyDataset(Dataset):\n",
    "    def __init__(self, df, eval_mode):\n",
    "        self.df = df\n",
    "        self.eval_mode = eval_mode\n",
    "        if self.eval_mode:\n",
    "            self.labels = self.df['LABEL'].values\n",
    "            self.df = self.df.drop(columns=['LABEL']).values\n",
    "        else:\n",
    "            self.df = self.df.values\n",
    "        \n",
    "    def __getitem__(self, index):\n",
    "        if self.eval_mode:\n",
    "            self.x = self.df[index]\n",
    "            self.y = self.labels[index]\n",
    "            return torch.Tensor(self.x), self.y\n",
    "        else:\n",
    "            self.x = self.df[index]\n",
    "            return torch.Tensor(self.x)\n",
    "        \n",
    "    def __len__(self):\n",
    "        return len(self.df)"
   ]
  },
  {
   "cell_type": "code",
   "execution_count": 13,
   "id": "53c4e207",
   "metadata": {
    "ExecuteTime": {
     "end_time": "2022-12-17T08:51:03.969646Z",
     "start_time": "2022-12-17T08:51:03.961489Z"
    }
   },
   "outputs": [],
   "source": [
    "train_dataset = MyDataset(df = X_train, eval_mode=False)\n",
    "train_loader = DataLoader(train_dataset, batch_size=BS, shuffle=True, num_workers=6)\n",
    "\n",
    "val_dataset = MyDataset(df = x_val, eval_mode=True)\n",
    "val_loader = DataLoader(val_dataset, batch_size=BS, shuffle=False, num_workers=6)"
   ]
  },
  {
   "cell_type": "markdown",
   "id": "71da50d3",
   "metadata": {},
   "source": [
    "# 1D AutoEncoder"
   ]
  },
  {
   "cell_type": "code",
   "execution_count": 14,
   "id": "ce377e44",
   "metadata": {
    "ExecuteTime": {
     "end_time": "2022-12-17T08:51:34.051321Z",
     "start_time": "2022-12-17T08:51:34.042984Z"
    }
   },
   "outputs": [],
   "source": [
    "class AutoEncoder(nn.Module):\n",
    "    def __init__(self):\n",
    "        super(AutoEncoder, self).__init__()\n",
    "        self.Encoder = nn.Sequential(\n",
    "            nn.Linear(30,64),\n",
    "            nn.BatchNorm1d(64),\n",
    "            nn.LeakyReLU(),\n",
    "            nn.Linear(64,128),\n",
    "            nn.BatchNorm1d(128),\n",
    "            nn.LeakyReLU(),\n",
    "        )\n",
    "        self.Decoder = nn.Sequential(\n",
    "            nn.Linear(128,64),\n",
    "            nn.BatchNorm1d(64),\n",
    "            nn.LeakyReLU(),\n",
    "            nn.Linear(64,30),\n",
    "        )\n",
    "        \n",
    "    def forward(self, x):\n",
    "        x = self.Encoder(x)\n",
    "        x = self.Decoder(x)\n",
    "        return x"
   ]
  },
  {
   "cell_type": "markdown",
   "id": "aaa006b7",
   "metadata": {},
   "source": [
    "# Train"
   ]
  },
  {
   "cell_type": "code",
   "execution_count": 17,
   "id": "8fd3b7e4",
   "metadata": {
    "ExecuteTime": {
     "end_time": "2022-12-17T08:52:47.487878Z",
     "start_time": "2022-12-17T08:52:47.472805Z"
    }
   },
   "outputs": [],
   "source": [
    "class Trainer():\n",
    "    def __init__(self, model, optimizer, train_loader, val_loader, scheduler, device):\n",
    "        self.model = model\n",
    "        self.optimizer = optimizer\n",
    "        self.train_loader = train_loader\n",
    "        self.val_loader = val_loader\n",
    "        self.scheduler = scheduler\n",
    "        self.device = device\n",
    "        # Loss Function\n",
    "        self.criterion = nn.L1Loss().to(self.device)\n",
    "        \n",
    "    def fit(self, ):\n",
    "        self.model.to(self.device)\n",
    "        best_score = 0\n",
    "        for epoch in range(EPOCHS):\n",
    "            self.model.train()\n",
    "            train_loss = []\n",
    "            for x in iter(self.train_loader):\n",
    "                x = x.float().to(self.device)\n",
    "                self.optimizer.zero_grad()\n",
    "\n",
    "                _x = self.model(x)\n",
    "                loss = self.criterion(x, _x)\n",
    "\n",
    "                loss.backward()\n",
    "                self.optimizer.step()\n",
    "\n",
    "                train_loss.append(loss.item())\n",
    "\n",
    "            score = self.validation(self.model, 0.95)\n",
    "            print(f'Epoch : [{epoch}] Train loss : [{np.mean(train_loss)}] Val Score : [{score}])')\n",
    "\n",
    "            if self.scheduler is not None:\n",
    "                self.scheduler.step(score)\n",
    "\n",
    "            if best_score < score:\n",
    "                best_score = score\n",
    "                torch.save(model.module.state_dict(), './best_model.pth', _use_new_zipfile_serialization=False)\n",
    "    \n",
    "    def validation(self, eval_model, thr):\n",
    "        cos = nn.CosineSimilarity(dim=1, eps=1e-6)\n",
    "        eval_model.eval()\n",
    "        pred = []\n",
    "        true = []\n",
    "        with torch.no_grad():\n",
    "            for x, y in iter(self.val_loader):\n",
    "                x = x.float().to(self.device)\n",
    "\n",
    "                _x = self.model(x)\n",
    "                diff = cos(x, _x).cpu().tolist()\n",
    "                batch_pred = np.where(np.array(diff)<thr, 1,0).tolist()\n",
    "                pred += batch_pred\n",
    "                true += y.tolist()\n",
    "\n",
    "        return f1_score(true, pred, average='macro')"
   ]
  },
  {
   "cell_type": "code",
   "execution_count": null,
   "id": "988483a2",
   "metadata": {
    "ExecuteTime": {
     "start_time": "2022-12-17T08:53:07.907Z"
    }
   },
   "outputs": [
    {
     "name": "stderr",
     "output_type": "stream",
     "text": [
      "Traceback (most recent call last):\n",
      "  File \"<string>\", line 1, in <module>\n",
      "  File \"/Users/lhs/miniforge3/envs/lhs/lib/python3.8/multiprocessing/spawn.py\", line 116, in spawn_main\n",
      "    exitcode = _main(fd, parent_sentinel)\n",
      "  File \"/Users/lhs/miniforge3/envs/lhs/lib/python3.8/multiprocessing/spawn.py\", line 126, in _main\n",
      "    self = reduction.pickle.load(from_parent)\n",
      "AttributeError: Can't get attribute 'MyDataset' on <module '__main__' (built-in)>\n"
     ]
    }
   ],
   "source": [
    "model = nn.DataParallel(AutoEncoder())\n",
    "model.eval()\n",
    "optimizer = torch.optim.Adam(params = model.parameters(), lr = LR)\n",
    "scheduler = torch.optim.lr_scheduler.ReduceLROnPlateau(optimizer, mode='max', factor=0.5, patience=10, threshold_mode='abs', min_lr=1e-8, verbose=True)\n",
    "\n",
    "trainer = Trainer(model, optimizer, train_loader, val_loader, scheduler, device)\n",
    "trainer.fit()"
   ]
  },
  {
   "cell_type": "markdown",
   "id": "0fecf184-57e8-4969-bce1-46da090bdd32",
   "metadata": {
    "id": "0fecf184-57e8-4969-bce1-46da090bdd32"
   },
   "source": [
    "## Submission"
   ]
  },
  {
   "cell_type": "code",
   "execution_count": 14,
   "id": "05157612-68bf-4102-a723-8c0ad0f76755",
   "metadata": {
    "ExecuteTime": {
     "end_time": "2022-12-17T08:33:25.575308Z",
     "start_time": "2022-12-17T08:33:25.509277Z"
    },
    "id": "05157612-68bf-4102-a723-8c0ad0f76755"
   },
   "outputs": [],
   "source": [
    "submit = pd.read_csv('./sample_submission.csv')"
   ]
  },
  {
   "cell_type": "code",
   "execution_count": 17,
   "id": "38b5a428-5c17-4056-a3fe-4f50e30412ef",
   "metadata": {
    "ExecuteTime": {
     "end_time": "2022-12-17T08:33:46.439536Z",
     "start_time": "2022-12-17T08:33:46.429471Z"
    },
    "id": "38b5a428-5c17-4056-a3fe-4f50e30412ef",
    "outputId": "88448099-2501-41bd-f990-cb8b5f05394e"
   },
   "outputs": [
    {
     "data": {
      "text/html": [
       "<div>\n",
       "<style scoped>\n",
       "    .dataframe tbody tr th:only-of-type {\n",
       "        vertical-align: middle;\n",
       "    }\n",
       "\n",
       "    .dataframe tbody tr th {\n",
       "        vertical-align: top;\n",
       "    }\n",
       "\n",
       "    .dataframe thead th {\n",
       "        text-align: right;\n",
       "    }\n",
       "</style>\n",
       "<table border=\"1\" class=\"dataframe\">\n",
       "  <thead>\n",
       "    <tr style=\"text-align: right;\">\n",
       "      <th></th>\n",
       "      <th>SAMPLE_ID</th>\n",
       "      <th>LABEL</th>\n",
       "    </tr>\n",
       "  </thead>\n",
       "  <tbody>\n",
       "    <tr>\n",
       "      <th>0</th>\n",
       "      <td>TEST_0000</td>\n",
       "      <td>0</td>\n",
       "    </tr>\n",
       "    <tr>\n",
       "      <th>1</th>\n",
       "      <td>TEST_0001</td>\n",
       "      <td>0</td>\n",
       "    </tr>\n",
       "    <tr>\n",
       "      <th>2</th>\n",
       "      <td>TEST_0002</td>\n",
       "      <td>0</td>\n",
       "    </tr>\n",
       "    <tr>\n",
       "      <th>3</th>\n",
       "      <td>TEST_0003</td>\n",
       "      <td>0</td>\n",
       "    </tr>\n",
       "    <tr>\n",
       "      <th>4</th>\n",
       "      <td>TEST_0004</td>\n",
       "      <td>0</td>\n",
       "    </tr>\n",
       "  </tbody>\n",
       "</table>\n",
       "</div>"
      ],
      "text/plain": [
       "   SAMPLE_ID  LABEL\n",
       "0  TEST_0000      0\n",
       "1  TEST_0001      0\n",
       "2  TEST_0002      0\n",
       "3  TEST_0003      0\n",
       "4  TEST_0004      0"
      ]
     },
     "execution_count": 17,
     "metadata": {},
     "output_type": "execute_result"
    }
   ],
   "source": [
    "submit['LABEL'] = temp_result\n",
    "submit.head()"
   ]
  },
  {
   "cell_type": "code",
   "execution_count": 18,
   "id": "b18282a8",
   "metadata": {
    "ExecuteTime": {
     "end_time": "2022-12-17T08:33:47.520773Z",
     "start_time": "2022-12-17T08:33:47.514444Z"
    },
    "id": "b18282a8",
    "outputId": "614656a7-47f7-402d-837c-792681d482b6"
   },
   "outputs": [
    {
     "data": {
      "text/plain": [
       "0    1325\n",
       "1     189\n",
       "Name: LABEL, dtype: int64"
      ]
     },
     "execution_count": 18,
     "metadata": {},
     "output_type": "execute_result"
    }
   ],
   "source": [
    "submit.LABEL.value_counts()"
   ]
  },
  {
   "cell_type": "code",
   "execution_count": 19,
   "id": "59c47261",
   "metadata": {
    "ExecuteTime": {
     "end_time": "2022-12-17T08:33:50.150185Z",
     "start_time": "2022-12-17T08:33:50.147095Z"
    },
    "id": "59c47261"
   },
   "outputs": [],
   "source": [
    "import datetime"
   ]
  },
  {
   "cell_type": "code",
   "execution_count": 20,
   "id": "6c1c8567-eacd-4de3-b5e2-490102224edd",
   "metadata": {
    "ExecuteTime": {
     "end_time": "2022-12-17T08:33:50.856329Z",
     "start_time": "2022-12-17T08:33:50.844027Z"
    },
    "id": "6c1c8567-eacd-4de3-b5e2-490102224edd"
   },
   "outputs": [],
   "source": [
    "path = '/Users/lhs/Desktop/GitHub/Dacon/230116_Machine_Error_Sound/result/'\n",
    "\n",
    "now = datetime.datetime.now().strftime('%Y-%m-%d_%H:%M:%S')\n",
    "submit.to_csv(f'{path}{now}.csv',encoding='utf-8', index=False)"
   ]
  },
  {
   "cell_type": "code",
   "execution_count": null,
   "id": "a9870cf4",
   "metadata": {
    "id": "a9870cf4"
   },
   "outputs": [],
   "source": []
  }
 ],
 "metadata": {
  "accelerator": "GPU",
  "colab": {
   "provenance": []
  },
  "gpuClass": "standard",
  "kernelspec": {
   "display_name": "Python 3 (ipykernel)",
   "language": "python",
   "name": "python3"
  },
  "language_info": {
   "codemirror_mode": {
    "name": "ipython",
    "version": 3
   },
   "file_extension": ".py",
   "mimetype": "text/x-python",
   "name": "python",
   "nbconvert_exporter": "python",
   "pygments_lexer": "ipython3",
   "version": "3.8.13"
  },
  "toc": {
   "base_numbering": 1,
   "nav_menu": {},
   "number_sections": false,
   "sideBar": true,
   "skip_h1_title": false,
   "title_cell": "Table of Contents",
   "title_sidebar": "Contents",
   "toc_cell": false,
   "toc_position": {},
   "toc_section_display": true,
   "toc_window_display": false
  }
 },
 "nbformat": 4,
 "nbformat_minor": 5
}
