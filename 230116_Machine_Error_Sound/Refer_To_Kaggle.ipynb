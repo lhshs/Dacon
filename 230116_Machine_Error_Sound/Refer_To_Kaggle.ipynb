{
 "cells": [
  {
   "cell_type": "markdown",
   "id": "ff49f200",
   "metadata": {},
   "source": [
    "https://www.kaggle.com/code/victorambonati/unsupervised-anomaly-detection"
   ]
  },
  {
   "cell_type": "code",
   "execution_count": 1,
   "id": "4f5ca360",
   "metadata": {
    "ExecuteTime": {
     "end_time": "2022-12-16T06:42:05.098385Z",
     "start_time": "2022-12-16T06:42:04.209156Z"
    }
   },
   "outputs": [],
   "source": [
    "# libraries\n",
    "#%matplotlib notebook\n",
    "\n",
    "import pandas as pd\n",
    "import numpy as np\n",
    "\n",
    "import matplotlib\n",
    "import seaborn\n",
    "import matplotlib.dates as md\n",
    "from matplotlib import pyplot as plt\n",
    "\n",
    "from sklearn import preprocessing\n",
    "from sklearn.decomposition import PCA\n",
    "from sklearn.cluster import KMeans\n",
    "from sklearn.covariance import EllipticEnvelope\n",
    "#from pyemma import msm # not available on Kaggle Kernel\n",
    "from sklearn.ensemble import IsolationForest\n",
    "from sklearn.svm import OneClassSVM"
   ]
  },
  {
   "cell_type": "code",
   "execution_count": 55,
   "id": "89441cb8",
   "metadata": {
    "ExecuteTime": {
     "end_time": "2022-12-16T07:03:59.070053Z",
     "start_time": "2022-12-16T07:03:59.066318Z"
    }
   },
   "outputs": [],
   "source": [
    "from tqdm.auto import tqdm\n",
    "import librosa\n",
    "\n",
    "import warnings\n",
    "warnings.filterwarnings(action='ignore') "
   ]
  },
  {
   "cell_type": "code",
   "execution_count": 2,
   "id": "fc487ba7",
   "metadata": {
    "ExecuteTime": {
     "end_time": "2022-12-16T06:42:43.431011Z",
     "start_time": "2022-12-16T06:42:43.418756Z"
    }
   },
   "outputs": [],
   "source": [
    "# some function for later\n",
    "\n",
    "# return Series of distance between each point and his distance with the closest centroid\n",
    "def getDistanceByPoint(data, model):\n",
    "    distance = pd.Series()\n",
    "    for i in range(0,len(data)):\n",
    "        Xa = np.array(data.loc[i])\n",
    "        Xb = model.cluster_centers_[model.labels_[i]-1]\n",
    "        distance.set_value(i, np.linalg.norm(Xa-Xb))\n",
    "    return distance\n",
    "\n",
    "# train markov model to get transition matrix\n",
    "def getTransitionMatrix (df):\n",
    "    df = np.array(df)\n",
    "    model = msm.estimate_markov_model(df, 1)\n",
    "    return model.transition_matrix\n",
    "\n",
    "def markovAnomaly(df, windows_size, threshold):\n",
    "    transition_matrix = getTransitionMatrix(df)\n",
    "    real_threshold = threshold**windows_size\n",
    "    df_anomaly = []\n",
    "    for j in range(0, len(df)):\n",
    "        if (j < windows_size):\n",
    "            df_anomaly.append(0)\n",
    "        else:\n",
    "            sequence = df[j-windows_size:j]\n",
    "            sequence = sequence.reset_index(drop=True)\n",
    "            df_anomaly.append(anomalyElement(sequence, real_threshold, transition_matrix))\n",
    "    return df_anomaly"
   ]
  },
  {
   "cell_type": "markdown",
   "id": "a21d39f3",
   "metadata": {},
   "source": [
    "# Data\n"
   ]
  },
  {
   "cell_type": "code",
   "execution_count": 3,
   "id": "0f07e34c",
   "metadata": {
    "ExecuteTime": {
     "end_time": "2022-12-16T06:43:07.815778Z",
     "start_time": "2022-12-16T06:43:07.752060Z"
    }
   },
   "outputs": [],
   "source": [
    "import os\n",
    "os.chdir('/Users/lhs/Desktop/Machine_Sound_Data')\n",
    "\n",
    "train_df = pd.read_csv('./train.csv') # 모두 정상 Sample\n",
    "test_df = pd.read_csv('./test.csv')"
   ]
  },
  {
   "cell_type": "markdown",
   "id": "3d9c3ba5",
   "metadata": {},
   "source": [
    "### Hyperparameter Setting"
   ]
  },
  {
   "cell_type": "code",
   "execution_count": 10,
   "id": "57cb5775",
   "metadata": {
    "ExecuteTime": {
     "end_time": "2022-12-16T06:45:05.657754Z",
     "start_time": "2022-12-16T06:45:05.654659Z"
    }
   },
   "outputs": [],
   "source": [
    "CFG = {\n",
    "    'SR':16000,\n",
    "    'N_MFCC':128, # MFCC 벡터를 추출할 개수 (<=128)\n",
    "    'SEED':41\n",
    "}"
   ]
  },
  {
   "cell_type": "code",
   "execution_count": 11,
   "id": "a3a12188",
   "metadata": {
    "ExecuteTime": {
     "end_time": "2022-12-16T06:45:05.939080Z",
     "start_time": "2022-12-16T06:45:05.932291Z"
    }
   },
   "outputs": [],
   "source": [
    "def get_mfcc_feature(df):\n",
    "    features = []\n",
    "    for path in tqdm(df['SAMPLE_PATH']):\n",
    "        # librosa패키지를 사용하여 wav 파일 load\n",
    "        y, sr = librosa.load(path, sr=CFG['SR'])\n",
    "        \n",
    "        # librosa패키지를 사용하여 mfcc 추출\n",
    "        mfcc = librosa.feature.mfcc(y=y, sr=sr, n_mfcc=CFG['N_MFCC'])\n",
    "\n",
    "        y_feature = []\n",
    "        # 추출된 MFCC들의 평균을 Feature로 사용\n",
    "        for e in mfcc:\n",
    "            y_feature.append(np.mean(e))\n",
    "        features.append(y_feature)\n",
    "    return features"
   ]
  },
  {
   "cell_type": "code",
   "execution_count": 106,
   "id": "5d323a2b",
   "metadata": {
    "ExecuteTime": {
     "end_time": "2022-12-16T07:23:10.105391Z",
     "start_time": "2022-12-16T07:22:41.584840Z"
    }
   },
   "outputs": [
    {
     "data": {
      "application/vnd.jupyter.widget-view+json": {
       "model_id": "efa19efbbc7240d28722a68d34af1658",
       "version_major": 2,
       "version_minor": 0
      },
      "text/plain": [
       "  0%|          | 0/1279 [00:00<?, ?it/s]"
      ]
     },
     "metadata": {},
     "output_type": "display_data"
    },
    {
     "data": {
      "application/vnd.jupyter.widget-view+json": {
       "model_id": "021580c9d1244eb180c353e21aec2151",
       "version_major": 2,
       "version_minor": 0
      },
      "text/plain": [
       "  0%|          | 0/1514 [00:00<?, ?it/s]"
      ]
     },
     "metadata": {},
     "output_type": "display_data"
    }
   ],
   "source": [
    "train_features = get_mfcc_feature(train_df)\n",
    "test_features = get_mfcc_feature(test_df)"
   ]
  },
  {
   "cell_type": "code",
   "execution_count": 107,
   "id": "4c3f2d94",
   "metadata": {
    "ExecuteTime": {
     "end_time": "2022-12-16T07:23:10.145755Z",
     "start_time": "2022-12-16T07:23:10.106444Z"
    }
   },
   "outputs": [],
   "source": [
    "train1 = pd.DataFrame(data = train_features)\n",
    "train_mfcc = pd.concat([train1, train_df.iloc[:, 2:3]], axis = 1)\n",
    "test1 = pd.DataFrame(data = test_features)\n",
    "test_mfcc = pd.concat([test1, test_df['FAN_TYPE']], axis = 1)"
   ]
  },
  {
   "cell_type": "code",
   "execution_count": 26,
   "id": "c81c085c",
   "metadata": {
    "ExecuteTime": {
     "end_time": "2022-12-16T06:54:08.375130Z",
     "start_time": "2022-12-16T06:54:08.183742Z"
    },
    "scrolled": false
   },
   "outputs": [
    {
     "data": {
      "text/plain": [
       "<matplotlib.colorbar.Colorbar at 0x15c1eb820>"
      ]
     },
     "execution_count": 26,
     "metadata": {},
     "output_type": "execute_result"
    },
    {
     "data": {
      "image/png": "[encoded data removed]",
      "text/plain": [
       "<Figure size 432x288 with 2 Axes>"
      ]
     },
     "metadata": {
      "needs_background": "light"
     },
     "output_type": "display_data"
    }
   ],
   "source": [
    "import librosa.display\n",
    "\n",
    "librosa.display.specshow(train_features)\n",
    "plt.ylabel('MFCC')\n",
    "plt.colorbar()"
   ]
  },
  {
   "cell_type": "code",
   "execution_count": 27,
   "id": "cb404bf6",
   "metadata": {
    "ExecuteTime": {
     "end_time": "2022-12-16T06:54:09.975774Z",
     "start_time": "2022-12-16T06:54:09.846985Z"
    }
   },
   "outputs": [
    {
     "data": {
      "text/plain": [
       "<matplotlib.colorbar.Colorbar at 0x15c1a3a90>"
      ]
     },
     "execution_count": 27,
     "metadata": {},
     "output_type": "execute_result"
    },
    {
     "data": {
      "image/png": "[encoded data removed]",
      "text/plain": [
       "<Figure size 432x288 with 2 Axes>"
      ]
     },
     "metadata": {
      "needs_background": "light"
     },
     "output_type": "display_data"
    }
   ],
   "source": [
    "librosa.display.specshow(train_features)\n",
    "plt.ylabel('MFCC')\n",
    "3 plt.colorbar()"
   ]
  },
  {
   "cell_type": "markdown",
   "id": "612da7e2",
   "metadata": {},
   "source": [
    "# Models"
   ]
  },
  {
   "cell_type": "markdown",
   "id": "a4c85715",
   "metadata": {},
   "source": [
    "### Isolation Forest"
   ]
  },
  {
   "cell_type": "code",
   "execution_count": 118,
   "id": "ca39007c",
   "metadata": {
    "ExecuteTime": {
     "end_time": "2022-12-16T07:25:38.411387Z",
     "start_time": "2022-12-16T07:25:38.404587Z"
    }
   },
   "outputs": [
    {
     "data": {
      "text/plain": [
       "0          -335.180420\n",
       "1            97.775536\n",
       "2           -13.131641\n",
       "3            23.653833\n",
       "4            -8.957332\n",
       "               ...    \n",
       "124          -0.401025\n",
       "125          -0.189439\n",
       "126          -0.751755\n",
       "127          -0.223009\n",
       "FAN_TYPE      2.000000\n",
       "Name: 129, Length: 129, dtype: float64"
      ]
     },
     "execution_count": 118,
     "metadata": {},
     "output_type": "execute_result"
    }
   ],
   "source": [
    "train_mfcc.iloc[129]"
   ]
  },
  {
   "cell_type": "code",
   "execution_count": 216,
   "id": "23ae611b",
   "metadata": {
    "ExecuteTime": {
     "end_time": "2022-12-16T07:44:56.836288Z",
     "start_time": "2022-12-16T07:44:56.531946Z"
    }
   },
   "outputs": [
    {
     "name": "stdout",
     "output_type": "stream",
     "text": [
      "0    640\n",
      "1    639\n",
      "Name: LABEL, dtype: int64\n"
     ]
    }
   ],
   "source": [
    "outliers_fraction = 0.5\n",
    "\n",
    "# Take useful feature and standardize them \n",
    "data = train_mfcc.iloc[:,:128]\n",
    "min_max_scaler = preprocessing.StandardScaler()\n",
    "np_scaled = min_max_scaler.fit_transform(data)\n",
    "data = pd.DataFrame(np_scaled)\n",
    "data = pd.concat([data, train_mfcc.FAN_TYPE], axis=1)\n",
    "\n",
    "# train isolation forest \n",
    "model =  IsolationForest(n_estimators=200, max_samples=256, random_state=44, verbose=0, contamination = outliers_fraction)\n",
    "model.fit(data)\n",
    "\n",
    "# add the data to the main  \n",
    "train_mfcc['LABEL'] = pd.Series(model.predict(data))\n",
    "train_mfcc['LABEL'] = train_mfcc['LABEL'].map( {1: 0, -1: 1} )\n",
    "print(train_mfcc['LABEL'].value_counts())"
   ]
  },
  {
   "cell_type": "code",
   "execution_count": 66,
   "id": "820508f3",
   "metadata": {
    "ExecuteTime": {
     "end_time": "2022-12-16T07:09:04.712283Z",
     "start_time": "2022-12-16T07:09:04.707586Z"
    }
   },
   "outputs": [
    {
     "data": {
      "text/plain": [
       "\"\\n# visualisation of anomaly throughout time (viz 1)\\nfig, ax = plt.subplots()\\n\\na = train_mfcc.loc[train_mfcc['LABEL'] == 1] #anomaly\\n\\nax.plot(train_mfcc.columns, train_mfcc, color='blue')\\nax.scatter(a.columns, a, color='red')\\nplt.show()\\n\""
      ]
     },
     "execution_count": 66,
     "metadata": {},
     "output_type": "execute_result"
    }
   ],
   "source": [
    "'''\n",
    "# visualisation of anomaly throughout time (viz 1)\n",
    "fig, ax = plt.subplots()\n",
    "\n",
    "a = train_mfcc.loc[train_mfcc['LABEL'] == 1] #anomaly\n",
    "\n",
    "ax.plot(train_mfcc.columns, train_mfcc, color='blue')\n",
    "ax.scatter(a.columns, a, color='red')\n",
    "plt.show()\n",
    "'''"
   ]
  },
  {
   "cell_type": "markdown",
   "id": "b5b8f9a2",
   "metadata": {},
   "source": [
    "### One Class SVM"
   ]
  },
  {
   "cell_type": "code",
   "execution_count": 228,
   "id": "2ce302de",
   "metadata": {
    "ExecuteTime": {
     "end_time": "2022-12-16T07:46:49.362141Z",
     "start_time": "2022-12-16T07:46:49.111464Z"
    }
   },
   "outputs": [
    {
     "name": "stdout",
     "output_type": "stream",
     "text": [
      "1    851\n",
      "0    428\n",
      "Name: LABEL, dtype: int64\n"
     ]
    }
   ],
   "source": [
    "outliers_fraction = 0.7\n",
    "\n",
    "# Take useful feature and standardize them \n",
    "data = train_mfcc.iloc[:,:128]\n",
    "min_max_scaler = preprocessing.StandardScaler()\n",
    "np_scaled = min_max_scaler.fit_transform(data)\n",
    "data = pd.DataFrame(np_scaled)\n",
    "data = pd.concat([data, train_mfcc.FAN_TYPE], axis=1)\n",
    "\n",
    "# train isolation forest \n",
    "model =  OneClassSVM(nu=0.95 * outliers_fraction)\n",
    "model.fit(data)\n",
    "\n",
    "# add the data to the main  \n",
    "train_mfcc['LABEL'] = pd.Series(model.predict(data))\n",
    "train_mfcc['LABEL'] = train_mfcc['LABEL'].map( {1: 0, -1: 1} )\n",
    "print(train_mfcc['LABEL'].value_counts())"
   ]
  },
  {
   "cell_type": "markdown",
   "id": "65aee0df",
   "metadata": {},
   "source": [
    "# Prediction"
   ]
  },
  {
   "cell_type": "code",
   "execution_count": 229,
   "id": "3410cbf9",
   "metadata": {
    "ExecuteTime": {
     "end_time": "2022-12-16T07:46:53.299035Z",
     "start_time": "2022-12-16T07:46:53.262986Z"
    }
   },
   "outputs": [
    {
     "data": {
      "text/html": [
       "<div>\n",
       "<style scoped>\n",
       "    .dataframe tbody tr th:only-of-type {\n",
       "        vertical-align: middle;\n",
       "    }\n",
       "\n",
       "    .dataframe tbody tr th {\n",
       "        vertical-align: top;\n",
       "    }\n",
       "\n",
       "    .dataframe thead th {\n",
       "        text-align: right;\n",
       "    }\n",
       "</style>\n",
       "<table border=\"1\" class=\"dataframe\">\n",
       "  <thead>\n",
       "    <tr style=\"text-align: right;\">\n",
       "      <th></th>\n",
       "      <th>0</th>\n",
       "      <th>1</th>\n",
       "      <th>2</th>\n",
       "      <th>3</th>\n",
       "      <th>4</th>\n",
       "      <th>5</th>\n",
       "      <th>6</th>\n",
       "      <th>7</th>\n",
       "      <th>8</th>\n",
       "      <th>9</th>\n",
       "      <th>...</th>\n",
       "      <th>119</th>\n",
       "      <th>120</th>\n",
       "      <th>121</th>\n",
       "      <th>122</th>\n",
       "      <th>123</th>\n",
       "      <th>124</th>\n",
       "      <th>125</th>\n",
       "      <th>126</th>\n",
       "      <th>127</th>\n",
       "      <th>FAN_TYPE</th>\n",
       "    </tr>\n",
       "  </thead>\n",
       "  <tbody>\n",
       "    <tr>\n",
       "      <th>0</th>\n",
       "      <td>1.041149</td>\n",
       "      <td>-0.997432</td>\n",
       "      <td>-0.774055</td>\n",
       "      <td>-0.637374</td>\n",
       "      <td>-1.277165</td>\n",
       "      <td>-1.657559</td>\n",
       "      <td>-1.402296</td>\n",
       "      <td>-1.103837</td>\n",
       "      <td>-0.585607</td>\n",
       "      <td>-0.188957</td>\n",
       "      <td>...</td>\n",
       "      <td>0.357911</td>\n",
       "      <td>0.456213</td>\n",
       "      <td>0.779230</td>\n",
       "      <td>-0.011129</td>\n",
       "      <td>0.030590</td>\n",
       "      <td>-0.039309</td>\n",
       "      <td>0.684663</td>\n",
       "      <td>-1.146729</td>\n",
       "      <td>-0.001950</td>\n",
       "      <td>2</td>\n",
       "    </tr>\n",
       "    <tr>\n",
       "      <th>1</th>\n",
       "      <td>1.066137</td>\n",
       "      <td>-0.807698</td>\n",
       "      <td>-0.735607</td>\n",
       "      <td>-0.061160</td>\n",
       "      <td>-0.866907</td>\n",
       "      <td>-1.207240</td>\n",
       "      <td>-1.124169</td>\n",
       "      <td>-0.067432</td>\n",
       "      <td>-0.230355</td>\n",
       "      <td>0.002554</td>\n",
       "      <td>...</td>\n",
       "      <td>-0.760466</td>\n",
       "      <td>-0.368018</td>\n",
       "      <td>1.413626</td>\n",
       "      <td>-0.070577</td>\n",
       "      <td>-0.372133</td>\n",
       "      <td>-0.823375</td>\n",
       "      <td>0.106386</td>\n",
       "      <td>-0.977669</td>\n",
       "      <td>0.427266</td>\n",
       "      <td>2</td>\n",
       "    </tr>\n",
       "    <tr>\n",
       "      <th>2</th>\n",
       "      <td>-0.580199</td>\n",
       "      <td>1.202351</td>\n",
       "      <td>-0.305714</td>\n",
       "      <td>0.791013</td>\n",
       "      <td>0.209089</td>\n",
       "      <td>0.821492</td>\n",
       "      <td>0.532802</td>\n",
       "      <td>0.629536</td>\n",
       "      <td>0.803260</td>\n",
       "      <td>0.135355</td>\n",
       "      <td>...</td>\n",
       "      <td>0.633451</td>\n",
       "      <td>0.706625</td>\n",
       "      <td>0.649850</td>\n",
       "      <td>0.852231</td>\n",
       "      <td>1.061587</td>\n",
       "      <td>0.152975</td>\n",
       "      <td>0.487437</td>\n",
       "      <td>1.011171</td>\n",
       "      <td>-0.061405</td>\n",
       "      <td>0</td>\n",
       "    </tr>\n",
       "    <tr>\n",
       "      <th>3</th>\n",
       "      <td>-1.060631</td>\n",
       "      <td>1.353320</td>\n",
       "      <td>2.098498</td>\n",
       "      <td>-1.032101</td>\n",
       "      <td>2.398344</td>\n",
       "      <td>0.869393</td>\n",
       "      <td>1.778367</td>\n",
       "      <td>0.932636</td>\n",
       "      <td>0.603561</td>\n",
       "      <td>0.803077</td>\n",
       "      <td>...</td>\n",
       "      <td>1.038437</td>\n",
       "      <td>1.852535</td>\n",
       "      <td>0.071412</td>\n",
       "      <td>0.056842</td>\n",
       "      <td>0.598732</td>\n",
       "      <td>1.787731</td>\n",
       "      <td>-3.309208</td>\n",
       "      <td>-2.105288</td>\n",
       "      <td>-2.021091</td>\n",
       "      <td>0</td>\n",
       "    </tr>\n",
       "    <tr>\n",
       "      <th>4</th>\n",
       "      <td>-0.804716</td>\n",
       "      <td>1.264068</td>\n",
       "      <td>-0.270363</td>\n",
       "      <td>0.648792</td>\n",
       "      <td>0.294322</td>\n",
       "      <td>0.878817</td>\n",
       "      <td>0.606768</td>\n",
       "      <td>0.296347</td>\n",
       "      <td>0.261855</td>\n",
       "      <td>0.579550</td>\n",
       "      <td>...</td>\n",
       "      <td>-0.398875</td>\n",
       "      <td>-0.708933</td>\n",
       "      <td>0.571532</td>\n",
       "      <td>1.201395</td>\n",
       "      <td>1.886367</td>\n",
       "      <td>1.253129</td>\n",
       "      <td>0.234130</td>\n",
       "      <td>0.132615</td>\n",
       "      <td>-0.949729</td>\n",
       "      <td>0</td>\n",
       "    </tr>\n",
       "    <tr>\n",
       "      <th>...</th>\n",
       "      <td>...</td>\n",
       "      <td>...</td>\n",
       "      <td>...</td>\n",
       "      <td>...</td>\n",
       "      <td>...</td>\n",
       "      <td>...</td>\n",
       "      <td>...</td>\n",
       "      <td>...</td>\n",
       "      <td>...</td>\n",
       "      <td>...</td>\n",
       "      <td>...</td>\n",
       "      <td>...</td>\n",
       "      <td>...</td>\n",
       "      <td>...</td>\n",
       "      <td>...</td>\n",
       "      <td>...</td>\n",
       "      <td>...</td>\n",
       "      <td>...</td>\n",
       "      <td>...</td>\n",
       "      <td>...</td>\n",
       "      <td>...</td>\n",
       "    </tr>\n",
       "    <tr>\n",
       "      <th>1509</th>\n",
       "      <td>-1.076549</td>\n",
       "      <td>1.336912</td>\n",
       "      <td>1.976139</td>\n",
       "      <td>-1.451371</td>\n",
       "      <td>2.555903</td>\n",
       "      <td>1.121006</td>\n",
       "      <td>2.014457</td>\n",
       "      <td>0.089498</td>\n",
       "      <td>0.568362</td>\n",
       "      <td>0.691696</td>\n",
       "      <td>...</td>\n",
       "      <td>2.346977</td>\n",
       "      <td>0.573533</td>\n",
       "      <td>-1.593052</td>\n",
       "      <td>0.149439</td>\n",
       "      <td>0.633859</td>\n",
       "      <td>1.866942</td>\n",
       "      <td>-0.575214</td>\n",
       "      <td>0.832472</td>\n",
       "      <td>1.077033</td>\n",
       "      <td>0</td>\n",
       "    </tr>\n",
       "    <tr>\n",
       "      <th>1510</th>\n",
       "      <td>-0.350094</td>\n",
       "      <td>0.445032</td>\n",
       "      <td>1.227017</td>\n",
       "      <td>-1.954561</td>\n",
       "      <td>-0.647693</td>\n",
       "      <td>-0.363285</td>\n",
       "      <td>-0.072243</td>\n",
       "      <td>-0.736938</td>\n",
       "      <td>-0.017930</td>\n",
       "      <td>-1.594879</td>\n",
       "      <td>...</td>\n",
       "      <td>-0.011596</td>\n",
       "      <td>-1.275319</td>\n",
       "      <td>-0.408809</td>\n",
       "      <td>-0.453103</td>\n",
       "      <td>-0.527371</td>\n",
       "      <td>0.072994</td>\n",
       "      <td>-0.395498</td>\n",
       "      <td>-1.220480</td>\n",
       "      <td>0.325329</td>\n",
       "      <td>2</td>\n",
       "    </tr>\n",
       "    <tr>\n",
       "      <th>1511</th>\n",
       "      <td>-0.903992</td>\n",
       "      <td>0.945445</td>\n",
       "      <td>0.017660</td>\n",
       "      <td>1.507627</td>\n",
       "      <td>0.503850</td>\n",
       "      <td>0.948789</td>\n",
       "      <td>0.341199</td>\n",
       "      <td>-0.247485</td>\n",
       "      <td>-0.251400</td>\n",
       "      <td>0.312020</td>\n",
       "      <td>...</td>\n",
       "      <td>-0.079011</td>\n",
       "      <td>0.167404</td>\n",
       "      <td>0.301658</td>\n",
       "      <td>0.591109</td>\n",
       "      <td>0.479355</td>\n",
       "      <td>-0.252976</td>\n",
       "      <td>-0.190892</td>\n",
       "      <td>0.743663</td>\n",
       "      <td>0.479770</td>\n",
       "      <td>0</td>\n",
       "    </tr>\n",
       "    <tr>\n",
       "      <th>1512</th>\n",
       "      <td>-0.970660</td>\n",
       "      <td>1.055493</td>\n",
       "      <td>-0.033340</td>\n",
       "      <td>1.409316</td>\n",
       "      <td>0.382145</td>\n",
       "      <td>0.886042</td>\n",
       "      <td>0.297403</td>\n",
       "      <td>-0.257316</td>\n",
       "      <td>-0.344573</td>\n",
       "      <td>0.346392</td>\n",
       "      <td>...</td>\n",
       "      <td>0.003055</td>\n",
       "      <td>0.711879</td>\n",
       "      <td>1.221672</td>\n",
       "      <td>1.268125</td>\n",
       "      <td>1.094181</td>\n",
       "      <td>-0.269964</td>\n",
       "      <td>-0.892862</td>\n",
       "      <td>0.743857</td>\n",
       "      <td>1.430509</td>\n",
       "      <td>0</td>\n",
       "    </tr>\n",
       "    <tr>\n",
       "      <th>1513</th>\n",
       "      <td>1.180137</td>\n",
       "      <td>-1.637736</td>\n",
       "      <td>-1.458863</td>\n",
       "      <td>-1.145774</td>\n",
       "      <td>-0.781695</td>\n",
       "      <td>-0.326628</td>\n",
       "      <td>-0.969969</td>\n",
       "      <td>-2.076767</td>\n",
       "      <td>-0.711680</td>\n",
       "      <td>0.265661</td>\n",
       "      <td>...</td>\n",
       "      <td>-0.453789</td>\n",
       "      <td>-0.969608</td>\n",
       "      <td>-1.371775</td>\n",
       "      <td>-2.550796</td>\n",
       "      <td>-2.490265</td>\n",
       "      <td>-2.436585</td>\n",
       "      <td>-4.248089</td>\n",
       "      <td>-2.618875</td>\n",
       "      <td>-3.313863</td>\n",
       "      <td>2</td>\n",
       "    </tr>\n",
       "  </tbody>\n",
       "</table>\n",
       "<p>1514 rows × 129 columns</p>\n",
       "</div>"
      ],
      "text/plain": [
       "             0         1         2         3         4         5         6  \\\n",
       "0     1.041149 -0.997432 -0.774055 -0.637374 -1.277165 -1.657559 -1.402296   \n",
       "1     1.066137 -0.807698 -0.735607 -0.061160 -0.866907 -1.207240 -1.124169   \n",
       "2    -0.580199  1.202351 -0.305714  0.791013  0.209089  0.821492  0.532802   \n",
       "3    -1.060631  1.353320  2.098498 -1.032101  2.398344  0.869393  1.778367   \n",
       "4    -0.804716  1.264068 -0.270363  0.648792  0.294322  0.878817  0.606768   \n",
       "...        ...       ...       ...       ...       ...       ...       ...   \n",
       "1509 -1.076549  1.336912  1.976139 -1.451371  2.555903  1.121006  2.014457   \n",
       "1510 -0.350094  0.445032  1.227017 -1.954561 -0.647693 -0.363285 -0.072243   \n",
       "1511 -0.903992  0.945445  0.017660  1.507627  0.503850  0.948789  0.341199   \n",
       "1512 -0.970660  1.055493 -0.033340  1.409316  0.382145  0.886042  0.297403   \n",
       "1513  1.180137 -1.637736 -1.458863 -1.145774 -0.781695 -0.326628 -0.969969   \n",
       "\n",
       "             7         8         9  ...       119       120       121  \\\n",
       "0    -1.103837 -0.585607 -0.188957  ...  0.357911  0.456213  0.779230   \n",
       "1    -0.067432 -0.230355  0.002554  ... -0.760466 -0.368018  1.413626   \n",
       "2     0.629536  0.803260  0.135355  ...  0.633451  0.706625  0.649850   \n",
       "3     0.932636  0.603561  0.803077  ...  1.038437  1.852535  0.071412   \n",
       "4     0.296347  0.261855  0.579550  ... -0.398875 -0.708933  0.571532   \n",
       "...        ...       ...       ...  ...       ...       ...       ...   \n",
       "1509  0.089498  0.568362  0.691696  ...  2.346977  0.573533 -1.593052   \n",
       "1510 -0.736938 -0.017930 -1.594879  ... -0.011596 -1.275319 -0.408809   \n",
       "1511 -0.247485 -0.251400  0.312020  ... -0.079011  0.167404  0.301658   \n",
       "1512 -0.257316 -0.344573  0.346392  ...  0.003055  0.711879  1.221672   \n",
       "1513 -2.076767 -0.711680  0.265661  ... -0.453789 -0.969608 -1.371775   \n",
       "\n",
       "           122       123       124       125       126       127  FAN_TYPE  \n",
       "0    -0.011129  0.030590 -0.039309  0.684663 -1.146729 -0.001950         2  \n",
       "1    -0.070577 -0.372133 -0.823375  0.106386 -0.977669  0.427266         2  \n",
       "2     0.852231  1.061587  0.152975  0.487437  1.011171 -0.061405         0  \n",
       "3     0.056842  0.598732  1.787731 -3.309208 -2.105288 -2.021091         0  \n",
       "4     1.201395  1.886367  1.253129  0.234130  0.132615 -0.949729         0  \n",
       "...        ...       ...       ...       ...       ...       ...       ...  \n",
       "1509  0.149439  0.633859  1.866942 -0.575214  0.832472  1.077033         0  \n",
       "1510 -0.453103 -0.527371  0.072994 -0.395498 -1.220480  0.325329         2  \n",
       "1511  0.591109  0.479355 -0.252976 -0.190892  0.743663  0.479770         0  \n",
       "1512  1.268125  1.094181 -0.269964 -0.892862  0.743857  1.430509         0  \n",
       "1513 -2.550796 -2.490265 -2.436585 -4.248089 -2.618875 -3.313863         2  \n",
       "\n",
       "[1514 rows x 129 columns]"
      ]
     },
     "execution_count": 229,
     "metadata": {},
     "output_type": "execute_result"
    }
   ],
   "source": [
    "# test data 전처리\n",
    "\n",
    "refine_test = test_mfcc.iloc[:,:128]\n",
    "min_max_scaler = preprocessing.StandardScaler()\n",
    "np_scaled = min_max_scaler.fit_transform(refine_test)\n",
    "refine_test = pd.DataFrame(np_scaled)\n",
    "refine_test = pd.concat([refine_test, test_mfcc.FAN_TYPE], axis=1)\n",
    "\n",
    "refine_test"
   ]
  },
  {
   "cell_type": "code",
   "execution_count": 230,
   "id": "b479ddff",
   "metadata": {
    "ExecuteTime": {
     "end_time": "2022-12-16T07:46:53.647968Z",
     "start_time": "2022-12-16T07:46:53.462054Z"
    }
   },
   "outputs": [],
   "source": [
    "pred = model.predict(refine_test)"
   ]
  },
  {
   "cell_type": "markdown",
   "id": "25162155",
   "metadata": {},
   "source": [
    "# Submission"
   ]
  },
  {
   "cell_type": "code",
   "execution_count": 231,
   "id": "5d5074ca",
   "metadata": {
    "ExecuteTime": {
     "end_time": "2022-12-16T07:46:54.213459Z",
     "start_time": "2022-12-16T07:46:54.205831Z"
    }
   },
   "outputs": [],
   "source": [
    "submit = pd.read_csv('./sample_submission.csv')"
   ]
  },
  {
   "cell_type": "code",
   "execution_count": 232,
   "id": "587041a3",
   "metadata": {
    "ExecuteTime": {
     "end_time": "2022-12-16T07:46:54.692485Z",
     "start_time": "2022-12-16T07:46:54.676894Z"
    }
   },
   "outputs": [
    {
     "data": {
      "text/html": [
       "<div>\n",
       "<style scoped>\n",
       "    .dataframe tbody tr th:only-of-type {\n",
       "        vertical-align: middle;\n",
       "    }\n",
       "\n",
       "    .dataframe tbody tr th {\n",
       "        vertical-align: top;\n",
       "    }\n",
       "\n",
       "    .dataframe thead th {\n",
       "        text-align: right;\n",
       "    }\n",
       "</style>\n",
       "<table border=\"1\" class=\"dataframe\">\n",
       "  <thead>\n",
       "    <tr style=\"text-align: right;\">\n",
       "      <th></th>\n",
       "      <th>SAMPLE_ID</th>\n",
       "      <th>LABEL</th>\n",
       "    </tr>\n",
       "  </thead>\n",
       "  <tbody>\n",
       "    <tr>\n",
       "      <th>0</th>\n",
       "      <td>TEST_0000</td>\n",
       "      <td>1</td>\n",
       "    </tr>\n",
       "    <tr>\n",
       "      <th>1</th>\n",
       "      <td>TEST_0001</td>\n",
       "      <td>1</td>\n",
       "    </tr>\n",
       "    <tr>\n",
       "      <th>2</th>\n",
       "      <td>TEST_0002</td>\n",
       "      <td>1</td>\n",
       "    </tr>\n",
       "    <tr>\n",
       "      <th>3</th>\n",
       "      <td>TEST_0003</td>\n",
       "      <td>1</td>\n",
       "    </tr>\n",
       "    <tr>\n",
       "      <th>4</th>\n",
       "      <td>TEST_0004</td>\n",
       "      <td>1</td>\n",
       "    </tr>\n",
       "    <tr>\n",
       "      <th>...</th>\n",
       "      <td>...</td>\n",
       "      <td>...</td>\n",
       "    </tr>\n",
       "    <tr>\n",
       "      <th>1509</th>\n",
       "      <td>TEST_1509</td>\n",
       "      <td>1</td>\n",
       "    </tr>\n",
       "    <tr>\n",
       "      <th>1510</th>\n",
       "      <td>TEST_1510</td>\n",
       "      <td>1</td>\n",
       "    </tr>\n",
       "    <tr>\n",
       "      <th>1511</th>\n",
       "      <td>TEST_1511</td>\n",
       "      <td>0</td>\n",
       "    </tr>\n",
       "    <tr>\n",
       "      <th>1512</th>\n",
       "      <td>TEST_1512</td>\n",
       "      <td>0</td>\n",
       "    </tr>\n",
       "    <tr>\n",
       "      <th>1513</th>\n",
       "      <td>TEST_1513</td>\n",
       "      <td>1</td>\n",
       "    </tr>\n",
       "  </tbody>\n",
       "</table>\n",
       "<p>1514 rows × 2 columns</p>\n",
       "</div>"
      ],
      "text/plain": [
       "      SAMPLE_ID  LABEL\n",
       "0     TEST_0000      1\n",
       "1     TEST_0001      1\n",
       "2     TEST_0002      1\n",
       "3     TEST_0003      1\n",
       "4     TEST_0004      1\n",
       "...         ...    ...\n",
       "1509  TEST_1509      1\n",
       "1510  TEST_1510      1\n",
       "1511  TEST_1511      0\n",
       "1512  TEST_1512      0\n",
       "1513  TEST_1513      1\n",
       "\n",
       "[1514 rows x 2 columns]"
      ]
     },
     "execution_count": 232,
     "metadata": {},
     "output_type": "execute_result"
    }
   ],
   "source": [
    "submit['LABEL'] = pred\n",
    "submit['LABEL'] = submit['LABEL'].map( {1: 0, -1: 1} )\n",
    "submit"
   ]
  },
  {
   "cell_type": "code",
   "execution_count": 233,
   "id": "1914726c",
   "metadata": {
    "ExecuteTime": {
     "end_time": "2022-12-16T07:46:56.554536Z",
     "start_time": "2022-12-16T07:46:56.546782Z"
    }
   },
   "outputs": [
    {
     "data": {
      "text/plain": [
       "1    1224\n",
       "0     290\n",
       "Name: LABEL, dtype: int64"
      ]
     },
     "execution_count": 233,
     "metadata": {},
     "output_type": "execute_result"
    }
   ],
   "source": [
    "submit.LABEL.value_counts()"
   ]
  },
  {
   "cell_type": "code",
   "execution_count": 234,
   "id": "227ea4fe",
   "metadata": {
    "ExecuteTime": {
     "end_time": "2022-12-16T07:46:57.438148Z",
     "start_time": "2022-12-16T07:46:57.435271Z"
    }
   },
   "outputs": [],
   "source": [
    "import datetime"
   ]
  },
  {
   "cell_type": "code",
   "execution_count": 235,
   "id": "fb31bbf1",
   "metadata": {
    "ExecuteTime": {
     "end_time": "2022-12-16T07:46:57.749162Z",
     "start_time": "2022-12-16T07:46:57.739352Z"
    }
   },
   "outputs": [],
   "source": [
    "path = '/Users/lhs/Desktop/GitHub/Dacon/230116_Machine_Error_Sound/result/'\n",
    "\n",
    "now = datetime.datetime.now().strftime('%Y-%m-%d_%H:%M:%S')\n",
    "submit.to_csv(f'{path}{now}.csv',encoding='utf-8', index=False)"
   ]
  },
  {
   "cell_type": "code",
   "execution_count": null,
   "id": "83e28835",
   "metadata": {},
   "outputs": [],
   "source": []
  }
 ],
 "metadata": {
  "kernelspec": {
   "display_name": "Python 3 (ipykernel)",
   "language": "python",
   "name": "python3"
  },
  "language_info": {
   "codemirror_mode": {
    "name": "ipython",
    "version": 3
   },
   "file_extension": ".py",
   "mimetype": "text/x-python",
   "name": "python",
   "nbconvert_exporter": "python",
   "pygments_lexer": "ipython3",
   "version": "3.8.13"
  },
  "toc": {
   "base_numbering": 1,
   "nav_menu": {},
   "number_sections": false,
   "sideBar": true,
   "skip_h1_title": false,
   "title_cell": "Table of Contents",
   "title_sidebar": "Contents",
   "toc_cell": false,
   "toc_position": {},
   "toc_section_display": true,
   "toc_window_display": false
  }
 },
 "nbformat": 4,
 "nbformat_minor": 5
}
