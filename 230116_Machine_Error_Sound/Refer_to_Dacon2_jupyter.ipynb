{
 "cells": [
  {
   "cell_type": "markdown",
   "id": "c912b48e",
   "metadata": {},
   "source": [
    "https://dacon.io/competitions/official/235930/codeshare/5994?page=1&dtype=recent"
   ]
  },
  {
   "cell_type": "markdown",
   "id": "a2bcba5f-002e-4f49-9622-ada6117faf0a",
   "metadata": {
    "id": "a2bcba5f-002e-4f49-9622-ada6117faf0a"
   },
   "source": [
    "## Import"
   ]
  },
  {
   "cell_type": "code",
   "execution_count": 1,
   "id": "RkdW8uDeFnQ2",
   "metadata": {
    "ExecuteTime": {
     "end_time": "2022-12-17T08:29:45.989098Z",
     "start_time": "2022-12-17T08:29:31.475685Z"
    },
    "colab": {
     "base_uri": "https://localhost:8080/"
    },
    "id": "RkdW8uDeFnQ2",
    "outputId": "29166093-808f-4476-befc-17de0e53b20f",
    "scrolled": true
   },
   "outputs": [
    {
     "name": "stdout",
     "output_type": "stream",
     "text": [
      "Requirement already satisfied: markupsafe==2.0.1 in /Users/lhs/miniforge3/envs/lhs/lib/python3.8/site-packages (2.0.1)\r\n"
     ]
    }
   ],
   "source": [
    "# !pip install catboost\n",
    "# !pip install xgboost\n",
    "# !pip install pycaret[full]\n",
    "\n",
    "!pip install markupsafe==2.0.1\n",
    "\n",
    "# from pycaret.utils import enable_colab\n",
    "import jinja2\n"
   ]
  },
  {
   "cell_type": "code",
   "execution_count": 2,
   "id": "2b0d9b68-7102-4eca-9543-3b9b8acafc6e",
   "metadata": {
    "ExecuteTime": {
     "end_time": "2022-12-17T08:29:59.776795Z",
     "start_time": "2022-12-17T08:29:45.991641Z"
    },
    "id": "2b0d9b68-7102-4eca-9543-3b9b8acafc6e"
   },
   "outputs": [],
   "source": [
    "import random\n",
    "import pandas as pd\n",
    "import numpy as np\n",
    "import os\n",
    "import librosa\n",
    "from sklearn.model_selection import train_test_split\n",
    "from sklearn import preprocessing\n",
    "from sklearn.ensemble import IsolationForest\n",
    "from sklearn.metrics import accuracy_score\n",
    "from sklearn.metrics import f1_score\n",
    "from sklearn.metrics import classification_report\n",
    "\n",
    "import matplotlib.pyplot as plt\n",
    "\n",
    "from tqdm.auto import tqdm\n",
    "\n",
    "import warnings\n",
    "warnings.filterwarnings(action='ignore') "
   ]
  },
  {
   "cell_type": "code",
   "execution_count": 3,
   "id": "X3se71FoGeFe",
   "metadata": {
    "ExecuteTime": {
     "end_time": "2022-12-17T08:30:01.125455Z",
     "start_time": "2022-12-17T08:29:59.777620Z"
    },
    "id": "X3se71FoGeFe"
   },
   "outputs": [],
   "source": [
    "import tensorflow as tf"
   ]
  },
  {
   "cell_type": "code",
   "execution_count": 4,
   "id": "kkxvqSdKFkqu",
   "metadata": {
    "ExecuteTime": {
     "end_time": "2022-12-17T08:30:01.128887Z",
     "start_time": "2022-12-17T08:30:01.126922Z"
    },
    "id": "kkxvqSdKFkqu"
   },
   "outputs": [],
   "source": [
    "def seed_everything(seed: int = 42):\n",
    "    random.seed(seed)\n",
    "    np.random.seed(seed)\n",
    "    os.environ[\"PYTHONHASHSEED\"] = str(seed)\n",
    "    tf.random.set_seed(seed)\n",
    "\n",
    "seed_everything(42)"
   ]
  },
  {
   "cell_type": "markdown",
   "id": "05a4172e-5791-446f-9616-35c09d8bf25a",
   "metadata": {
    "id": "05a4172e-5791-446f-9616-35c09d8bf25a"
   },
   "source": [
    "## Data Pre-processing"
   ]
  },
  {
   "cell_type": "code",
   "execution_count": 5,
   "id": "b14fabf1",
   "metadata": {
    "ExecuteTime": {
     "end_time": "2022-12-17T08:30:01.867598Z",
     "start_time": "2022-12-17T08:30:01.863171Z"
    },
    "id": "b14fabf1"
   },
   "outputs": [],
   "source": [
    "import os\n",
    "os.chdir('/Users/lhs/Desktop/Machine_Sound_Data')\n",
    "# os.chdir('/content/drive/MyDrive/YDS/DACON/230116_Machine_Error_Sound')"
   ]
  },
  {
   "cell_type": "code",
   "execution_count": 6,
   "id": "a62c78cd-4f40-4e98-b8a6-1b6f1d906b4d",
   "metadata": {
    "ExecuteTime": {
     "end_time": "2022-12-17T08:30:02.096650Z",
     "start_time": "2022-12-17T08:30:02.027913Z"
    },
    "id": "a62c78cd-4f40-4e98-b8a6-1b6f1d906b4d"
   },
   "outputs": [],
   "source": [
    "train = pd.read_csv('./train_.csv').drop(columns=['Unnamed: 0']) # 모두 정상 Sample\n",
    "# train_df = train_df.iloc[:,2:]\n",
    "test = pd.read_csv('./test_.csv').drop(columns=['Unnamed: 0'])\n",
    "# test_df = test_df.iloc[:,2:]"
   ]
  },
  {
   "cell_type": "code",
   "execution_count": null,
   "id": "ee800463-995c-43ac-a05d-f3988923add9",
   "metadata": {
    "ExecuteTime": {
     "end_time": "2022-12-17T07:35:30.712943Z",
     "start_time": "2022-12-17T07:35:30.706922Z"
    },
    "id": "ee800463-995c-43ac-a05d-f3988923add9",
    "outputId": "44d23702-c115-4387-9d8d-0df47b6c3cf2"
   },
   "outputs": [],
   "source": [
    "'''\n",
    "def get_mfcc_feature(df):\n",
    "    features = []\n",
    "    for path in tqdm(df['SAMPLE_PATH']):\n",
    "        # librosa패키지를 사용하여 wav 파일 load\n",
    "        y, sr = librosa.load(path, sr=CFG['SR'])\n",
    "        \n",
    "        # librosa패키지를 사용하여 mfcc 추출\n",
    "        mfcc = librosa.feature.mfcc(y=y, sr=sr, n_mfcc=CFG['N_MFCC'])\n",
    "\n",
    "        y_feature = []\n",
    "        # 추출된 MFCC들의 평균을 Feature로 사용\n",
    "        for e in mfcc:\n",
    "            y_feature.append(np.mean(e))\n",
    "        features.append(y_feature)\n",
    "        \n",
    "    return features\n",
    "\n",
    "train_features = get_mfcc_feature(train_df)\n",
    "test_features = get_mfcc_feature(test_df)\n",
    "'''"
   ]
  },
  {
   "cell_type": "code",
   "execution_count": null,
   "id": "751ae163",
   "metadata": {
    "ExecuteTime": {
     "end_time": "2022-12-17T07:45:51.304191Z",
     "start_time": "2022-12-17T07:45:51.296615Z"
    },
    "id": "751ae163"
   },
   "outputs": [],
   "source": [
    "X_train, x_val, Y_train, y_val = train_test_split(train, train['LABEL'], test_size=0.2)"
   ]
  },
  {
   "cell_type": "markdown",
   "id": "71da50d3",
   "metadata": {},
   "source": [
    "# MCD Labeling"
   ]
  },
  {
   "cell_type": "code",
   "execution_count": 7,
   "id": "ce377e44",
   "metadata": {
    "ExecuteTime": {
     "end_time": "2022-12-17T08:30:05.536601Z",
     "start_time": "2022-12-17T08:30:05.529101Z"
    }
   },
   "outputs": [],
   "source": [
    "from sklearn.covariance import MinCovDet"
   ]
  },
  {
   "cell_type": "code",
   "execution_count": 8,
   "id": "29077164",
   "metadata": {
    "ExecuteTime": {
     "end_time": "2022-12-17T08:30:21.185216Z",
     "start_time": "2022-12-17T08:30:06.497521Z"
    }
   },
   "outputs": [
    {
     "data": {
      "text/plain": [
       "MinCovDet(random_state=44, support_fraction=1)"
      ]
     },
     "execution_count": 8,
     "metadata": {},
     "output_type": "execute_result"
    }
   ],
   "source": [
    "mcd_model = MinCovDet(support_fraction=1, random_state=44)\n",
    "mcd_model.fit(train)"
   ]
  },
  {
   "cell_type": "code",
   "execution_count": 9,
   "id": "3f043a83",
   "metadata": {
    "ExecuteTime": {
     "end_time": "2022-12-17T08:30:21.484975Z",
     "start_time": "2022-12-17T08:30:21.189883Z"
    }
   },
   "outputs": [],
   "source": [
    "import torch\n",
    "# 상위 N개가 이상치라고 판단\n",
    "\n",
    "def get_pred_label(model, x, k):\n",
    "    prob = abs(mcd_model.mahalanobis(x))\n",
    "    prob2 = torch.tensor(prob, dtype = torch.float)\n",
    "    topk_indices = torch.topk(prob2, k = k, largest = True).indices\n",
    "    \n",
    "    pred = torch.zeros(len(x), dtype = torch.long)\n",
    "    pred[topk_indices] = 1\n",
    "    return pred.tolist(), prob2.tolist()\n",
    "\n",
    "\n",
    "val_pred, val_prob = get_pred_label(mcd_model, train, 118)\n",
    "train[\"LABEL\"] = val_pred #라벨값 지정"
   ]
  },
  {
   "cell_type": "markdown",
   "id": "dd0c7a54",
   "metadata": {},
   "source": [
    "# Pycaret predict"
   ]
  },
  {
   "cell_type": "code",
   "execution_count": 10,
   "id": "0ee970af",
   "metadata": {
    "ExecuteTime": {
     "end_time": "2022-12-17T08:30:22.140628Z",
     "start_time": "2022-12-17T08:30:21.485769Z"
    }
   },
   "outputs": [
    {
     "data": {
      "text/html": [
       "<style type=\"text/css\">\n",
       "#T_2a13e_row7_col1 {\n",
       "  background-color: lightgreen;\n",
       "}\n",
       "</style>\n",
       "<table id=\"T_2a13e\">\n",
       "  <thead>\n",
       "    <tr>\n",
       "      <th class=\"blank level0\" >&nbsp;</th>\n",
       "      <th id=\"T_2a13e_level0_col0\" class=\"col_heading level0 col0\" >Description</th>\n",
       "      <th id=\"T_2a13e_level0_col1\" class=\"col_heading level0 col1\" >Value</th>\n",
       "    </tr>\n",
       "  </thead>\n",
       "  <tbody>\n",
       "    <tr>\n",
       "      <th id=\"T_2a13e_level0_row0\" class=\"row_heading level0 row0\" >0</th>\n",
       "      <td id=\"T_2a13e_row0_col0\" class=\"data row0 col0\" >Session id</td>\n",
       "      <td id=\"T_2a13e_row0_col1\" class=\"data row0 col1\" >1974</td>\n",
       "    </tr>\n",
       "    <tr>\n",
       "      <th id=\"T_2a13e_level0_row1\" class=\"row_heading level0 row1\" >1</th>\n",
       "      <td id=\"T_2a13e_row1_col0\" class=\"data row1 col0\" >Target</td>\n",
       "      <td id=\"T_2a13e_row1_col1\" class=\"data row1 col1\" >LABEL</td>\n",
       "    </tr>\n",
       "    <tr>\n",
       "      <th id=\"T_2a13e_level0_row2\" class=\"row_heading level0 row2\" >2</th>\n",
       "      <td id=\"T_2a13e_row2_col0\" class=\"data row2 col0\" >Target type</td>\n",
       "      <td id=\"T_2a13e_row2_col1\" class=\"data row2 col1\" >classification</td>\n",
       "    </tr>\n",
       "    <tr>\n",
       "      <th id=\"T_2a13e_level0_row3\" class=\"row_heading level0 row3\" >3</th>\n",
       "      <td id=\"T_2a13e_row3_col0\" class=\"data row3 col0\" >Data shape</td>\n",
       "      <td id=\"T_2a13e_row3_col1\" class=\"data row3 col1\" >(1279, 130)</td>\n",
       "    </tr>\n",
       "    <tr>\n",
       "      <th id=\"T_2a13e_level0_row4\" class=\"row_heading level0 row4\" >4</th>\n",
       "      <td id=\"T_2a13e_row4_col0\" class=\"data row4 col0\" >Train data shape</td>\n",
       "      <td id=\"T_2a13e_row4_col1\" class=\"data row4 col1\" >(895, 130)</td>\n",
       "    </tr>\n",
       "    <tr>\n",
       "      <th id=\"T_2a13e_level0_row5\" class=\"row_heading level0 row5\" >5</th>\n",
       "      <td id=\"T_2a13e_row5_col0\" class=\"data row5 col0\" >Test data shape</td>\n",
       "      <td id=\"T_2a13e_row5_col1\" class=\"data row5 col1\" >(384, 130)</td>\n",
       "    </tr>\n",
       "    <tr>\n",
       "      <th id=\"T_2a13e_level0_row6\" class=\"row_heading level0 row6\" >6</th>\n",
       "      <td id=\"T_2a13e_row6_col0\" class=\"data row6 col0\" >Numeric features</td>\n",
       "      <td id=\"T_2a13e_row6_col1\" class=\"data row6 col1\" >129</td>\n",
       "    </tr>\n",
       "    <tr>\n",
       "      <th id=\"T_2a13e_level0_row7\" class=\"row_heading level0 row7\" >7</th>\n",
       "      <td id=\"T_2a13e_row7_col0\" class=\"data row7 col0\" >Preprocess</td>\n",
       "      <td id=\"T_2a13e_row7_col1\" class=\"data row7 col1\" >True</td>\n",
       "    </tr>\n",
       "    <tr>\n",
       "      <th id=\"T_2a13e_level0_row8\" class=\"row_heading level0 row8\" >8</th>\n",
       "      <td id=\"T_2a13e_row8_col0\" class=\"data row8 col0\" >Imputation type</td>\n",
       "      <td id=\"T_2a13e_row8_col1\" class=\"data row8 col1\" >simple</td>\n",
       "    </tr>\n",
       "    <tr>\n",
       "      <th id=\"T_2a13e_level0_row9\" class=\"row_heading level0 row9\" >9</th>\n",
       "      <td id=\"T_2a13e_row9_col0\" class=\"data row9 col0\" >Numeric imputation</td>\n",
       "      <td id=\"T_2a13e_row9_col1\" class=\"data row9 col1\" >mean</td>\n",
       "    </tr>\n",
       "    <tr>\n",
       "      <th id=\"T_2a13e_level0_row10\" class=\"row_heading level0 row10\" >10</th>\n",
       "      <td id=\"T_2a13e_row10_col0\" class=\"data row10 col0\" >Categorical imputation</td>\n",
       "      <td id=\"T_2a13e_row10_col1\" class=\"data row10 col1\" >constant</td>\n",
       "    </tr>\n",
       "    <tr>\n",
       "      <th id=\"T_2a13e_level0_row11\" class=\"row_heading level0 row11\" >11</th>\n",
       "      <td id=\"T_2a13e_row11_col0\" class=\"data row11 col0\" >Fold Generator</td>\n",
       "      <td id=\"T_2a13e_row11_col1\" class=\"data row11 col1\" >StratifiedKFold</td>\n",
       "    </tr>\n",
       "    <tr>\n",
       "      <th id=\"T_2a13e_level0_row12\" class=\"row_heading level0 row12\" >12</th>\n",
       "      <td id=\"T_2a13e_row12_col0\" class=\"data row12 col0\" >Fold Number</td>\n",
       "      <td id=\"T_2a13e_row12_col1\" class=\"data row12 col1\" >10</td>\n",
       "    </tr>\n",
       "    <tr>\n",
       "      <th id=\"T_2a13e_level0_row13\" class=\"row_heading level0 row13\" >13</th>\n",
       "      <td id=\"T_2a13e_row13_col0\" class=\"data row13 col0\" >CPU Jobs</td>\n",
       "      <td id=\"T_2a13e_row13_col1\" class=\"data row13 col1\" >-1</td>\n",
       "    </tr>\n",
       "    <tr>\n",
       "      <th id=\"T_2a13e_level0_row14\" class=\"row_heading level0 row14\" >14</th>\n",
       "      <td id=\"T_2a13e_row14_col0\" class=\"data row14 col0\" >Log Experiment</td>\n",
       "      <td id=\"T_2a13e_row14_col1\" class=\"data row14 col1\" >False</td>\n",
       "    </tr>\n",
       "    <tr>\n",
       "      <th id=\"T_2a13e_level0_row15\" class=\"row_heading level0 row15\" >15</th>\n",
       "      <td id=\"T_2a13e_row15_col0\" class=\"data row15 col0\" >Experiment Name</td>\n",
       "      <td id=\"T_2a13e_row15_col1\" class=\"data row15 col1\" >clf-default-name</td>\n",
       "    </tr>\n",
       "    <tr>\n",
       "      <th id=\"T_2a13e_level0_row16\" class=\"row_heading level0 row16\" >16</th>\n",
       "      <td id=\"T_2a13e_row16_col0\" class=\"data row16 col0\" >USI</td>\n",
       "      <td id=\"T_2a13e_row16_col1\" class=\"data row16 col1\" >1133</td>\n",
       "    </tr>\n",
       "  </tbody>\n",
       "</table>\n"
      ],
      "text/plain": [
       "<pandas.io.formats.style.Styler at 0x2cd3df880>"
      ]
     },
     "metadata": {},
     "output_type": "display_data"
    }
   ],
   "source": [
    "from pycaret.classification import *\n",
    "\n",
    "reg1 = setup(train, target = 'LABEL',silent = True, session_id = 1974)"
   ]
  },
  {
   "cell_type": "code",
   "execution_count": 23,
   "id": "0cc1144d",
   "metadata": {
    "ExecuteTime": {
     "end_time": "2022-12-17T08:37:50.577425Z",
     "start_time": "2022-12-17T08:37:49.760343Z"
    }
   },
   "outputs": [
    {
     "data": {
      "text/html": [
       "<style type=\"text/css\">\n",
       "#T_2611e_row10_col0, #T_2611e_row10_col1, #T_2611e_row10_col2, #T_2611e_row10_col3, #T_2611e_row10_col4, #T_2611e_row10_col5, #T_2611e_row10_col6 {\n",
       "  background: yellow;\n",
       "}\n",
       "</style>\n",
       "<table id=\"T_2611e\">\n",
       "  <thead>\n",
       "    <tr>\n",
       "      <th class=\"blank level0\" >&nbsp;</th>\n",
       "      <th id=\"T_2611e_level0_col0\" class=\"col_heading level0 col0\" >Accuracy</th>\n",
       "      <th id=\"T_2611e_level0_col1\" class=\"col_heading level0 col1\" >AUC</th>\n",
       "      <th id=\"T_2611e_level0_col2\" class=\"col_heading level0 col2\" >Recall</th>\n",
       "      <th id=\"T_2611e_level0_col3\" class=\"col_heading level0 col3\" >Prec.</th>\n",
       "      <th id=\"T_2611e_level0_col4\" class=\"col_heading level0 col4\" >F1</th>\n",
       "      <th id=\"T_2611e_level0_col5\" class=\"col_heading level0 col5\" >Kappa</th>\n",
       "      <th id=\"T_2611e_level0_col6\" class=\"col_heading level0 col6\" >MCC</th>\n",
       "    </tr>\n",
       "  </thead>\n",
       "  <tbody>\n",
       "    <tr>\n",
       "      <th id=\"T_2611e_level0_row0\" class=\"row_heading level0 row0\" >0</th>\n",
       "      <td id=\"T_2611e_row0_col0\" class=\"data row0 col0\" >0.9333</td>\n",
       "      <td id=\"T_2611e_row0_col1\" class=\"data row0 col1\" >0.9204</td>\n",
       "      <td id=\"T_2611e_row0_col2\" class=\"data row0 col2\" >0.5556</td>\n",
       "      <td id=\"T_2611e_row0_col3\" class=\"data row0 col3\" >0.7143</td>\n",
       "      <td id=\"T_2611e_row0_col4\" class=\"data row0 col4\" >0.6250</td>\n",
       "      <td id=\"T_2611e_row0_col5\" class=\"data row0 col5\" >0.5890</td>\n",
       "      <td id=\"T_2611e_row0_col6\" class=\"data row0 col6\" >0.5946</td>\n",
       "    </tr>\n",
       "    <tr>\n",
       "      <th id=\"T_2611e_level0_row1\" class=\"row_heading level0 row1\" >1</th>\n",
       "      <td id=\"T_2611e_row1_col0\" class=\"data row1 col0\" >0.8778</td>\n",
       "      <td id=\"T_2611e_row1_col1\" class=\"data row1 col1\" >0.8162</td>\n",
       "      <td id=\"T_2611e_row1_col2\" class=\"data row1 col2\" >0.4444</td>\n",
       "      <td id=\"T_2611e_row1_col3\" class=\"data row1 col3\" >0.4000</td>\n",
       "      <td id=\"T_2611e_row1_col4\" class=\"data row1 col4\" >0.4211</td>\n",
       "      <td id=\"T_2611e_row1_col5\" class=\"data row1 col5\" >0.3529</td>\n",
       "      <td id=\"T_2611e_row1_col6\" class=\"data row1 col6\" >0.3536</td>\n",
       "    </tr>\n",
       "    <tr>\n",
       "      <th id=\"T_2611e_level0_row2\" class=\"row_heading level0 row2\" >2</th>\n",
       "      <td id=\"T_2611e_row2_col0\" class=\"data row2 col0\" >0.9444</td>\n",
       "      <td id=\"T_2611e_row2_col1\" class=\"data row2 col1\" >0.9492</td>\n",
       "      <td id=\"T_2611e_row2_col2\" class=\"data row2 col2\" >0.6667</td>\n",
       "      <td id=\"T_2611e_row2_col3\" class=\"data row2 col3\" >0.7500</td>\n",
       "      <td id=\"T_2611e_row2_col4\" class=\"data row2 col4\" >0.7059</td>\n",
       "      <td id=\"T_2611e_row2_col5\" class=\"data row2 col5\" >0.6753</td>\n",
       "      <td id=\"T_2611e_row2_col6\" class=\"data row2 col6\" >0.6768</td>\n",
       "    </tr>\n",
       "    <tr>\n",
       "      <th id=\"T_2611e_level0_row3\" class=\"row_heading level0 row3\" >3</th>\n",
       "      <td id=\"T_2611e_row3_col0\" class=\"data row3 col0\" >0.9111</td>\n",
       "      <td id=\"T_2611e_row3_col1\" class=\"data row3 col1\" >0.8642</td>\n",
       "      <td id=\"T_2611e_row3_col2\" class=\"data row3 col2\" >0.5556</td>\n",
       "      <td id=\"T_2611e_row3_col3\" class=\"data row3 col3\" >0.5556</td>\n",
       "      <td id=\"T_2611e_row3_col4\" class=\"data row3 col4\" >0.5556</td>\n",
       "      <td id=\"T_2611e_row3_col5\" class=\"data row3 col5\" >0.5062</td>\n",
       "      <td id=\"T_2611e_row3_col6\" class=\"data row3 col6\" >0.5062</td>\n",
       "    </tr>\n",
       "    <tr>\n",
       "      <th id=\"T_2611e_level0_row4\" class=\"row_heading level0 row4\" >4</th>\n",
       "      <td id=\"T_2611e_row4_col0\" class=\"data row4 col0\" >0.9333</td>\n",
       "      <td id=\"T_2611e_row4_col1\" class=\"data row4 col1\" >0.9259</td>\n",
       "      <td id=\"T_2611e_row4_col2\" class=\"data row4 col2\" >0.6667</td>\n",
       "      <td id=\"T_2611e_row4_col3\" class=\"data row4 col3\" >0.6667</td>\n",
       "      <td id=\"T_2611e_row4_col4\" class=\"data row4 col4\" >0.6667</td>\n",
       "      <td id=\"T_2611e_row4_col5\" class=\"data row4 col5\" >0.6296</td>\n",
       "      <td id=\"T_2611e_row4_col6\" class=\"data row4 col6\" >0.6296</td>\n",
       "    </tr>\n",
       "    <tr>\n",
       "      <th id=\"T_2611e_level0_row5\" class=\"row_heading level0 row5\" >5</th>\n",
       "      <td id=\"T_2611e_row5_col0\" class=\"data row5 col0\" >0.9663</td>\n",
       "      <td id=\"T_2611e_row5_col1\" class=\"data row5 col1\" >0.9660</td>\n",
       "      <td id=\"T_2611e_row5_col2\" class=\"data row5 col2\" >0.6250</td>\n",
       "      <td id=\"T_2611e_row5_col3\" class=\"data row5 col3\" >1.0000</td>\n",
       "      <td id=\"T_2611e_row5_col4\" class=\"data row5 col4\" >0.7692</td>\n",
       "      <td id=\"T_2611e_row5_col5\" class=\"data row5 col5\" >0.7521</td>\n",
       "      <td id=\"T_2611e_row5_col6\" class=\"data row5 col6\" >0.7763</td>\n",
       "    </tr>\n",
       "    <tr>\n",
       "      <th id=\"T_2611e_level0_row6\" class=\"row_heading level0 row6\" >6</th>\n",
       "      <td id=\"T_2611e_row6_col0\" class=\"data row6 col0\" >0.9326</td>\n",
       "      <td id=\"T_2611e_row6_col1\" class=\"data row6 col1\" >0.9691</td>\n",
       "      <td id=\"T_2611e_row6_col2\" class=\"data row6 col2\" >0.7500</td>\n",
       "      <td id=\"T_2611e_row6_col3\" class=\"data row6 col3\" >0.6000</td>\n",
       "      <td id=\"T_2611e_row6_col4\" class=\"data row6 col4\" >0.6667</td>\n",
       "      <td id=\"T_2611e_row6_col5\" class=\"data row6 col5\" >0.6297</td>\n",
       "      <td id=\"T_2611e_row6_col6\" class=\"data row6 col6\" >0.6345</td>\n",
       "    </tr>\n",
       "    <tr>\n",
       "      <th id=\"T_2611e_level0_row7\" class=\"row_heading level0 row7\" >7</th>\n",
       "      <td id=\"T_2611e_row7_col0\" class=\"data row7 col0\" >0.9438</td>\n",
       "      <td id=\"T_2611e_row7_col1\" class=\"data row7 col1\" >0.9182</td>\n",
       "      <td id=\"T_2611e_row7_col2\" class=\"data row7 col2\" >0.7500</td>\n",
       "      <td id=\"T_2611e_row7_col3\" class=\"data row7 col3\" >0.6667</td>\n",
       "      <td id=\"T_2611e_row7_col4\" class=\"data row7 col4\" >0.7059</td>\n",
       "      <td id=\"T_2611e_row7_col5\" class=\"data row7 col5\" >0.6749</td>\n",
       "      <td id=\"T_2611e_row7_col6\" class=\"data row7 col6\" >0.6764</td>\n",
       "    </tr>\n",
       "    <tr>\n",
       "      <th id=\"T_2611e_level0_row8\" class=\"row_heading level0 row8\" >8</th>\n",
       "      <td id=\"T_2611e_row8_col0\" class=\"data row8 col0\" >0.9551</td>\n",
       "      <td id=\"T_2611e_row8_col1\" class=\"data row8 col1\" >0.8549</td>\n",
       "      <td id=\"T_2611e_row8_col2\" class=\"data row8 col2\" >0.6250</td>\n",
       "      <td id=\"T_2611e_row8_col3\" class=\"data row8 col3\" >0.8333</td>\n",
       "      <td id=\"T_2611e_row8_col4\" class=\"data row8 col4\" >0.7143</td>\n",
       "      <td id=\"T_2611e_row8_col5\" class=\"data row8 col5\" >0.6904</td>\n",
       "      <td id=\"T_2611e_row8_col6\" class=\"data row8 col6\" >0.6989</td>\n",
       "    </tr>\n",
       "    <tr>\n",
       "      <th id=\"T_2611e_level0_row9\" class=\"row_heading level0 row9\" >9</th>\n",
       "      <td id=\"T_2611e_row9_col0\" class=\"data row9 col0\" >0.9326</td>\n",
       "      <td id=\"T_2611e_row9_col1\" class=\"data row9 col1\" >0.8704</td>\n",
       "      <td id=\"T_2611e_row9_col2\" class=\"data row9 col2\" >0.3750</td>\n",
       "      <td id=\"T_2611e_row9_col3\" class=\"data row9 col3\" >0.7500</td>\n",
       "      <td id=\"T_2611e_row9_col4\" class=\"data row9 col4\" >0.5000</td>\n",
       "      <td id=\"T_2611e_row9_col5\" class=\"data row9 col5\" >0.4681</td>\n",
       "      <td id=\"T_2611e_row9_col6\" class=\"data row9 col6\" >0.5007</td>\n",
       "    </tr>\n",
       "    <tr>\n",
       "      <th id=\"T_2611e_level0_row10\" class=\"row_heading level0 row10\" >Mean</th>\n",
       "      <td id=\"T_2611e_row10_col0\" class=\"data row10 col0\" >0.9330</td>\n",
       "      <td id=\"T_2611e_row10_col1\" class=\"data row10 col1\" >0.9055</td>\n",
       "      <td id=\"T_2611e_row10_col2\" class=\"data row10 col2\" >0.6014</td>\n",
       "      <td id=\"T_2611e_row10_col3\" class=\"data row10 col3\" >0.6937</td>\n",
       "      <td id=\"T_2611e_row10_col4\" class=\"data row10 col4\" >0.6330</td>\n",
       "      <td id=\"T_2611e_row10_col5\" class=\"data row10 col5\" >0.5968</td>\n",
       "      <td id=\"T_2611e_row10_col6\" class=\"data row10 col6\" >0.6048</td>\n",
       "    </tr>\n",
       "    <tr>\n",
       "      <th id=\"T_2611e_level0_row11\" class=\"row_heading level0 row11\" >SD</th>\n",
       "      <td id=\"T_2611e_row11_col0\" class=\"data row11 col0\" >0.0232</td>\n",
       "      <td id=\"T_2611e_row11_col1\" class=\"data row11 col1\" >0.0489</td>\n",
       "      <td id=\"T_2611e_row11_col2\" class=\"data row11 col2\" >0.1157</td>\n",
       "      <td id=\"T_2611e_row11_col3\" class=\"data row11 col3\" >0.1535</td>\n",
       "      <td id=\"T_2611e_row11_col4\" class=\"data row11 col4\" >0.1033</td>\n",
       "      <td id=\"T_2611e_row11_col5\" class=\"data row11 col5\" >0.1147</td>\n",
       "      <td id=\"T_2611e_row11_col6\" class=\"data row11 col6\" >0.1157</td>\n",
       "    </tr>\n",
       "  </tbody>\n",
       "</table>\n"
      ],
      "text/plain": [
       "<pandas.io.formats.style.Styler at 0x2d5713730>"
      ]
     },
     "metadata": {},
     "output_type": "display_data"
    }
   ],
   "source": [
    "# 2가지 모델 학습\n",
    "lr_model = create_model(\"lr\")"
   ]
  },
  {
   "cell_type": "code",
   "execution_count": 24,
   "id": "e2e63d4d",
   "metadata": {
    "ExecuteTime": {
     "end_time": "2022-12-17T08:38:33.626271Z",
     "start_time": "2022-12-17T08:37:50.636480Z"
    }
   },
   "outputs": [
    {
     "data": {
      "text/html": [
       "<style type=\"text/css\">\n",
       "#T_a2037_row10_col0, #T_a2037_row10_col1, #T_a2037_row10_col2, #T_a2037_row10_col3, #T_a2037_row10_col4, #T_a2037_row10_col5, #T_a2037_row10_col6 {\n",
       "  background: yellow;\n",
       "}\n",
       "</style>\n",
       "<table id=\"T_a2037\">\n",
       "  <thead>\n",
       "    <tr>\n",
       "      <th class=\"blank level0\" >&nbsp;</th>\n",
       "      <th id=\"T_a2037_level0_col0\" class=\"col_heading level0 col0\" >Accuracy</th>\n",
       "      <th id=\"T_a2037_level0_col1\" class=\"col_heading level0 col1\" >AUC</th>\n",
       "      <th id=\"T_a2037_level0_col2\" class=\"col_heading level0 col2\" >Recall</th>\n",
       "      <th id=\"T_a2037_level0_col3\" class=\"col_heading level0 col3\" >Prec.</th>\n",
       "      <th id=\"T_a2037_level0_col4\" class=\"col_heading level0 col4\" >F1</th>\n",
       "      <th id=\"T_a2037_level0_col5\" class=\"col_heading level0 col5\" >Kappa</th>\n",
       "      <th id=\"T_a2037_level0_col6\" class=\"col_heading level0 col6\" >MCC</th>\n",
       "    </tr>\n",
       "  </thead>\n",
       "  <tbody>\n",
       "    <tr>\n",
       "      <th id=\"T_a2037_level0_row0\" class=\"row_heading level0 row0\" >0</th>\n",
       "      <td id=\"T_a2037_row0_col0\" class=\"data row0 col0\" >0.9222</td>\n",
       "      <td id=\"T_a2037_row0_col1\" class=\"data row0 col1\" >0.9739</td>\n",
       "      <td id=\"T_a2037_row0_col2\" class=\"data row0 col2\" >0.4444</td>\n",
       "      <td id=\"T_a2037_row0_col3\" class=\"data row0 col3\" >0.6667</td>\n",
       "      <td id=\"T_a2037_row0_col4\" class=\"data row0 col4\" >0.5333</td>\n",
       "      <td id=\"T_a2037_row0_col5\" class=\"data row0 col5\" >0.4928</td>\n",
       "      <td id=\"T_a2037_row0_col6\" class=\"data row0 col6\" >0.5048</td>\n",
       "    </tr>\n",
       "    <tr>\n",
       "      <th id=\"T_a2037_level0_row1\" class=\"row_heading level0 row1\" >1</th>\n",
       "      <td id=\"T_a2037_row1_col0\" class=\"data row1 col0\" >0.9111</td>\n",
       "      <td id=\"T_a2037_row1_col1\" class=\"data row1 col1\" >0.9383</td>\n",
       "      <td id=\"T_a2037_row1_col2\" class=\"data row1 col2\" >0.5556</td>\n",
       "      <td id=\"T_a2037_row1_col3\" class=\"data row1 col3\" >0.5556</td>\n",
       "      <td id=\"T_a2037_row1_col4\" class=\"data row1 col4\" >0.5556</td>\n",
       "      <td id=\"T_a2037_row1_col5\" class=\"data row1 col5\" >0.5062</td>\n",
       "      <td id=\"T_a2037_row1_col6\" class=\"data row1 col6\" >0.5062</td>\n",
       "    </tr>\n",
       "    <tr>\n",
       "      <th id=\"T_a2037_level0_row2\" class=\"row_heading level0 row2\" >2</th>\n",
       "      <td id=\"T_a2037_row2_col0\" class=\"data row2 col0\" >0.9444</td>\n",
       "      <td id=\"T_a2037_row2_col1\" class=\"data row2 col1\" >0.9849</td>\n",
       "      <td id=\"T_a2037_row2_col2\" class=\"data row2 col2\" >0.5556</td>\n",
       "      <td id=\"T_a2037_row2_col3\" class=\"data row2 col3\" >0.8333</td>\n",
       "      <td id=\"T_a2037_row2_col4\" class=\"data row2 col4\" >0.6667</td>\n",
       "      <td id=\"T_a2037_row2_col5\" class=\"data row2 col5\" >0.6377</td>\n",
       "      <td id=\"T_a2037_row2_col6\" class=\"data row2 col6\" >0.6533</td>\n",
       "    </tr>\n",
       "    <tr>\n",
       "      <th id=\"T_a2037_level0_row3\" class=\"row_heading level0 row3\" >3</th>\n",
       "      <td id=\"T_a2037_row3_col0\" class=\"data row3 col0\" >0.9333</td>\n",
       "      <td id=\"T_a2037_row3_col1\" class=\"data row3 col1\" >0.8999</td>\n",
       "      <td id=\"T_a2037_row3_col2\" class=\"data row3 col2\" >0.4444</td>\n",
       "      <td id=\"T_a2037_row3_col3\" class=\"data row3 col3\" >0.8000</td>\n",
       "      <td id=\"T_a2037_row3_col4\" class=\"data row3 col4\" >0.5714</td>\n",
       "      <td id=\"T_a2037_row3_col5\" class=\"data row3 col5\" >0.5385</td>\n",
       "      <td id=\"T_a2037_row3_col6\" class=\"data row3 col6\" >0.5659</td>\n",
       "    </tr>\n",
       "    <tr>\n",
       "      <th id=\"T_a2037_level0_row4\" class=\"row_heading level0 row4\" >4</th>\n",
       "      <td id=\"T_a2037_row4_col0\" class=\"data row4 col0\" >0.9556</td>\n",
       "      <td id=\"T_a2037_row4_col1\" class=\"data row4 col1\" >0.9835</td>\n",
       "      <td id=\"T_a2037_row4_col2\" class=\"data row4 col2\" >0.6667</td>\n",
       "      <td id=\"T_a2037_row4_col3\" class=\"data row4 col3\" >0.8571</td>\n",
       "      <td id=\"T_a2037_row4_col4\" class=\"data row4 col4\" >0.7500</td>\n",
       "      <td id=\"T_a2037_row4_col5\" class=\"data row4 col5\" >0.7260</td>\n",
       "      <td id=\"T_a2037_row4_col6\" class=\"data row4 col6\" >0.7329</td>\n",
       "    </tr>\n",
       "    <tr>\n",
       "      <th id=\"T_a2037_level0_row5\" class=\"row_heading level0 row5\" >5</th>\n",
       "      <td id=\"T_a2037_row5_col0\" class=\"data row5 col0\" >0.9438</td>\n",
       "      <td id=\"T_a2037_row5_col1\" class=\"data row5 col1\" >0.9969</td>\n",
       "      <td id=\"T_a2037_row5_col2\" class=\"data row5 col2\" >0.3750</td>\n",
       "      <td id=\"T_a2037_row5_col3\" class=\"data row5 col3\" >1.0000</td>\n",
       "      <td id=\"T_a2037_row5_col4\" class=\"data row5 col4\" >0.5455</td>\n",
       "      <td id=\"T_a2037_row5_col5\" class=\"data row5 col5\" >0.5220</td>\n",
       "      <td id=\"T_a2037_row5_col6\" class=\"data row5 col6\" >0.5943</td>\n",
       "    </tr>\n",
       "    <tr>\n",
       "      <th id=\"T_a2037_level0_row6\" class=\"row_heading level0 row6\" >6</th>\n",
       "      <td id=\"T_a2037_row6_col0\" class=\"data row6 col0\" >0.9101</td>\n",
       "      <td id=\"T_a2037_row6_col1\" class=\"data row6 col1\" >0.9614</td>\n",
       "      <td id=\"T_a2037_row6_col2\" class=\"data row6 col2\" >0.5000</td>\n",
       "      <td id=\"T_a2037_row6_col3\" class=\"data row6 col3\" >0.5000</td>\n",
       "      <td id=\"T_a2037_row6_col4\" class=\"data row6 col4\" >0.5000</td>\n",
       "      <td id=\"T_a2037_row6_col5\" class=\"data row6 col5\" >0.4506</td>\n",
       "      <td id=\"T_a2037_row6_col6\" class=\"data row6 col6\" >0.4506</td>\n",
       "    </tr>\n",
       "    <tr>\n",
       "      <th id=\"T_a2037_level0_row7\" class=\"row_heading level0 row7\" >7</th>\n",
       "      <td id=\"T_a2037_row7_col0\" class=\"data row7 col0\" >0.9775</td>\n",
       "      <td id=\"T_a2037_row7_col1\" class=\"data row7 col1\" >0.9846</td>\n",
       "      <td id=\"T_a2037_row7_col2\" class=\"data row7 col2\" >0.7500</td>\n",
       "      <td id=\"T_a2037_row7_col3\" class=\"data row7 col3\" >1.0000</td>\n",
       "      <td id=\"T_a2037_row7_col4\" class=\"data row7 col4\" >0.8571</td>\n",
       "      <td id=\"T_a2037_row7_col5\" class=\"data row7 col5\" >0.8452</td>\n",
       "      <td id=\"T_a2037_row7_col6\" class=\"data row7 col6\" >0.8555</td>\n",
       "    </tr>\n",
       "    <tr>\n",
       "      <th id=\"T_a2037_level0_row8\" class=\"row_heading level0 row8\" >8</th>\n",
       "      <td id=\"T_a2037_row8_col0\" class=\"data row8 col0\" >0.9438</td>\n",
       "      <td id=\"T_a2037_row8_col1\" class=\"data row8 col1\" >0.9892</td>\n",
       "      <td id=\"T_a2037_row8_col2\" class=\"data row8 col2\" >0.5000</td>\n",
       "      <td id=\"T_a2037_row8_col3\" class=\"data row8 col3\" >0.8000</td>\n",
       "      <td id=\"T_a2037_row8_col4\" class=\"data row8 col4\" >0.6154</td>\n",
       "      <td id=\"T_a2037_row8_col5\" class=\"data row8 col5\" >0.5868</td>\n",
       "      <td id=\"T_a2037_row8_col6\" class=\"data row8 col6\" >0.6057</td>\n",
       "    </tr>\n",
       "    <tr>\n",
       "      <th id=\"T_a2037_level0_row9\" class=\"row_heading level0 row9\" >9</th>\n",
       "      <td id=\"T_a2037_row9_col0\" class=\"data row9 col0\" >0.9438</td>\n",
       "      <td id=\"T_a2037_row9_col1\" class=\"data row9 col1\" >0.9799</td>\n",
       "      <td id=\"T_a2037_row9_col2\" class=\"data row9 col2\" >0.5000</td>\n",
       "      <td id=\"T_a2037_row9_col3\" class=\"data row9 col3\" >0.8000</td>\n",
       "      <td id=\"T_a2037_row9_col4\" class=\"data row9 col4\" >0.6154</td>\n",
       "      <td id=\"T_a2037_row9_col5\" class=\"data row9 col5\" >0.5868</td>\n",
       "      <td id=\"T_a2037_row9_col6\" class=\"data row9 col6\" >0.6057</td>\n",
       "    </tr>\n",
       "    <tr>\n",
       "      <th id=\"T_a2037_level0_row10\" class=\"row_heading level0 row10\" >Mean</th>\n",
       "      <td id=\"T_a2037_row10_col0\" class=\"data row10 col0\" >0.9386</td>\n",
       "      <td id=\"T_a2037_row10_col1\" class=\"data row10 col1\" >0.9693</td>\n",
       "      <td id=\"T_a2037_row10_col2\" class=\"data row10 col2\" >0.5292</td>\n",
       "      <td id=\"T_a2037_row10_col3\" class=\"data row10 col3\" >0.7813</td>\n",
       "      <td id=\"T_a2037_row10_col4\" class=\"data row10 col4\" >0.6210</td>\n",
       "      <td id=\"T_a2037_row10_col5\" class=\"data row10 col5\" >0.5893</td>\n",
       "      <td id=\"T_a2037_row10_col6\" class=\"data row10 col6\" >0.6075</td>\n",
       "    </tr>\n",
       "    <tr>\n",
       "      <th id=\"T_a2037_level0_row11\" class=\"row_heading level0 row11\" >SD</th>\n",
       "      <td id=\"T_a2037_row11_col0\" class=\"data row11 col0\" >0.0194</td>\n",
       "      <td id=\"T_a2037_row11_col1\" class=\"data row11 col1\" >0.0280</td>\n",
       "      <td id=\"T_a2037_row11_col2\" class=\"data row11 col2\" >0.1048</td>\n",
       "      <td id=\"T_a2037_row11_col3\" class=\"data row11 col3\" >0.1576</td>\n",
       "      <td id=\"T_a2037_row11_col4\" class=\"data row11 col4\" >0.1046</td>\n",
       "      <td id=\"T_a2037_row11_col5\" class=\"data row11 col5\" >0.1136</td>\n",
       "      <td id=\"T_a2037_row11_col6\" class=\"data row11 col6\" >0.1126</td>\n",
       "    </tr>\n",
       "  </tbody>\n",
       "</table>\n"
      ],
      "text/plain": [
       "<pandas.io.formats.style.Styler at 0x2d4ae8c40>"
      ]
     },
     "metadata": {},
     "output_type": "display_data"
    }
   ],
   "source": [
    "cb_model = create_model(\"catboost\")"
   ]
  },
  {
   "cell_type": "code",
   "execution_count": 25,
   "id": "807aec72",
   "metadata": {
    "ExecuteTime": {
     "end_time": "2022-12-17T08:38:34.970427Z",
     "start_time": "2022-12-17T08:38:33.627406Z"
    }
   },
   "outputs": [
    {
     "data": {
      "text/html": [
       "<style type=\"text/css\">\n",
       "#T_6de64_row10_col0, #T_6de64_row10_col1, #T_6de64_row10_col2, #T_6de64_row10_col3, #T_6de64_row10_col4, #T_6de64_row10_col5, #T_6de64_row10_col6 {\n",
       "  background: yellow;\n",
       "}\n",
       "</style>\n",
       "<table id=\"T_6de64\">\n",
       "  <thead>\n",
       "    <tr>\n",
       "      <th class=\"blank level0\" >&nbsp;</th>\n",
       "      <th id=\"T_6de64_level0_col0\" class=\"col_heading level0 col0\" >Accuracy</th>\n",
       "      <th id=\"T_6de64_level0_col1\" class=\"col_heading level0 col1\" >AUC</th>\n",
       "      <th id=\"T_6de64_level0_col2\" class=\"col_heading level0 col2\" >Recall</th>\n",
       "      <th id=\"T_6de64_level0_col3\" class=\"col_heading level0 col3\" >Prec.</th>\n",
       "      <th id=\"T_6de64_level0_col4\" class=\"col_heading level0 col4\" >F1</th>\n",
       "      <th id=\"T_6de64_level0_col5\" class=\"col_heading level0 col5\" >Kappa</th>\n",
       "      <th id=\"T_6de64_level0_col6\" class=\"col_heading level0 col6\" >MCC</th>\n",
       "    </tr>\n",
       "  </thead>\n",
       "  <tbody>\n",
       "    <tr>\n",
       "      <th id=\"T_6de64_level0_row0\" class=\"row_heading level0 row0\" >0</th>\n",
       "      <td id=\"T_6de64_row0_col0\" class=\"data row0 col0\" >0.9444</td>\n",
       "      <td id=\"T_6de64_row0_col1\" class=\"data row0 col1\" >0.9698</td>\n",
       "      <td id=\"T_6de64_row0_col2\" class=\"data row0 col2\" >0.6667</td>\n",
       "      <td id=\"T_6de64_row0_col3\" class=\"data row0 col3\" >0.7500</td>\n",
       "      <td id=\"T_6de64_row0_col4\" class=\"data row0 col4\" >0.7059</td>\n",
       "      <td id=\"T_6de64_row0_col5\" class=\"data row0 col5\" >0.6753</td>\n",
       "      <td id=\"T_6de64_row0_col6\" class=\"data row0 col6\" >0.6768</td>\n",
       "    </tr>\n",
       "    <tr>\n",
       "      <th id=\"T_6de64_level0_row1\" class=\"row_heading level0 row1\" >1</th>\n",
       "      <td id=\"T_6de64_row1_col0\" class=\"data row1 col0\" >0.9333</td>\n",
       "      <td id=\"T_6de64_row1_col1\" class=\"data row1 col1\" >0.9602</td>\n",
       "      <td id=\"T_6de64_row1_col2\" class=\"data row1 col2\" >0.7778</td>\n",
       "      <td id=\"T_6de64_row1_col3\" class=\"data row1 col3\" >0.6364</td>\n",
       "      <td id=\"T_6de64_row1_col4\" class=\"data row1 col4\" >0.7000</td>\n",
       "      <td id=\"T_6de64_row1_col5\" class=\"data row1 col5\" >0.6629</td>\n",
       "      <td id=\"T_6de64_row1_col6\" class=\"data row1 col6\" >0.6671</td>\n",
       "    </tr>\n",
       "    <tr>\n",
       "      <th id=\"T_6de64_level0_row2\" class=\"row_heading level0 row2\" >2</th>\n",
       "      <td id=\"T_6de64_row2_col0\" class=\"data row2 col0\" >0.9333</td>\n",
       "      <td id=\"T_6de64_row2_col1\" class=\"data row2 col1\" >0.9794</td>\n",
       "      <td id=\"T_6de64_row2_col2\" class=\"data row2 col2\" >0.4444</td>\n",
       "      <td id=\"T_6de64_row2_col3\" class=\"data row2 col3\" >0.8000</td>\n",
       "      <td id=\"T_6de64_row2_col4\" class=\"data row2 col4\" >0.5714</td>\n",
       "      <td id=\"T_6de64_row2_col5\" class=\"data row2 col5\" >0.5385</td>\n",
       "      <td id=\"T_6de64_row2_col6\" class=\"data row2 col6\" >0.5659</td>\n",
       "    </tr>\n",
       "    <tr>\n",
       "      <th id=\"T_6de64_level0_row3\" class=\"row_heading level0 row3\" >3</th>\n",
       "      <td id=\"T_6de64_row3_col0\" class=\"data row3 col0\" >0.9444</td>\n",
       "      <td id=\"T_6de64_row3_col1\" class=\"data row3 col1\" >0.8807</td>\n",
       "      <td id=\"T_6de64_row3_col2\" class=\"data row3 col2\" >0.5556</td>\n",
       "      <td id=\"T_6de64_row3_col3\" class=\"data row3 col3\" >0.8333</td>\n",
       "      <td id=\"T_6de64_row3_col4\" class=\"data row3 col4\" >0.6667</td>\n",
       "      <td id=\"T_6de64_row3_col5\" class=\"data row3 col5\" >0.6377</td>\n",
       "      <td id=\"T_6de64_row3_col6\" class=\"data row3 col6\" >0.6533</td>\n",
       "    </tr>\n",
       "    <tr>\n",
       "      <th id=\"T_6de64_level0_row4\" class=\"row_heading level0 row4\" >4</th>\n",
       "      <td id=\"T_6de64_row4_col0\" class=\"data row4 col0\" >0.9444</td>\n",
       "      <td id=\"T_6de64_row4_col1\" class=\"data row4 col1\" >0.9767</td>\n",
       "      <td id=\"T_6de64_row4_col2\" class=\"data row4 col2\" >0.6667</td>\n",
       "      <td id=\"T_6de64_row4_col3\" class=\"data row4 col3\" >0.7500</td>\n",
       "      <td id=\"T_6de64_row4_col4\" class=\"data row4 col4\" >0.7059</td>\n",
       "      <td id=\"T_6de64_row4_col5\" class=\"data row4 col5\" >0.6753</td>\n",
       "      <td id=\"T_6de64_row4_col6\" class=\"data row4 col6\" >0.6768</td>\n",
       "    </tr>\n",
       "    <tr>\n",
       "      <th id=\"T_6de64_level0_row5\" class=\"row_heading level0 row5\" >5</th>\n",
       "      <td id=\"T_6de64_row5_col0\" class=\"data row5 col0\" >0.9438</td>\n",
       "      <td id=\"T_6de64_row5_col1\" class=\"data row5 col1\" >0.9954</td>\n",
       "      <td id=\"T_6de64_row5_col2\" class=\"data row5 col2\" >0.3750</td>\n",
       "      <td id=\"T_6de64_row5_col3\" class=\"data row5 col3\" >1.0000</td>\n",
       "      <td id=\"T_6de64_row5_col4\" class=\"data row5 col4\" >0.5455</td>\n",
       "      <td id=\"T_6de64_row5_col5\" class=\"data row5 col5\" >0.5220</td>\n",
       "      <td id=\"T_6de64_row5_col6\" class=\"data row5 col6\" >0.5943</td>\n",
       "    </tr>\n",
       "    <tr>\n",
       "      <th id=\"T_6de64_level0_row6\" class=\"row_heading level0 row6\" >6</th>\n",
       "      <td id=\"T_6de64_row6_col0\" class=\"data row6 col0\" >0.8989</td>\n",
       "      <td id=\"T_6de64_row6_col1\" class=\"data row6 col1\" >0.9475</td>\n",
       "      <td id=\"T_6de64_row6_col2\" class=\"data row6 col2\" >0.3750</td>\n",
       "      <td id=\"T_6de64_row6_col3\" class=\"data row6 col3\" >0.4286</td>\n",
       "      <td id=\"T_6de64_row6_col4\" class=\"data row6 col4\" >0.4000</td>\n",
       "      <td id=\"T_6de64_row6_col5\" class=\"data row6 col5\" >0.3451</td>\n",
       "      <td id=\"T_6de64_row6_col6\" class=\"data row6 col6\" >0.3460</td>\n",
       "    </tr>\n",
       "    <tr>\n",
       "      <th id=\"T_6de64_level0_row7\" class=\"row_heading level0 row7\" >7</th>\n",
       "      <td id=\"T_6de64_row7_col0\" class=\"data row7 col0\" >0.9663</td>\n",
       "      <td id=\"T_6de64_row7_col1\" class=\"data row7 col1\" >0.9784</td>\n",
       "      <td id=\"T_6de64_row7_col2\" class=\"data row7 col2\" >0.6250</td>\n",
       "      <td id=\"T_6de64_row7_col3\" class=\"data row7 col3\" >1.0000</td>\n",
       "      <td id=\"T_6de64_row7_col4\" class=\"data row7 col4\" >0.7692</td>\n",
       "      <td id=\"T_6de64_row7_col5\" class=\"data row7 col5\" >0.7521</td>\n",
       "      <td id=\"T_6de64_row7_col6\" class=\"data row7 col6\" >0.7763</td>\n",
       "    </tr>\n",
       "    <tr>\n",
       "      <th id=\"T_6de64_level0_row8\" class=\"row_heading level0 row8\" >8</th>\n",
       "      <td id=\"T_6de64_row8_col0\" class=\"data row8 col0\" >0.9326</td>\n",
       "      <td id=\"T_6de64_row8_col1\" class=\"data row8 col1\" >0.9599</td>\n",
       "      <td id=\"T_6de64_row8_col2\" class=\"data row8 col2\" >0.5000</td>\n",
       "      <td id=\"T_6de64_row8_col3\" class=\"data row8 col3\" >0.6667</td>\n",
       "      <td id=\"T_6de64_row8_col4\" class=\"data row8 col4\" >0.5714</td>\n",
       "      <td id=\"T_6de64_row8_col5\" class=\"data row8 col5\" >0.5357</td>\n",
       "      <td id=\"T_6de64_row8_col6\" class=\"data row8 col6\" >0.5422</td>\n",
       "    </tr>\n",
       "    <tr>\n",
       "      <th id=\"T_6de64_level0_row9\" class=\"row_heading level0 row9\" >9</th>\n",
       "      <td id=\"T_6de64_row9_col0\" class=\"data row9 col0\" >0.9551</td>\n",
       "      <td id=\"T_6de64_row9_col1\" class=\"data row9 col1\" >0.9877</td>\n",
       "      <td id=\"T_6de64_row9_col2\" class=\"data row9 col2\" >0.6250</td>\n",
       "      <td id=\"T_6de64_row9_col3\" class=\"data row9 col3\" >0.8333</td>\n",
       "      <td id=\"T_6de64_row9_col4\" class=\"data row9 col4\" >0.7143</td>\n",
       "      <td id=\"T_6de64_row9_col5\" class=\"data row9 col5\" >0.6904</td>\n",
       "      <td id=\"T_6de64_row9_col6\" class=\"data row9 col6\" >0.6989</td>\n",
       "    </tr>\n",
       "    <tr>\n",
       "      <th id=\"T_6de64_level0_row10\" class=\"row_heading level0 row10\" >Mean</th>\n",
       "      <td id=\"T_6de64_row10_col0\" class=\"data row10 col0\" >0.9397</td>\n",
       "      <td id=\"T_6de64_row10_col1\" class=\"data row10 col1\" >0.9636</td>\n",
       "      <td id=\"T_6de64_row10_col2\" class=\"data row10 col2\" >0.5611</td>\n",
       "      <td id=\"T_6de64_row10_col3\" class=\"data row10 col3\" >0.7698</td>\n",
       "      <td id=\"T_6de64_row10_col4\" class=\"data row10 col4\" >0.6350</td>\n",
       "      <td id=\"T_6de64_row10_col5\" class=\"data row10 col5\" >0.6035</td>\n",
       "      <td id=\"T_6de64_row10_col6\" class=\"data row10 col6\" >0.6198</td>\n",
       "    </tr>\n",
       "    <tr>\n",
       "      <th id=\"T_6de64_level0_row11\" class=\"row_heading level0 row11\" >SD</th>\n",
       "      <td id=\"T_6de64_row11_col0\" class=\"data row11 col0\" >0.0168</td>\n",
       "      <td id=\"T_6de64_row11_col1\" class=\"data row11 col1\" >0.0307</td>\n",
       "      <td id=\"T_6de64_row11_col2\" class=\"data row11 col2\" >0.1281</td>\n",
       "      <td id=\"T_6de64_row11_col3\" class=\"data row11 col3\" >0.1614</td>\n",
       "      <td id=\"T_6de64_row11_col4\" class=\"data row11 col4\" >0.1053</td>\n",
       "      <td id=\"T_6de64_row11_col5\" class=\"data row11 col5\" >0.1127</td>\n",
       "      <td id=\"T_6de64_row11_col6\" class=\"data row11 col6\" >0.1119</td>\n",
       "    </tr>\n",
       "  </tbody>\n",
       "</table>\n"
      ],
      "text/plain": [
       "<pandas.io.formats.style.Styler at 0x2d4ae8f10>"
      ]
     },
     "metadata": {},
     "output_type": "display_data"
    }
   ],
   "source": [
    "xgb_model = create_model(\"xgboost\")"
   ]
  },
  {
   "cell_type": "code",
   "execution_count": 26,
   "id": "97c4adb0",
   "metadata": {
    "ExecuteTime": {
     "end_time": "2022-12-17T08:38:36.890146Z",
     "start_time": "2022-12-17T08:38:34.971267Z"
    }
   },
   "outputs": [
    {
     "data": {
      "text/html": [
       "<style type=\"text/css\">\n",
       "#T_9b587_row10_col0, #T_9b587_row10_col1, #T_9b587_row10_col2, #T_9b587_row10_col3, #T_9b587_row10_col4, #T_9b587_row10_col5, #T_9b587_row10_col6 {\n",
       "  background: yellow;\n",
       "}\n",
       "</style>\n",
       "<table id=\"T_9b587\">\n",
       "  <thead>\n",
       "    <tr>\n",
       "      <th class=\"blank level0\" >&nbsp;</th>\n",
       "      <th id=\"T_9b587_level0_col0\" class=\"col_heading level0 col0\" >Accuracy</th>\n",
       "      <th id=\"T_9b587_level0_col1\" class=\"col_heading level0 col1\" >AUC</th>\n",
       "      <th id=\"T_9b587_level0_col2\" class=\"col_heading level0 col2\" >Recall</th>\n",
       "      <th id=\"T_9b587_level0_col3\" class=\"col_heading level0 col3\" >Prec.</th>\n",
       "      <th id=\"T_9b587_level0_col4\" class=\"col_heading level0 col4\" >F1</th>\n",
       "      <th id=\"T_9b587_level0_col5\" class=\"col_heading level0 col5\" >Kappa</th>\n",
       "      <th id=\"T_9b587_level0_col6\" class=\"col_heading level0 col6\" >MCC</th>\n",
       "    </tr>\n",
       "  </thead>\n",
       "  <tbody>\n",
       "    <tr>\n",
       "      <th id=\"T_9b587_level0_row0\" class=\"row_heading level0 row0\" >0</th>\n",
       "      <td id=\"T_9b587_row0_col0\" class=\"data row0 col0\" >0.9556</td>\n",
       "      <td id=\"T_9b587_row0_col1\" class=\"data row0 col1\" >0.9781</td>\n",
       "      <td id=\"T_9b587_row0_col2\" class=\"data row0 col2\" >0.7778</td>\n",
       "      <td id=\"T_9b587_row0_col3\" class=\"data row0 col3\" >0.7778</td>\n",
       "      <td id=\"T_9b587_row0_col4\" class=\"data row0 col4\" >0.7778</td>\n",
       "      <td id=\"T_9b587_row0_col5\" class=\"data row0 col5\" >0.7531</td>\n",
       "      <td id=\"T_9b587_row0_col6\" class=\"data row0 col6\" >0.7531</td>\n",
       "    </tr>\n",
       "    <tr>\n",
       "      <th id=\"T_9b587_level0_row1\" class=\"row_heading level0 row1\" >1</th>\n",
       "      <td id=\"T_9b587_row1_col0\" class=\"data row1 col0\" >0.9222</td>\n",
       "      <td id=\"T_9b587_row1_col1\" class=\"data row1 col1\" >0.9492</td>\n",
       "      <td id=\"T_9b587_row1_col2\" class=\"data row1 col2\" >0.5556</td>\n",
       "      <td id=\"T_9b587_row1_col3\" class=\"data row1 col3\" >0.6250</td>\n",
       "      <td id=\"T_9b587_row1_col4\" class=\"data row1 col4\" >0.5882</td>\n",
       "      <td id=\"T_9b587_row1_col5\" class=\"data row1 col5\" >0.5455</td>\n",
       "      <td id=\"T_9b587_row1_col6\" class=\"data row1 col6\" >0.5466</td>\n",
       "    </tr>\n",
       "    <tr>\n",
       "      <th id=\"T_9b587_level0_row2\" class=\"row_heading level0 row2\" >2</th>\n",
       "      <td id=\"T_9b587_row2_col0\" class=\"data row2 col0\" >0.9444</td>\n",
       "      <td id=\"T_9b587_row2_col1\" class=\"data row2 col1\" >0.9808</td>\n",
       "      <td id=\"T_9b587_row2_col2\" class=\"data row2 col2\" >0.5556</td>\n",
       "      <td id=\"T_9b587_row2_col3\" class=\"data row2 col3\" >0.8333</td>\n",
       "      <td id=\"T_9b587_row2_col4\" class=\"data row2 col4\" >0.6667</td>\n",
       "      <td id=\"T_9b587_row2_col5\" class=\"data row2 col5\" >0.6377</td>\n",
       "      <td id=\"T_9b587_row2_col6\" class=\"data row2 col6\" >0.6533</td>\n",
       "    </tr>\n",
       "    <tr>\n",
       "      <th id=\"T_9b587_level0_row3\" class=\"row_heading level0 row3\" >3</th>\n",
       "      <td id=\"T_9b587_row3_col0\" class=\"data row3 col0\" >0.9333</td>\n",
       "      <td id=\"T_9b587_row3_col1\" class=\"data row3 col1\" >0.8820</td>\n",
       "      <td id=\"T_9b587_row3_col2\" class=\"data row3 col2\" >0.4444</td>\n",
       "      <td id=\"T_9b587_row3_col3\" class=\"data row3 col3\" >0.8000</td>\n",
       "      <td id=\"T_9b587_row3_col4\" class=\"data row3 col4\" >0.5714</td>\n",
       "      <td id=\"T_9b587_row3_col5\" class=\"data row3 col5\" >0.5385</td>\n",
       "      <td id=\"T_9b587_row3_col6\" class=\"data row3 col6\" >0.5659</td>\n",
       "    </tr>\n",
       "    <tr>\n",
       "      <th id=\"T_9b587_level0_row4\" class=\"row_heading level0 row4\" >4</th>\n",
       "      <td id=\"T_9b587_row4_col0\" class=\"data row4 col0\" >0.9333</td>\n",
       "      <td id=\"T_9b587_row4_col1\" class=\"data row4 col1\" >0.9671</td>\n",
       "      <td id=\"T_9b587_row4_col2\" class=\"data row4 col2\" >0.6667</td>\n",
       "      <td id=\"T_9b587_row4_col3\" class=\"data row4 col3\" >0.6667</td>\n",
       "      <td id=\"T_9b587_row4_col4\" class=\"data row4 col4\" >0.6667</td>\n",
       "      <td id=\"T_9b587_row4_col5\" class=\"data row4 col5\" >0.6296</td>\n",
       "      <td id=\"T_9b587_row4_col6\" class=\"data row4 col6\" >0.6296</td>\n",
       "    </tr>\n",
       "    <tr>\n",
       "      <th id=\"T_9b587_level0_row5\" class=\"row_heading level0 row5\" >5</th>\n",
       "      <td id=\"T_9b587_row5_col0\" class=\"data row5 col0\" >0.9663</td>\n",
       "      <td id=\"T_9b587_row5_col1\" class=\"data row5 col1\" >1.0000</td>\n",
       "      <td id=\"T_9b587_row5_col2\" class=\"data row5 col2\" >0.6250</td>\n",
       "      <td id=\"T_9b587_row5_col3\" class=\"data row5 col3\" >1.0000</td>\n",
       "      <td id=\"T_9b587_row5_col4\" class=\"data row5 col4\" >0.7692</td>\n",
       "      <td id=\"T_9b587_row5_col5\" class=\"data row5 col5\" >0.7521</td>\n",
       "      <td id=\"T_9b587_row5_col6\" class=\"data row5 col6\" >0.7763</td>\n",
       "    </tr>\n",
       "    <tr>\n",
       "      <th id=\"T_9b587_level0_row6\" class=\"row_heading level0 row6\" >6</th>\n",
       "      <td id=\"T_9b587_row6_col0\" class=\"data row6 col0\" >0.9326</td>\n",
       "      <td id=\"T_9b587_row6_col1\" class=\"data row6 col1\" >0.9722</td>\n",
       "      <td id=\"T_9b587_row6_col2\" class=\"data row6 col2\" >0.6250</td>\n",
       "      <td id=\"T_9b587_row6_col3\" class=\"data row6 col3\" >0.6250</td>\n",
       "      <td id=\"T_9b587_row6_col4\" class=\"data row6 col4\" >0.6250</td>\n",
       "      <td id=\"T_9b587_row6_col5\" class=\"data row6 col5\" >0.5880</td>\n",
       "      <td id=\"T_9b587_row6_col6\" class=\"data row6 col6\" >0.5880</td>\n",
       "    </tr>\n",
       "    <tr>\n",
       "      <th id=\"T_9b587_level0_row7\" class=\"row_heading level0 row7\" >7</th>\n",
       "      <td id=\"T_9b587_row7_col0\" class=\"data row7 col0\" >0.9551</td>\n",
       "      <td id=\"T_9b587_row7_col1\" class=\"data row7 col1\" >0.9769</td>\n",
       "      <td id=\"T_9b587_row7_col2\" class=\"data row7 col2\" >0.6250</td>\n",
       "      <td id=\"T_9b587_row7_col3\" class=\"data row7 col3\" >0.8333</td>\n",
       "      <td id=\"T_9b587_row7_col4\" class=\"data row7 col4\" >0.7143</td>\n",
       "      <td id=\"T_9b587_row7_col5\" class=\"data row7 col5\" >0.6904</td>\n",
       "      <td id=\"T_9b587_row7_col6\" class=\"data row7 col6\" >0.6989</td>\n",
       "    </tr>\n",
       "    <tr>\n",
       "      <th id=\"T_9b587_level0_row8\" class=\"row_heading level0 row8\" >8</th>\n",
       "      <td id=\"T_9b587_row8_col0\" class=\"data row8 col0\" >0.9551</td>\n",
       "      <td id=\"T_9b587_row8_col1\" class=\"data row8 col1\" >0.9707</td>\n",
       "      <td id=\"T_9b587_row8_col2\" class=\"data row8 col2\" >0.6250</td>\n",
       "      <td id=\"T_9b587_row8_col3\" class=\"data row8 col3\" >0.8333</td>\n",
       "      <td id=\"T_9b587_row8_col4\" class=\"data row8 col4\" >0.7143</td>\n",
       "      <td id=\"T_9b587_row8_col5\" class=\"data row8 col5\" >0.6904</td>\n",
       "      <td id=\"T_9b587_row8_col6\" class=\"data row8 col6\" >0.6989</td>\n",
       "    </tr>\n",
       "    <tr>\n",
       "      <th id=\"T_9b587_level0_row9\" class=\"row_heading level0 row9\" >9</th>\n",
       "      <td id=\"T_9b587_row9_col0\" class=\"data row9 col0\" >0.9551</td>\n",
       "      <td id=\"T_9b587_row9_col1\" class=\"data row9 col1\" >0.9830</td>\n",
       "      <td id=\"T_9b587_row9_col2\" class=\"data row9 col2\" >0.6250</td>\n",
       "      <td id=\"T_9b587_row9_col3\" class=\"data row9 col3\" >0.8333</td>\n",
       "      <td id=\"T_9b587_row9_col4\" class=\"data row9 col4\" >0.7143</td>\n",
       "      <td id=\"T_9b587_row9_col5\" class=\"data row9 col5\" >0.6904</td>\n",
       "      <td id=\"T_9b587_row9_col6\" class=\"data row9 col6\" >0.6989</td>\n",
       "    </tr>\n",
       "    <tr>\n",
       "      <th id=\"T_9b587_level0_row10\" class=\"row_heading level0 row10\" >Mean</th>\n",
       "      <td id=\"T_9b587_row10_col0\" class=\"data row10 col0\" >0.9453</td>\n",
       "      <td id=\"T_9b587_row10_col1\" class=\"data row10 col1\" >0.9660</td>\n",
       "      <td id=\"T_9b587_row10_col2\" class=\"data row10 col2\" >0.6125</td>\n",
       "      <td id=\"T_9b587_row10_col3\" class=\"data row10 col3\" >0.7828</td>\n",
       "      <td id=\"T_9b587_row10_col4\" class=\"data row10 col4\" >0.6808</td>\n",
       "      <td id=\"T_9b587_row10_col5\" class=\"data row10 col5\" >0.6516</td>\n",
       "      <td id=\"T_9b587_row10_col6\" class=\"data row10 col6\" >0.6609</td>\n",
       "    </tr>\n",
       "    <tr>\n",
       "      <th id=\"T_9b587_level0_row11\" class=\"row_heading level0 row11\" >SD</th>\n",
       "      <td id=\"T_9b587_row11_col0\" class=\"data row11 col0\" >0.0135</td>\n",
       "      <td id=\"T_9b587_row11_col1\" class=\"data row11 col1\" >0.0305</td>\n",
       "      <td id=\"T_9b587_row11_col2\" class=\"data row11 col2\" >0.0811</td>\n",
       "      <td id=\"T_9b587_row11_col3\" class=\"data row11 col3\" >0.1100</td>\n",
       "      <td id=\"T_9b587_row11_col4\" class=\"data row11 col4\" >0.0668</td>\n",
       "      <td id=\"T_9b587_row11_col5\" class=\"data row11 col5\" >0.0733</td>\n",
       "      <td id=\"T_9b587_row11_col6\" class=\"data row11 col6\" >0.0739</td>\n",
       "    </tr>\n",
       "  </tbody>\n",
       "</table>\n"
      ],
      "text/plain": [
       "<pandas.io.formats.style.Styler at 0x2d5739550>"
      ]
     },
     "metadata": {},
     "output_type": "display_data"
    }
   ],
   "source": [
    "lgbm_model = create_model(\"lightgbm\")"
   ]
  },
  {
   "cell_type": "code",
   "execution_count": null,
   "id": "fe55c0e0",
   "metadata": {
    "ExecuteTime": {
     "start_time": "2022-12-17T08:38:51.250Z"
    },
    "scrolled": false
   },
   "outputs": [
    {
     "data": {
      "application/vnd.jupyter.widget-view+json": {
       "model_id": "397ab0aee16b481994a77164f543a27f",
       "version_major": 2,
       "version_minor": 0
      },
      "text/plain": [
       "IntProgress(value=0, description='Processing: ', max=4)"
      ]
     },
     "metadata": {},
     "output_type": "display_data"
    },
    {
     "data": {
      "text/html": [
       "<div>\n",
       "<style scoped>\n",
       "    .dataframe tbody tr th:only-of-type {\n",
       "        vertical-align: middle;\n",
       "    }\n",
       "\n",
       "    .dataframe tbody tr th {\n",
       "        vertical-align: top;\n",
       "    }\n",
       "\n",
       "    .dataframe thead th {\n",
       "        text-align: right;\n",
       "    }\n",
       "</style>\n",
       "<table border=\"1\" class=\"dataframe\">\n",
       "  <thead>\n",
       "    <tr style=\"text-align: right;\">\n",
       "      <th></th>\n",
       "      <th></th>\n",
       "      <th></th>\n",
       "    </tr>\n",
       "    <tr>\n",
       "      <th></th>\n",
       "      <th></th>\n",
       "      <th></th>\n",
       "    </tr>\n",
       "  </thead>\n",
       "  <tbody>\n",
       "    <tr>\n",
       "      <th>Initiated</th>\n",
       "      <td>. . . . . . . . . . . . . . . . . .</td>\n",
       "      <td>17:38:51</td>\n",
       "    </tr>\n",
       "    <tr>\n",
       "      <th>Status</th>\n",
       "      <td>. . . . . . . . . . . . . . . . . .</td>\n",
       "      <td>Fitting 10 Folds</td>\n",
       "    </tr>\n",
       "    <tr>\n",
       "      <th>Estimator</th>\n",
       "      <td>. . . . . . . . . . . . . . . . . .</td>\n",
       "      <td>Random Forest Classifier</td>\n",
       "    </tr>\n",
       "  </tbody>\n",
       "</table>\n",
       "</div>"
      ],
      "text/plain": [
       "                                                                        \n",
       "                                                                        \n",
       "Initiated  . . . . . . . . . . . . . . . . . .                  17:38:51\n",
       "Status     . . . . . . . . . . . . . . . . . .          Fitting 10 Folds\n",
       "Estimator  . . . . . . . . . . . . . . . . . .  Random Forest Classifier"
      ]
     },
     "metadata": {},
     "output_type": "display_data"
    },
    {
     "data": {
      "text/html": [
       "<div>\n",
       "<style scoped>\n",
       "    .dataframe tbody tr th:only-of-type {\n",
       "        vertical-align: middle;\n",
       "    }\n",
       "\n",
       "    .dataframe tbody tr th {\n",
       "        vertical-align: top;\n",
       "    }\n",
       "\n",
       "    .dataframe thead th {\n",
       "        text-align: right;\n",
       "    }\n",
       "</style>\n",
       "<table border=\"1\" class=\"dataframe\">\n",
       "  <thead>\n",
       "    <tr style=\"text-align: right;\">\n",
       "      <th></th>\n",
       "      <th>Accuracy</th>\n",
       "      <th>AUC</th>\n",
       "      <th>Recall</th>\n",
       "      <th>Prec.</th>\n",
       "      <th>F1</th>\n",
       "      <th>Kappa</th>\n",
       "      <th>MCC</th>\n",
       "    </tr>\n",
       "  </thead>\n",
       "  <tbody>\n",
       "  </tbody>\n",
       "</table>\n",
       "</div>"
      ],
      "text/plain": [
       "Empty DataFrame\n",
       "Columns: [Accuracy, AUC, Recall, Prec., F1, Kappa, MCC]\n",
       "Index: []"
      ]
     },
     "metadata": {},
     "output_type": "display_data"
    }
   ],
   "source": [
    "rf_model = create_model(\"rf\")"
   ]
  },
  {
   "cell_type": "code",
   "execution_count": 13,
   "id": "489c26e8",
   "metadata": {
    "ExecuteTime": {
     "end_time": "2022-12-17T08:33:03.376793Z",
     "start_time": "2022-12-17T08:33:03.322984Z"
    }
   },
   "outputs": [
    {
     "name": "stdout",
     "output_type": "stream",
     "text": [
      "End!!\n"
     ]
    }
   ],
   "source": [
    "prediction_test = test\n",
    "\n",
    "def get_pred_label(model,x, k):\n",
    "    prob =(model.predict_proba(test)[:,0])\n",
    "    prob2 = torch.tensor(prob, dtype = torch.float)\n",
    "    \n",
    "    topk_indices = torch.topk(prob2, k = k, largest = False).indices\n",
    "    \n",
    "    pred = torch.zeros(len(x), dtype = torch.long)\n",
    "    pred[topk_indices] = 1\n",
    "    \n",
    "    return pred.tolist(), prob2.tolist()\n",
    "\n",
    "val_pred_lr, val_prob = get_pred_label(lr_model,prediction_test, 311)\n",
    "val_pred_cat, val_prob = get_pred_label(cb_model,prediction_test, 305)\n",
    "\n",
    "\n",
    "print(\"End!!\")\n"
   ]
  },
  {
   "cell_type": "code",
   "execution_count": 15,
   "id": "6ff8c753",
   "metadata": {
    "ExecuteTime": {
     "end_time": "2022-12-17T08:33:27.784591Z",
     "start_time": "2022-12-17T08:33:27.780247Z"
    }
   },
   "outputs": [],
   "source": [
    "result = np.array(val_pred_cat) + np.array(val_pred_lr)\n",
    "temp_result = np.where( result >=2,1,0) # 최종 결과"
   ]
  },
  {
   "cell_type": "markdown",
   "id": "0fecf184-57e8-4969-bce1-46da090bdd32",
   "metadata": {
    "id": "0fecf184-57e8-4969-bce1-46da090bdd32"
   },
   "source": [
    "## Submission"
   ]
  },
  {
   "cell_type": "code",
   "execution_count": 14,
   "id": "05157612-68bf-4102-a723-8c0ad0f76755",
   "metadata": {
    "ExecuteTime": {
     "end_time": "2022-12-17T08:33:25.575308Z",
     "start_time": "2022-12-17T08:33:25.509277Z"
    },
    "id": "05157612-68bf-4102-a723-8c0ad0f76755"
   },
   "outputs": [],
   "source": [
    "submit = pd.read_csv('./sample_submission.csv')"
   ]
  },
  {
   "cell_type": "code",
   "execution_count": 17,
   "id": "38b5a428-5c17-4056-a3fe-4f50e30412ef",
   "metadata": {
    "ExecuteTime": {
     "end_time": "2022-12-17T08:33:46.439536Z",
     "start_time": "2022-12-17T08:33:46.429471Z"
    },
    "id": "38b5a428-5c17-4056-a3fe-4f50e30412ef",
    "outputId": "88448099-2501-41bd-f990-cb8b5f05394e"
   },
   "outputs": [
    {
     "data": {
      "text/html": [
       "<div>\n",
       "<style scoped>\n",
       "    .dataframe tbody tr th:only-of-type {\n",
       "        vertical-align: middle;\n",
       "    }\n",
       "\n",
       "    .dataframe tbody tr th {\n",
       "        vertical-align: top;\n",
       "    }\n",
       "\n",
       "    .dataframe thead th {\n",
       "        text-align: right;\n",
       "    }\n",
       "</style>\n",
       "<table border=\"1\" class=\"dataframe\">\n",
       "  <thead>\n",
       "    <tr style=\"text-align: right;\">\n",
       "      <th></th>\n",
       "      <th>SAMPLE_ID</th>\n",
       "      <th>LABEL</th>\n",
       "    </tr>\n",
       "  </thead>\n",
       "  <tbody>\n",
       "    <tr>\n",
       "      <th>0</th>\n",
       "      <td>TEST_0000</td>\n",
       "      <td>0</td>\n",
       "    </tr>\n",
       "    <tr>\n",
       "      <th>1</th>\n",
       "      <td>TEST_0001</td>\n",
       "      <td>0</td>\n",
       "    </tr>\n",
       "    <tr>\n",
       "      <th>2</th>\n",
       "      <td>TEST_0002</td>\n",
       "      <td>0</td>\n",
       "    </tr>\n",
       "    <tr>\n",
       "      <th>3</th>\n",
       "      <td>TEST_0003</td>\n",
       "      <td>0</td>\n",
       "    </tr>\n",
       "    <tr>\n",
       "      <th>4</th>\n",
       "      <td>TEST_0004</td>\n",
       "      <td>0</td>\n",
       "    </tr>\n",
       "  </tbody>\n",
       "</table>\n",
       "</div>"
      ],
      "text/plain": [
       "   SAMPLE_ID  LABEL\n",
       "0  TEST_0000      0\n",
       "1  TEST_0001      0\n",
       "2  TEST_0002      0\n",
       "3  TEST_0003      0\n",
       "4  TEST_0004      0"
      ]
     },
     "execution_count": 17,
     "metadata": {},
     "output_type": "execute_result"
    }
   ],
   "source": [
    "submit['LABEL'] = temp_result\n",
    "submit.head()"
   ]
  },
  {
   "cell_type": "code",
   "execution_count": 18,
   "id": "b18282a8",
   "metadata": {
    "ExecuteTime": {
     "end_time": "2022-12-17T08:33:47.520773Z",
     "start_time": "2022-12-17T08:33:47.514444Z"
    },
    "id": "b18282a8",
    "outputId": "614656a7-47f7-402d-837c-792681d482b6"
   },
   "outputs": [
    {
     "data": {
      "text/plain": [
       "0    1325\n",
       "1     189\n",
       "Name: LABEL, dtype: int64"
      ]
     },
     "execution_count": 18,
     "metadata": {},
     "output_type": "execute_result"
    }
   ],
   "source": [
    "submit.LABEL.value_counts()"
   ]
  },
  {
   "cell_type": "code",
   "execution_count": 19,
   "id": "59c47261",
   "metadata": {
    "ExecuteTime": {
     "end_time": "2022-12-17T08:33:50.150185Z",
     "start_time": "2022-12-17T08:33:50.147095Z"
    },
    "id": "59c47261"
   },
   "outputs": [],
   "source": [
    "import datetime"
   ]
  },
  {
   "cell_type": "code",
   "execution_count": 20,
   "id": "6c1c8567-eacd-4de3-b5e2-490102224edd",
   "metadata": {
    "ExecuteTime": {
     "end_time": "2022-12-17T08:33:50.856329Z",
     "start_time": "2022-12-17T08:33:50.844027Z"
    },
    "id": "6c1c8567-eacd-4de3-b5e2-490102224edd"
   },
   "outputs": [],
   "source": [
    "path = '/Users/lhs/Desktop/GitHub/Dacon/230116_Machine_Error_Sound/result/'\n",
    "\n",
    "now = datetime.datetime.now().strftime('%Y-%m-%d_%H:%M:%S')\n",
    "submit.to_csv(f'{path}{now}.csv',encoding='utf-8', index=False)"
   ]
  },
  {
   "cell_type": "code",
   "execution_count": null,
   "id": "a9870cf4",
   "metadata": {
    "id": "a9870cf4"
   },
   "outputs": [],
   "source": []
  }
 ],
 "metadata": {
  "accelerator": "GPU",
  "colab": {
   "provenance": []
  },
  "gpuClass": "standard",
  "kernelspec": {
   "display_name": "Python 3 (ipykernel)",
   "language": "python",
   "name": "python3"
  },
  "language_info": {
   "codemirror_mode": {
    "name": "ipython",
    "version": 3
   },
   "file_extension": ".py",
   "mimetype": "text/x-python",
   "name": "python",
   "nbconvert_exporter": "python",
   "pygments_lexer": "ipython3",
   "version": "3.8.13"
  },
  "toc": {
   "base_numbering": 1,
   "nav_menu": {},
   "number_sections": false,
   "sideBar": true,
   "skip_h1_title": false,
   "title_cell": "Table of Contents",
   "title_sidebar": "Contents",
   "toc_cell": false,
   "toc_position": {},
   "toc_section_display": true,
   "toc_window_display": false
  }
 },
 "nbformat": 4,
 "nbformat_minor": 5
}
