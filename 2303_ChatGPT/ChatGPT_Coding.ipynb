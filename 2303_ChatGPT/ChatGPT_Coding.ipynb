{
 "cells": [
  {
   "cell_type": "markdown",
   "id": "6624c1bd",
   "metadata": {},
   "source": [
    "https://dacon.io/competitions/official/236071/overview/description"
   ]
  },
  {
   "cell_type": "code",
   "execution_count": null,
   "id": "50615e4f",
   "metadata": {},
   "outputs": [],
   "source": [
    "import pandas as pd\n",
    "from sklearn.feature_extraction.text import CountVectorizer\n",
    "import lightgbm as lgb\n",
    "\n",
    "# Load the training data\n",
    "train_data = pd.read_csv('train.csv')\n",
    "\n",
    "# Split the data into features and labels\n",
    "X_train = train_data['text']\n",
    "y_train = train_data['label']\n",
    "\n",
    "# Preprocess the text data using CountVectorizer\n",
    "vectorizer = CountVectorizer()\n",
    "X_train = vectorizer.fit_transform(X_train)\n",
    "\n",
    "# Train a LightGBM model\n",
    "params = {\n",
    "    'objective': 'multiclass',\n",
    "    'num_class': 8,\n",
    "    'metric': 'multi_logloss',\n",
    "}\n",
    "model = lgb.train(params, lgb.Dataset(X_train, label=y_train))\n",
    "\n",
    "# Load the test data\n",
    "test_data = pd.read_csv('test.csv')\n",
    "\n",
    "# Preprocess the test data using CountVectorizer\n",
    "X_test = test_data['text']\n",
    "X_test = vectorizer.transform(X_test)\n",
    "\n",
    "# Use the trained model to make predictions\n",
    "y_pred = model.predict(X_test)\n",
    "\n",
    "# Convert the predictions to labels\n",
    "y_pred = y_pred.argmax(axis=1)\n",
    "\n",
    "# Save the predictions to a submission file\n",
    "submission = pd.DataFrame({'id': test_data['id'], 'label': y_pred})\n",
    "submission.to_csv('submission.csv', index=False)"
   ]
  }
 ],
 "metadata": {
  "kernelspec": {
   "display_name": "Python 3 (ipykernel)",
   "language": "python",
   "name": "python3"
  },
  "language_info": {
   "codemirror_mode": {
    "name": "ipython",
    "version": 3
   },
   "file_extension": ".py",
   "mimetype": "text/x-python",
   "name": "python",
   "nbconvert_exporter": "python",
   "pygments_lexer": "ipython3",
   "version": "3.8.9"
  }
 },
 "nbformat": 4,
 "nbformat_minor": 5
}
